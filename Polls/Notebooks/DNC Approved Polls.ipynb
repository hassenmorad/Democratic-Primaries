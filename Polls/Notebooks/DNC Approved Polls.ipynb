{
 "cells": [
  {
   "cell_type": "markdown",
   "metadata": {},
   "source": [
    "### DNC-Approved Polls"
   ]
  },
  {
   "cell_type": "code",
   "execution_count": 1,
   "metadata": {},
   "outputs": [],
   "source": [
    "import pandas as pd\n",
    "import numpy as np\n",
    "import calendar\n",
    "import altair as alt"
   ]
  },
  {
   "cell_type": "code",
   "execution_count": 2,
   "metadata": {},
   "outputs": [],
   "source": [
    "file = pd.read_csv('scraped_polls_duplicates_removed.csv')"
   ]
  },
  {
   "cell_type": "code",
   "execution_count": 3,
   "metadata": {},
   "outputs": [],
   "source": [
    "# So that missing poll averages (indicated by -1) are ignored\n",
    "file = file.replace({-1:np.nan})"
   ]
  },
  {
   "cell_type": "code",
   "execution_count": 4,
   "metadata": {},
   "outputs": [],
   "source": [
    "file['Poll_End_Date'] = pd.to_datetime(file['Poll_End_Date'])"
   ]
  },
  {
   "cell_type": "code",
   "execution_count": 5,
   "metadata": {},
   "outputs": [],
   "source": [
    "file['Month'] = file['Poll_End_Date'].dt.month"
   ]
  },
  {
   "cell_type": "code",
   "execution_count": 6,
   "metadata": {},
   "outputs": [
    {
     "data": {
      "text/html": [
       "<div>\n",
       "<style scoped>\n",
       "    .dataframe tbody tr th:only-of-type {\n",
       "        vertical-align: middle;\n",
       "    }\n",
       "\n",
       "    .dataframe tbody tr th {\n",
       "        vertical-align: top;\n",
       "    }\n",
       "\n",
       "    .dataframe thead th {\n",
       "        text-align: right;\n",
       "    }\n",
       "</style>\n",
       "<table border=\"1\" class=\"dataframe\">\n",
       "  <thead>\n",
       "    <tr style=\"text-align: right;\">\n",
       "      <th></th>\n",
       "      <th>Dates</th>\n",
       "      <th>Region</th>\n",
       "      <th>Pollster</th>\n",
       "      <th>Sample</th>\n",
       "      <th>Voter_Type</th>\n",
       "      <th>Pollster_Grade</th>\n",
       "      <th>Biden</th>\n",
       "      <th>Sanders</th>\n",
       "      <th>Harris</th>\n",
       "      <th>Warren</th>\n",
       "      <th>...</th>\n",
       "      <th>Gabbard</th>\n",
       "      <th>Klobuchar</th>\n",
       "      <th>Steyer</th>\n",
       "      <th>Poll_End_Date</th>\n",
       "      <th>Cell</th>\n",
       "      <th>Landline</th>\n",
       "      <th>Text</th>\n",
       "      <th>Online</th>\n",
       "      <th>Mail</th>\n",
       "      <th>Month</th>\n",
       "    </tr>\n",
       "  </thead>\n",
       "  <tbody>\n",
       "    <tr>\n",
       "      <td>0</td>\n",
       "      <td>Sep 30-Oct 3, 2019</td>\n",
       "      <td>National</td>\n",
       "      <td>HarrisX</td>\n",
       "      <td>783</td>\n",
       "      <td>LV</td>\n",
       "      <td>C+</td>\n",
       "      <td>33.0</td>\n",
       "      <td>12.0</td>\n",
       "      <td>6.0</td>\n",
       "      <td>22.0</td>\n",
       "      <td>...</td>\n",
       "      <td>0.0</td>\n",
       "      <td>2.0</td>\n",
       "      <td>1.0</td>\n",
       "      <td>2019-10-03</td>\n",
       "      <td>NaN</td>\n",
       "      <td>NaN</td>\n",
       "      <td>NaN</td>\n",
       "      <td>1</td>\n",
       "      <td>NaN</td>\n",
       "      <td>10</td>\n",
       "    </tr>\n",
       "  </tbody>\n",
       "</table>\n",
       "<p>1 rows × 27 columns</p>\n",
       "</div>"
      ],
      "text/plain": [
       "                Dates    Region Pollster Sample Voter_Type Pollster_Grade  \\\n",
       "0  Sep 30-Oct 3, 2019  National  HarrisX    783         LV             C+   \n",
       "\n",
       "   Biden  Sanders  Harris  Warren  ...  Gabbard  Klobuchar  Steyer  \\\n",
       "0   33.0     12.0     6.0    22.0  ...      0.0        2.0     1.0   \n",
       "\n",
       "   Poll_End_Date  Cell  Landline  Text  Online  Mail  Month  \n",
       "0     2019-10-03   NaN       NaN   NaN       1   NaN     10  \n",
       "\n",
       "[1 rows x 27 columns]"
      ]
     },
     "execution_count": 6,
     "metadata": {},
     "output_type": "execute_result"
    }
   ],
   "source": [
    "file.head(1)"
   ]
  },
  {
   "cell_type": "code",
   "execution_count": 12,
   "metadata": {},
   "outputs": [
    {
     "data": {
      "text/plain": [
       "array(['ABC News/Washington Post', 'Avalanche Strategy',\n",
       "       'Bendixen & Amandi International', 'Benenson Strategy Group*',\n",
       "       'Bold Blue Campaigns', 'CBS News/YouGov', 'CNN', 'Capitol Weekly',\n",
       "       'Change Research', 'Chism Strategies', 'Civiqs',\n",
       "       'Claster Consulting', 'Climate Nexus', 'Crantford Research',\n",
       "       'D-CYFOR', 'David Binder Research', 'Denno Research',\n",
       "       'Des Moines Register', 'Echelon Insights', 'Emerson College',\n",
       "       'Firehouse Strategies/Øptimus', 'Florida Atlantic University',\n",
       "       'Fox News', 'Franklin & Marshall College', 'GBAO', 'GQR Research',\n",
       "       'Goucher College', 'Gravis Marketing', 'Hampton University',\n",
       "       'Harris Poll', 'HarrisX', 'High Point University', 'IBD/TIPP',\n",
       "       'Ipsos', 'Landmark Communications', 'Marquette Law School',\n",
       "       'McLaughlin & Associates', 'Monmouth University',\n",
       "       'Morning Consult', 'Muhlenberg College',\n",
       "       'NBC News/Wall Street Journal', 'Pew Research Center',\n",
       "       'Public Policy Institute of California', 'Public Policy Polling*',\n",
       "       'Quinnipiac University', 'RKM Research and Communications Inc.',\n",
       "       'Ragnar Research Partners', 'Remington Research Group',\n",
       "       'Research America Inc.', 'Saint Anselm College',\n",
       "       'Show Me Victories', 'Siena College', 'SoonerPoll',\n",
       "       'St. Pete Polls', 'SurveyMonkey', 'SurveyUSA',\n",
       "       'TargetPoint/GQR Research', 'Tel Opinion Research', 'Texas Lyceum',\n",
       "       'UC Berkeley', 'USA Today/Suffolk University',\n",
       "       'USC Dornsife/LA Times', 'University of New Hampshire',\n",
       "       'University of Texas at Tyler',\n",
       "       'Univision/University of Houston/Latino Decisions/North Star Opinion Research',\n",
       "       'Victory Research', 'WPA Intelligence*', 'We Ask America',\n",
       "       'Winthrop University', 'YouGov', 'YouGov Blue/Data for Progress',\n",
       "       'Zogby Analytics'], dtype=object)"
      ]
     },
     "execution_count": 12,
     "metadata": {},
     "output_type": "execute_result"
    }
   ],
   "source": [
    "file.Pollster.sort_values().unique()"
   ]
  },
  {
   "cell_type": "code",
   "execution_count": 8,
   "metadata": {},
   "outputs": [],
   "source": [
    "# From: https://democrats.org/news/dnc-announces-qualification-criteria-for-fifth-presidential-primary-debate/\n",
    "dnc_polls = ['Associated Press', 'ABC News/Washington Post', 'CBS News/YouGov', 'CNN', 'Des Moines Register', 'Fox News', \n",
    "             'Monmouth University', 'National Public Radio', 'NBC News/Wall Street Journal', 'NBC News/Marist', 'New York Times', \n",
    "             'Quinnipiac University', 'University of New Hampshire', 'USA Today/Suffolk University', 'Winthrop University']"
   ]
  },
  {
   "cell_type": "markdown",
   "metadata": {},
   "source": [
    "*Adjusting Names to Match FiveThirtyEight w/ DNC List"
   ]
  },
  {
   "cell_type": "code",
   "execution_count": 9,
   "metadata": {},
   "outputs": [],
   "source": [
    "file.Pollster = file.Pollster.replace({'Selzer & Co.':'Des Moines Register', \n",
    "                                       'CNN/SSRS':'CNN', \n",
    "                                       'Suffolk University':'USA Today/Suffolk University'})"
   ]
  },
  {
   "cell_type": "code",
   "execution_count": 10,
   "metadata": {},
   "outputs": [],
   "source": [
    "# Assigning new pollster name to YouGov polls done in state primary polls, since these were specifically done with/for CBS\n",
    "file.loc[((file.Pollster == 'YouGov') & (file.Region != 'National')), 'Pollster'] = 'CBS News/YouGov'"
   ]
  },
  {
   "cell_type": "markdown",
   "metadata": {},
   "source": [
    "Approved Pollsters That Haven't Released Polls:"
   ]
  },
  {
   "cell_type": "code",
   "execution_count": 11,
   "metadata": {},
   "outputs": [
    {
     "name": "stdout",
     "output_type": "stream",
     "text": [
      "Associated Press\n",
      "National Public Radio\n",
      "NBC News/Marist\n",
      "New York Times\n"
     ]
    }
   ],
   "source": [
    "for pollster in dnc_polls:\n",
    "    if pollster not in file.Pollster.unique():\n",
    "        print(pollster)"
   ]
  },
  {
   "cell_type": "markdown",
   "metadata": {},
   "source": [
    "---"
   ]
  },
  {
   "cell_type": "code",
   "execution_count": 13,
   "metadata": {},
   "outputs": [],
   "source": [
    "# Conditions:\n",
    "appr_poll = file.Pollster.isin(dnc_polls)\n",
    "appr_reg = file.Region.isin(['National', 'Iowa', 'New Hampshire', 'South Carolina', 'Nevada'])"
   ]
  },
  {
   "cell_type": "code",
   "execution_count": 16,
   "metadata": {},
   "outputs": [],
   "source": [
    "dnc_df = file[appr_poll & appr_reg].sort_values('Poll_End_Date', ascending=True)"
   ]
  },
  {
   "cell_type": "code",
   "execution_count": 17,
   "metadata": {},
   "outputs": [
    {
     "data": {
      "text/plain": [
       "69"
      ]
     },
     "execution_count": 17,
     "metadata": {},
     "output_type": "execute_result"
    }
   ],
   "source": [
    "len(dnc_df)"
   ]
  },
  {
   "cell_type": "code",
   "execution_count": 18,
   "metadata": {},
   "outputs": [],
   "source": [
    "non_dnc_df = file[~(appr_poll & appr_reg)]"
   ]
  },
  {
   "cell_type": "code",
   "execution_count": 19,
   "metadata": {},
   "outputs": [
    {
     "data": {
      "text/plain": [
       "354"
      ]
     },
     "execution_count": 19,
     "metadata": {},
     "output_type": "execute_result"
    }
   ],
   "source": [
    "len(non_dnc_df)"
   ]
  },
  {
   "cell_type": "code",
   "execution_count": 20,
   "metadata": {},
   "outputs": [
    {
     "data": {
      "text/plain": [
       "423"
      ]
     },
     "execution_count": 20,
     "metadata": {},
     "output_type": "execute_result"
    }
   ],
   "source": [
    "len(file)"
   ]
  },
  {
   "cell_type": "code",
   "execution_count": 21,
   "metadata": {},
   "outputs": [
    {
     "data": {
      "text/plain": [
       "National          37\n",
       "New Hampshire     11\n",
       "Iowa              10\n",
       "South Carolina     7\n",
       "Nevada             4\n",
       "Name: Region, dtype: int64"
      ]
     },
     "execution_count": 21,
     "metadata": {},
     "output_type": "execute_result"
    }
   ],
   "source": [
    "dnc_df.Region.value_counts()"
   ]
  },
  {
   "cell_type": "markdown",
   "metadata": {},
   "source": [
    "## (1) How Many Approved Polls Were Released?"
   ]
  },
  {
   "cell_type": "code",
   "execution_count": 22,
   "metadata": {},
   "outputs": [
    {
     "data": {
      "text/plain": [
       "69"
      ]
     },
     "execution_count": 22,
     "metadata": {},
     "output_type": "execute_result"
    }
   ],
   "source": [
    "len(dnc_df)"
   ]
  },
  {
   "cell_type": "code",
   "execution_count": 23,
   "metadata": {},
   "outputs": [
    {
     "data": {
      "text/plain": [
       "423"
      ]
     },
     "execution_count": 23,
     "metadata": {},
     "output_type": "execute_result"
    }
   ],
   "source": [
    "len(file)"
   ]
  },
  {
   "cell_type": "code",
   "execution_count": 24,
   "metadata": {},
   "outputs": [
    {
     "data": {
      "text/plain": [
       "16.3"
      ]
     },
     "execution_count": 24,
     "metadata": {},
     "output_type": "execute_result"
    }
   ],
   "source": [
    "round(69 / 423 * 100, 1)"
   ]
  },
  {
   "cell_type": "code",
   "execution_count": 22,
   "metadata": {},
   "outputs": [
    {
     "data": {
      "text/html": [
       "<div>\n",
       "<style scoped>\n",
       "    .dataframe tbody tr th:only-of-type {\n",
       "        vertical-align: middle;\n",
       "    }\n",
       "\n",
       "    .dataframe tbody tr th {\n",
       "        vertical-align: top;\n",
       "    }\n",
       "\n",
       "    .dataframe thead th {\n",
       "        text-align: right;\n",
       "    }\n",
       "</style>\n",
       "<table border=\"1\" class=\"dataframe\">\n",
       "  <thead>\n",
       "    <tr style=\"text-align: right;\">\n",
       "      <th></th>\n",
       "      <th>Dates</th>\n",
       "      <th>Region</th>\n",
       "      <th>Pollster</th>\n",
       "      <th>Sample</th>\n",
       "      <th>Voter_Type</th>\n",
       "      <th>Pollster_Grade</th>\n",
       "      <th>Biden</th>\n",
       "      <th>Sanders</th>\n",
       "      <th>Harris</th>\n",
       "      <th>Warren</th>\n",
       "      <th>Buttigieg</th>\n",
       "      <th>Booker</th>\n",
       "      <th>Yang</th>\n",
       "      <th>Williamson</th>\n",
       "      <th>O'Rourke</th>\n",
       "      <th>Delaney</th>\n",
       "      <th>Castro</th>\n",
       "      <th>Gabbard</th>\n",
       "      <th>Klobuchar</th>\n",
       "      <th>Steyer</th>\n",
       "    </tr>\n",
       "  </thead>\n",
       "  <tbody>\n",
       "    <tr>\n",
       "      <td>418</td>\n",
       "      <td>Dec 6-9, 2018</td>\n",
       "      <td>National</td>\n",
       "      <td>CNN</td>\n",
       "      <td>463</td>\n",
       "      <td>A</td>\n",
       "      <td>A-</td>\n",
       "      <td>30.0</td>\n",
       "      <td>14.0</td>\n",
       "      <td>4.0</td>\n",
       "      <td>3.0</td>\n",
       "      <td>NaN</td>\n",
       "      <td>5.0</td>\n",
       "      <td>NaN</td>\n",
       "      <td>NaN</td>\n",
       "      <td>9.0</td>\n",
       "      <td>0.0</td>\n",
       "      <td>0.0</td>\n",
       "      <td>NaN</td>\n",
       "      <td>3.0</td>\n",
       "      <td>0.0</td>\n",
       "    </tr>\n",
       "    <tr>\n",
       "      <td>415</td>\n",
       "      <td>Dec 10-13, 2018</td>\n",
       "      <td>Iowa</td>\n",
       "      <td>Des Moines Register</td>\n",
       "      <td>455</td>\n",
       "      <td>LV</td>\n",
       "      <td>A+</td>\n",
       "      <td>32.0</td>\n",
       "      <td>19.0</td>\n",
       "      <td>5.0</td>\n",
       "      <td>8.0</td>\n",
       "      <td>NaN</td>\n",
       "      <td>4.0</td>\n",
       "      <td>0.0</td>\n",
       "      <td>NaN</td>\n",
       "      <td>11.0</td>\n",
       "      <td>1.0</td>\n",
       "      <td>1.0</td>\n",
       "      <td>NaN</td>\n",
       "      <td>3.0</td>\n",
       "      <td>0.0</td>\n",
       "    </tr>\n",
       "    <tr>\n",
       "      <td>401</td>\n",
       "      <td>Jan 21-24, 2019</td>\n",
       "      <td>National</td>\n",
       "      <td>ABC News/Washington Post</td>\n",
       "      <td>447</td>\n",
       "      <td>A</td>\n",
       "      <td>A+</td>\n",
       "      <td>9.0</td>\n",
       "      <td>4.0</td>\n",
       "      <td>8.0</td>\n",
       "      <td>2.0</td>\n",
       "      <td>NaN</td>\n",
       "      <td>1.0</td>\n",
       "      <td>NaN</td>\n",
       "      <td>NaN</td>\n",
       "      <td>3.0</td>\n",
       "      <td>NaN</td>\n",
       "      <td>0.0</td>\n",
       "      <td>NaN</td>\n",
       "      <td>1.0</td>\n",
       "      <td>NaN</td>\n",
       "    </tr>\n",
       "    <tr>\n",
       "      <td>400</td>\n",
       "      <td>Jan 25-27, 2019</td>\n",
       "      <td>National</td>\n",
       "      <td>Monmouth University</td>\n",
       "      <td>313</td>\n",
       "      <td>RV</td>\n",
       "      <td>A+</td>\n",
       "      <td>29.0</td>\n",
       "      <td>16.0</td>\n",
       "      <td>11.0</td>\n",
       "      <td>8.0</td>\n",
       "      <td>0.0</td>\n",
       "      <td>4.0</td>\n",
       "      <td>1.0</td>\n",
       "      <td>NaN</td>\n",
       "      <td>7.0</td>\n",
       "      <td>0.0</td>\n",
       "      <td>1.0</td>\n",
       "      <td>1.0</td>\n",
       "      <td>2.0</td>\n",
       "      <td>NaN</td>\n",
       "    </tr>\n",
       "    <tr>\n",
       "      <td>388</td>\n",
       "      <td>Feb 7-15, 2019</td>\n",
       "      <td>New Hampshire</td>\n",
       "      <td>CBS News/YouGov</td>\n",
       "      <td>337</td>\n",
       "      <td>LV</td>\n",
       "      <td>B</td>\n",
       "      <td>28.0</td>\n",
       "      <td>20.0</td>\n",
       "      <td>14.0</td>\n",
       "      <td>9.0</td>\n",
       "      <td>NaN</td>\n",
       "      <td>3.0</td>\n",
       "      <td>NaN</td>\n",
       "      <td>NaN</td>\n",
       "      <td>6.0</td>\n",
       "      <td>NaN</td>\n",
       "      <td>1.0</td>\n",
       "      <td>NaN</td>\n",
       "      <td>1.0</td>\n",
       "      <td>NaN</td>\n",
       "    </tr>\n",
       "  </tbody>\n",
       "</table>\n",
       "</div>"
      ],
      "text/plain": [
       "               Dates         Region                  Pollster Sample  \\\n",
       "418    Dec 6-9, 2018       National                       CNN    463   \n",
       "415  Dec 10-13, 2018           Iowa       Des Moines Register    455   \n",
       "401  Jan 21-24, 2019       National  ABC News/Washington Post    447   \n",
       "400  Jan 25-27, 2019       National       Monmouth University    313   \n",
       "388   Feb 7-15, 2019  New Hampshire           CBS News/YouGov    337   \n",
       "\n",
       "    Voter_Type Pollster_Grade  Biden  Sanders  Harris  Warren  Buttigieg  \\\n",
       "418          A             A-   30.0     14.0     4.0     3.0        NaN   \n",
       "415         LV             A+   32.0     19.0     5.0     8.0        NaN   \n",
       "401          A             A+    9.0      4.0     8.0     2.0        NaN   \n",
       "400         RV             A+   29.0     16.0    11.0     8.0        0.0   \n",
       "388         LV              B   28.0     20.0    14.0     9.0        NaN   \n",
       "\n",
       "     Booker  Yang  Williamson  O'Rourke  Delaney  Castro  Gabbard  Klobuchar  \\\n",
       "418     5.0   NaN         NaN       9.0      0.0     0.0      NaN        3.0   \n",
       "415     4.0   0.0         NaN      11.0      1.0     1.0      NaN        3.0   \n",
       "401     1.0   NaN         NaN       3.0      NaN     0.0      NaN        1.0   \n",
       "400     4.0   1.0         NaN       7.0      0.0     1.0      1.0        2.0   \n",
       "388     3.0   NaN         NaN       6.0      NaN     1.0      NaN        1.0   \n",
       "\n",
       "     Steyer  \n",
       "418     0.0  \n",
       "415     0.0  \n",
       "401     NaN  \n",
       "400     NaN  \n",
       "388     NaN  "
      ]
     },
     "execution_count": 22,
     "metadata": {},
     "output_type": "execute_result"
    }
   ],
   "source": [
    "dnc_df.loc[:, :'Steyer'].head()"
   ]
  },
  {
   "cell_type": "code",
   "execution_count": 30,
   "metadata": {},
   "outputs": [
    {
     "data": {
      "text/plain": [
       "0.13"
      ]
     },
     "execution_count": 30,
     "metadata": {},
     "output_type": "execute_result"
    }
   ],
   "source": [
    "round(dnc_df[dnc_df.Williamson.isnull()].shape[0] / dnc_df.shape[0], 2)"
   ]
  },
  {
   "cell_type": "code",
   "execution_count": 29,
   "metadata": {},
   "outputs": [
    {
     "data": {
      "text/plain": [
       "0.32"
      ]
     },
     "execution_count": 29,
     "metadata": {},
     "output_type": "execute_result"
    }
   ],
   "source": [
    "round(non_dnc_df[non_dnc_df.Williamson.isnull()].shape[0] / non_dnc_df.shape[0], 2)"
   ]
  },
  {
   "cell_type": "code",
   "execution_count": 31,
   "metadata": {},
   "outputs": [
    {
     "data": {
      "text/plain": [
       "0.07"
      ]
     },
     "execution_count": 31,
     "metadata": {},
     "output_type": "execute_result"
    }
   ],
   "source": [
    "round(dnc_df[dnc_df.Yang.isnull()].shape[0] / dnc_df.shape[0], 2)"
   ]
  },
  {
   "cell_type": "code",
   "execution_count": 32,
   "metadata": {},
   "outputs": [
    {
     "data": {
      "text/plain": [
       "0.18"
      ]
     },
     "execution_count": 32,
     "metadata": {},
     "output_type": "execute_result"
    }
   ],
   "source": [
    "round(non_dnc_df[non_dnc_df.Yang.isnull()].shape[0] / non_dnc_df.shape[0], 2)"
   ]
  },
  {
   "cell_type": "code",
   "execution_count": 34,
   "metadata": {},
   "outputs": [
    {
     "data": {
      "text/plain": [
       "0.0"
      ]
     },
     "execution_count": 34,
     "metadata": {},
     "output_type": "execute_result"
    }
   ],
   "source": [
    "round(dnc_df[dnc_df.Booker.isnull()].shape[0] / dnc_df.shape[0], 2)"
   ]
  },
  {
   "cell_type": "code",
   "execution_count": 33,
   "metadata": {},
   "outputs": [
    {
     "data": {
      "text/plain": [
       "0.03"
      ]
     },
     "execution_count": 33,
     "metadata": {},
     "output_type": "execute_result"
    }
   ],
   "source": [
    "round(non_dnc_df[non_dnc_df.Booker.isnull()].shape[0] / non_dnc_df.shape[0], 2)"
   ]
  },
  {
   "cell_type": "markdown",
   "metadata": {},
   "source": [
    "---"
   ]
  },
  {
   "cell_type": "markdown",
   "metadata": {},
   "source": [
    "Monthly Counts:"
   ]
  },
  {
   "cell_type": "code",
   "execution_count": 23,
   "metadata": {},
   "outputs": [],
   "source": [
    "total_counts = []\n",
    "for month in dnc_df.Month.unique():\n",
    "    df = dnc_df[dnc_df.Month == month]\n",
    "    # Counting multiple polls from same pollster on same date as one poll\n",
    "    poll_count = 0\n",
    "    for pollster in df.Pollster.unique():\n",
    "        poll_count +=  len(df['Poll_End_Date'][df.Pollster == pollster])\n",
    "    total_counts.append(poll_count)"
   ]
  },
  {
   "cell_type": "code",
   "execution_count": 24,
   "metadata": {},
   "outputs": [],
   "source": [
    "months = [calendar.month_abbr[x] for x in dnc_df.Month.unique()]"
   ]
  },
  {
   "cell_type": "code",
   "execution_count": 25,
   "metadata": {},
   "outputs": [
    {
     "data": {
      "text/html": [
       "<div>\n",
       "<style scoped>\n",
       "    .dataframe tbody tr th:only-of-type {\n",
       "        vertical-align: middle;\n",
       "    }\n",
       "\n",
       "    .dataframe tbody tr th {\n",
       "        vertical-align: top;\n",
       "    }\n",
       "\n",
       "    .dataframe thead th {\n",
       "        text-align: right;\n",
       "    }\n",
       "</style>\n",
       "<table border=\"1\" class=\"dataframe\">\n",
       "  <thead>\n",
       "    <tr style=\"text-align: right;\">\n",
       "      <th></th>\n",
       "      <th>Month</th>\n",
       "      <th>Count</th>\n",
       "    </tr>\n",
       "  </thead>\n",
       "  <tbody>\n",
       "    <tr>\n",
       "      <td>0</td>\n",
       "      <td>Dec</td>\n",
       "      <td>2</td>\n",
       "    </tr>\n",
       "    <tr>\n",
       "      <td>1</td>\n",
       "      <td>Jan</td>\n",
       "      <td>2</td>\n",
       "    </tr>\n",
       "    <tr>\n",
       "      <td>2</td>\n",
       "      <td>Feb</td>\n",
       "      <td>2</td>\n",
       "    </tr>\n",
       "    <tr>\n",
       "      <td>3</td>\n",
       "      <td>Mar</td>\n",
       "      <td>5</td>\n",
       "    </tr>\n",
       "    <tr>\n",
       "      <td>4</td>\n",
       "      <td>Apr</td>\n",
       "      <td>7</td>\n",
       "    </tr>\n",
       "    <tr>\n",
       "      <td>5</td>\n",
       "      <td>May</td>\n",
       "      <td>5</td>\n",
       "    </tr>\n",
       "    <tr>\n",
       "      <td>6</td>\n",
       "      <td>Jun</td>\n",
       "      <td>10</td>\n",
       "    </tr>\n",
       "    <tr>\n",
       "      <td>7</td>\n",
       "      <td>Jul</td>\n",
       "      <td>12</td>\n",
       "    </tr>\n",
       "    <tr>\n",
       "      <td>8</td>\n",
       "      <td>Aug</td>\n",
       "      <td>8</td>\n",
       "    </tr>\n",
       "    <tr>\n",
       "      <td>9</td>\n",
       "      <td>Sep</td>\n",
       "      <td>16</td>\n",
       "    </tr>\n",
       "  </tbody>\n",
       "</table>\n",
       "</div>"
      ],
      "text/plain": [
       "  Month  Count\n",
       "0   Dec      2\n",
       "1   Jan      2\n",
       "2   Feb      2\n",
       "3   Mar      5\n",
       "4   Apr      7\n",
       "5   May      5\n",
       "6   Jun     10\n",
       "7   Jul     12\n",
       "8   Aug      8\n",
       "9   Sep     16"
      ]
     },
     "execution_count": 25,
     "metadata": {},
     "output_type": "execute_result"
    }
   ],
   "source": [
    "# Produced chart w/ this data via DataWrapper\n",
    "dnc_monthly_totals = pd.DataFrame({'Month':months, \n",
    "                                   'Count':total_counts})\n",
    "dnc_monthly_totals"
   ]
  },
  {
   "cell_type": "code",
   "execution_count": 26,
   "metadata": {},
   "outputs": [
    {
     "data": {
      "application/vnd.vegalite.v3+json": {
       "$schema": "https://vega.github.io/schema/vega-lite/v3.4.0.json",
       "background": "white",
       "config": {
        "mark": {
         "tooltip": null
        },
        "view": {
         "height": 300,
         "width": 400
        }
       },
       "data": {
        "name": "data-7bb27a3f74555eb13814fc0d8cb89a7e"
       },
       "datasets": {
        "data-7bb27a3f74555eb13814fc0d8cb89a7e": [
         {
          "Count": 2,
          "Month": "Dec"
         },
         {
          "Count": 2,
          "Month": "Jan"
         },
         {
          "Count": 2,
          "Month": "Feb"
         },
         {
          "Count": 5,
          "Month": "Mar"
         },
         {
          "Count": 7,
          "Month": "Apr"
         },
         {
          "Count": 5,
          "Month": "May"
         },
         {
          "Count": 10,
          "Month": "Jun"
         },
         {
          "Count": 12,
          "Month": "Jul"
         },
         {
          "Count": 8,
          "Month": "Aug"
         },
         {
          "Count": 16,
          "Month": "Sep"
         }
        ]
       },
       "encoding": {
        "x": {
         "field": "Month",
         "sort": [
          "Dec",
          "Jan",
          "Feb",
          "Mar",
          "Apr",
          "May",
          "Jun",
          "Jul",
          "Aug",
          "Sep"
         ],
         "title": null,
         "type": "nominal"
        },
        "y": {
         "field": "Count",
         "type": "quantitative"
        }
       },
       "mark": "bar",
       "title": "DNC Polls Released",
       "width": 300
      },
      "image/png": "[encoded data removed]",
      "text/plain": [
       "<VegaLite 3 object>\n",
       "\n",
       "If you see this message, it means the renderer has not been properly enabled\n",
       "for the frontend that you are using. For more information, see\n",
       "https://altair-viz.github.io/user_guide/troubleshooting.html\n"
      ]
     },
     "execution_count": 26,
     "metadata": {},
     "output_type": "execute_result"
    }
   ],
   "source": [
    "alt.Chart(dnc_monthly_totals, title='DNC Polls Released').mark_bar().encode(\n",
    "x=alt.X('Month', sort=months, title=None),\n",
    "y='Count').properties(background='white', width=300)"
   ]
  },
  {
   "cell_type": "markdown",
   "metadata": {},
   "source": [
    "Monthly Counts By Region:"
   ]
  },
  {
   "cell_type": "code",
   "execution_count": 27,
   "metadata": {},
   "outputs": [],
   "source": [
    "state_counts = []\n",
    "nat_counts = []\n",
    "\n",
    "for month in dnc_df.Month.unique():\n",
    "    df = dnc_df[dnc_df.Month == month]\n",
    "    # Counting multiple polls from same pollster on same date as one poll\n",
    "    state_count = 0\n",
    "    nat_count = 0\n",
    "    for pollster in df.Pollster.unique():\n",
    "        state_count +=  len(df['Poll_End_Date'][(df.Pollster == pollster) & (df.Region != 'National')])\n",
    "        nat_count +=  len(df['Poll_End_Date'][(df.Pollster == pollster)  & (df.Region == 'National')])\n",
    "    state_counts.append(state_count)\n",
    "    nat_counts.append(nat_count)"
   ]
  },
  {
   "cell_type": "code",
   "execution_count": 28,
   "metadata": {},
   "outputs": [
    {
     "data": {
      "text/html": [
       "<div>\n",
       "<style scoped>\n",
       "    .dataframe tbody tr th:only-of-type {\n",
       "        vertical-align: middle;\n",
       "    }\n",
       "\n",
       "    .dataframe tbody tr th {\n",
       "        vertical-align: top;\n",
       "    }\n",
       "\n",
       "    .dataframe thead th {\n",
       "        text-align: right;\n",
       "    }\n",
       "</style>\n",
       "<table border=\"1\" class=\"dataframe\">\n",
       "  <thead>\n",
       "    <tr style=\"text-align: right;\">\n",
       "      <th></th>\n",
       "      <th>Month</th>\n",
       "      <th>State_Count</th>\n",
       "      <th>Nat_Count</th>\n",
       "    </tr>\n",
       "  </thead>\n",
       "  <tbody>\n",
       "    <tr>\n",
       "      <td>0</td>\n",
       "      <td>Dec</td>\n",
       "      <td>1</td>\n",
       "      <td>1</td>\n",
       "    </tr>\n",
       "    <tr>\n",
       "      <td>1</td>\n",
       "      <td>Jan</td>\n",
       "      <td>0</td>\n",
       "      <td>2</td>\n",
       "    </tr>\n",
       "    <tr>\n",
       "      <td>2</td>\n",
       "      <td>Feb</td>\n",
       "      <td>2</td>\n",
       "      <td>0</td>\n",
       "    </tr>\n",
       "    <tr>\n",
       "      <td>3</td>\n",
       "      <td>Mar</td>\n",
       "      <td>1</td>\n",
       "      <td>4</td>\n",
       "    </tr>\n",
       "    <tr>\n",
       "      <td>4</td>\n",
       "      <td>Apr</td>\n",
       "      <td>3</td>\n",
       "      <td>4</td>\n",
       "    </tr>\n",
       "    <tr>\n",
       "      <td>5</td>\n",
       "      <td>May</td>\n",
       "      <td>1</td>\n",
       "      <td>4</td>\n",
       "    </tr>\n",
       "    <tr>\n",
       "      <td>6</td>\n",
       "      <td>Jun</td>\n",
       "      <td>5</td>\n",
       "      <td>5</td>\n",
       "    </tr>\n",
       "    <tr>\n",
       "      <td>7</td>\n",
       "      <td>Jul</td>\n",
       "      <td>7</td>\n",
       "      <td>5</td>\n",
       "    </tr>\n",
       "    <tr>\n",
       "      <td>8</td>\n",
       "      <td>Aug</td>\n",
       "      <td>2</td>\n",
       "      <td>6</td>\n",
       "    </tr>\n",
       "    <tr>\n",
       "      <td>9</td>\n",
       "      <td>Sep</td>\n",
       "      <td>10</td>\n",
       "      <td>6</td>\n",
       "    </tr>\n",
       "  </tbody>\n",
       "</table>\n",
       "</div>"
      ],
      "text/plain": [
       "  Month  State_Count  Nat_Count\n",
       "0   Dec            1          1\n",
       "1   Jan            0          2\n",
       "2   Feb            2          0\n",
       "3   Mar            1          4\n",
       "4   Apr            3          4\n",
       "5   May            1          4\n",
       "6   Jun            5          5\n",
       "7   Jul            7          5\n",
       "8   Aug            2          6\n",
       "9   Sep           10          6"
      ]
     },
     "execution_count": 28,
     "metadata": {},
     "output_type": "execute_result"
    }
   ],
   "source": [
    "# Produced chart w/ this data via DataWrapper\n",
    "dnc_monthly_totals = pd.DataFrame({'Month':months, \n",
    "                                   'State_Count':state_counts,\n",
    "                                   'Nat_Count':nat_counts})\n",
    "dnc_monthly_totals"
   ]
  },
  {
   "cell_type": "markdown",
   "metadata": {},
   "source": [
    "---"
   ]
  },
  {
   "cell_type": "markdown",
   "metadata": {},
   "source": [
    "## (2) DNC-Approved Polls Bias?"
   ]
  },
  {
   "cell_type": "code",
   "execution_count": 29,
   "metadata": {},
   "outputs": [],
   "source": [
    "# To display earlier months first\n",
    "non_dnc_df = non_dnc_df[::-1]"
   ]
  },
  {
   "cell_type": "code",
   "execution_count": 30,
   "metadata": {},
   "outputs": [
    {
     "data": {
      "text/plain": [
       "array([12,  1,  2,  3,  4,  5,  6,  7,  8,  9], dtype=int64)"
      ]
     },
     "execution_count": 30,
     "metadata": {},
     "output_type": "execute_result"
    }
   ],
   "source": [
    "dnc_df.Month.unique()"
   ]
  },
  {
   "cell_type": "code",
   "execution_count": 31,
   "metadata": {},
   "outputs": [
    {
     "data": {
      "text/html": [
       "<div>\n",
       "<style scoped>\n",
       "    .dataframe tbody tr th:only-of-type {\n",
       "        vertical-align: middle;\n",
       "    }\n",
       "\n",
       "    .dataframe tbody tr th {\n",
       "        vertical-align: top;\n",
       "    }\n",
       "\n",
       "    .dataframe thead th {\n",
       "        text-align: right;\n",
       "    }\n",
       "</style>\n",
       "<table border=\"1\" class=\"dataframe\">\n",
       "  <thead>\n",
       "    <tr style=\"text-align: right;\">\n",
       "      <th></th>\n",
       "      <th>Dates</th>\n",
       "      <th>Region</th>\n",
       "      <th>Pollster</th>\n",
       "      <th>Sample</th>\n",
       "      <th>Voter_Type</th>\n",
       "      <th>Pollster_Grade</th>\n",
       "      <th>Biden</th>\n",
       "      <th>Sanders</th>\n",
       "      <th>Harris</th>\n",
       "      <th>Warren</th>\n",
       "      <th>...</th>\n",
       "      <th>Gabbard</th>\n",
       "      <th>Klobuchar</th>\n",
       "      <th>Steyer</th>\n",
       "      <th>Poll_End_Date</th>\n",
       "      <th>Cell</th>\n",
       "      <th>Landline</th>\n",
       "      <th>Text</th>\n",
       "      <th>Online</th>\n",
       "      <th>Mail</th>\n",
       "      <th>Month</th>\n",
       "    </tr>\n",
       "  </thead>\n",
       "  <tbody>\n",
       "    <tr>\n",
       "      <td>0</td>\n",
       "      <td>Sep 30-Oct 3, 2019</td>\n",
       "      <td>National</td>\n",
       "      <td>HarrisX</td>\n",
       "      <td>783</td>\n",
       "      <td>LV</td>\n",
       "      <td>C+</td>\n",
       "      <td>33.0</td>\n",
       "      <td>12.0</td>\n",
       "      <td>6.0</td>\n",
       "      <td>22.0</td>\n",
       "      <td>...</td>\n",
       "      <td>0.0</td>\n",
       "      <td>2.0</td>\n",
       "      <td>1.0</td>\n",
       "      <td>2019-10-03</td>\n",
       "      <td>NaN</td>\n",
       "      <td>NaN</td>\n",
       "      <td>NaN</td>\n",
       "      <td>1</td>\n",
       "      <td>NaN</td>\n",
       "      <td>10</td>\n",
       "    </tr>\n",
       "  </tbody>\n",
       "</table>\n",
       "<p>1 rows × 27 columns</p>\n",
       "</div>"
      ],
      "text/plain": [
       "                Dates    Region Pollster Sample Voter_Type Pollster_Grade  \\\n",
       "0  Sep 30-Oct 3, 2019  National  HarrisX    783         LV             C+   \n",
       "\n",
       "   Biden  Sanders  Harris  Warren  ...  Gabbard  Klobuchar  Steyer  \\\n",
       "0   33.0     12.0     6.0    22.0  ...      0.0        2.0     1.0   \n",
       "\n",
       "   Poll_End_Date  Cell  Landline  Text  Online  Mail  Month  \n",
       "0     2019-10-03   NaN       NaN   NaN       1   NaN     10  \n",
       "\n",
       "[1 rows x 27 columns]"
      ]
     },
     "execution_count": 31,
     "metadata": {},
     "output_type": "execute_result"
    }
   ],
   "source": [
    "non_dnc_df.tail(1)"
   ]
  },
  {
   "cell_type": "markdown",
   "metadata": {},
   "source": [
    "Cumulative Avg. Poll #s"
   ]
  },
  {
   "cell_type": "code",
   "execution_count": 32,
   "metadata": {},
   "outputs": [],
   "source": [
    "appr_avg = []\n",
    "non_appr_avg = []\n",
    "for cand in non_dnc_df.columns[6:-7]:\n",
    "    appr_avg.append(dnc_df[cand].mean().round(1))\n",
    "    non_appr_avg.append(non_dnc_df[cand].mean().round(1))"
   ]
  },
  {
   "cell_type": "code",
   "execution_count": 33,
   "metadata": {},
   "outputs": [
    {
     "data": {
      "text/html": [
       "<div>\n",
       "<style scoped>\n",
       "    .dataframe tbody tr th:only-of-type {\n",
       "        vertical-align: middle;\n",
       "    }\n",
       "\n",
       "    .dataframe tbody tr th {\n",
       "        vertical-align: top;\n",
       "    }\n",
       "\n",
       "    .dataframe thead th {\n",
       "        text-align: right;\n",
       "    }\n",
       "</style>\n",
       "<table border=\"1\" class=\"dataframe\">\n",
       "  <thead>\n",
       "    <tr style=\"text-align: right;\">\n",
       "      <th></th>\n",
       "      <th>Candidate</th>\n",
       "      <th>DNC-Approved</th>\n",
       "      <th>Non-Approved</th>\n",
       "      <th>Difference</th>\n",
       "    </tr>\n",
       "  </thead>\n",
       "  <tbody>\n",
       "    <tr>\n",
       "      <td>0</td>\n",
       "      <td>Biden</td>\n",
       "      <td>28.9</td>\n",
       "      <td>29.2</td>\n",
       "      <td>-0.3</td>\n",
       "    </tr>\n",
       "    <tr>\n",
       "      <td>1</td>\n",
       "      <td>Sanders</td>\n",
       "      <td>16.5</td>\n",
       "      <td>17.0</td>\n",
       "      <td>-0.5</td>\n",
       "    </tr>\n",
       "    <tr>\n",
       "      <td>3</td>\n",
       "      <td>Warren</td>\n",
       "      <td>13.5</td>\n",
       "      <td>13.2</td>\n",
       "      <td>0.3</td>\n",
       "    </tr>\n",
       "    <tr>\n",
       "      <td>2</td>\n",
       "      <td>Harris</td>\n",
       "      <td>8.1</td>\n",
       "      <td>8.4</td>\n",
       "      <td>-0.3</td>\n",
       "    </tr>\n",
       "    <tr>\n",
       "      <td>4</td>\n",
       "      <td>Buttigieg</td>\n",
       "      <td>6.0</td>\n",
       "      <td>6.1</td>\n",
       "      <td>-0.1</td>\n",
       "    </tr>\n",
       "    <tr>\n",
       "      <td>8</td>\n",
       "      <td>O'Rourke</td>\n",
       "      <td>3.2</td>\n",
       "      <td>4.4</td>\n",
       "      <td>-1.2</td>\n",
       "    </tr>\n",
       "    <tr>\n",
       "      <td>5</td>\n",
       "      <td>Booker</td>\n",
       "      <td>2.3</td>\n",
       "      <td>2.6</td>\n",
       "      <td>-0.3</td>\n",
       "    </tr>\n",
       "    <tr>\n",
       "      <td>12</td>\n",
       "      <td>Klobuchar</td>\n",
       "      <td>1.6</td>\n",
       "      <td>1.4</td>\n",
       "      <td>0.2</td>\n",
       "    </tr>\n",
       "    <tr>\n",
       "      <td>6</td>\n",
       "      <td>Yang</td>\n",
       "      <td>1.4</td>\n",
       "      <td>1.7</td>\n",
       "      <td>-0.3</td>\n",
       "    </tr>\n",
       "    <tr>\n",
       "      <td>13</td>\n",
       "      <td>Steyer</td>\n",
       "      <td>1.2</td>\n",
       "      <td>0.7</td>\n",
       "      <td>0.5</td>\n",
       "    </tr>\n",
       "    <tr>\n",
       "      <td>11</td>\n",
       "      <td>Gabbard</td>\n",
       "      <td>0.8</td>\n",
       "      <td>1.0</td>\n",
       "      <td>-0.2</td>\n",
       "    </tr>\n",
       "    <tr>\n",
       "      <td>10</td>\n",
       "      <td>Castro</td>\n",
       "      <td>0.7</td>\n",
       "      <td>1.1</td>\n",
       "      <td>-0.4</td>\n",
       "    </tr>\n",
       "    <tr>\n",
       "      <td>7</td>\n",
       "      <td>Williamson</td>\n",
       "      <td>0.4</td>\n",
       "      <td>0.4</td>\n",
       "      <td>0.0</td>\n",
       "    </tr>\n",
       "    <tr>\n",
       "      <td>9</td>\n",
       "      <td>Delaney</td>\n",
       "      <td>0.4</td>\n",
       "      <td>0.5</td>\n",
       "      <td>-0.1</td>\n",
       "    </tr>\n",
       "  </tbody>\n",
       "</table>\n",
       "</div>"
      ],
      "text/plain": [
       "     Candidate  DNC-Approved  Non-Approved  Difference\n",
       "0        Biden          28.9          29.2        -0.3\n",
       "1      Sanders          16.5          17.0        -0.5\n",
       "3       Warren          13.5          13.2         0.3\n",
       "2       Harris           8.1           8.4        -0.3\n",
       "4    Buttigieg           6.0           6.1        -0.1\n",
       "8     O'Rourke           3.2           4.4        -1.2\n",
       "5       Booker           2.3           2.6        -0.3\n",
       "12   Klobuchar           1.6           1.4         0.2\n",
       "6         Yang           1.4           1.7        -0.3\n",
       "13      Steyer           1.2           0.7         0.5\n",
       "11     Gabbard           0.8           1.0        -0.2\n",
       "10      Castro           0.7           1.1        -0.4\n",
       "7   Williamson           0.4           0.4         0.0\n",
       "9      Delaney           0.4           0.5        -0.1"
      ]
     },
     "execution_count": 33,
     "metadata": {},
     "output_type": "execute_result"
    }
   ],
   "source": [
    "# Produced chart w/ this data via DataWrapper\n",
    "cumulative = pd.DataFrame({'Candidate':dnc_df.columns[6:-7], 'DNC-Approved':appr_avg, 'Non-Approved':non_appr_avg}).sort_values('DNC-Approved', ascending=False)\n",
    "cumulative['Difference'] = cumulative['DNC-Approved'] - cumulative['Non-Approved']\n",
    "cumulative"
   ]
  },
  {
   "cell_type": "markdown",
   "metadata": {},
   "source": [
    "Previous 2 Months (DNC-Approved):"
   ]
  },
  {
   "cell_type": "code",
   "execution_count": 34,
   "metadata": {},
   "outputs": [],
   "source": [
    "regional_avgs = {}\n",
    "recent_df = file[file.Month.isin([8, 9])]\n",
    "nat_states = ['National', 'Iowa', 'New Hampshire', 'South Carolina', 'Nevada']\n",
    "for cand in recent_df.columns[6:-7]:\n",
    "    df = recent_df[recent_df[cand].notnull()]\n",
    "    reg_avgs = []\n",
    "    reg_counts = []\n",
    "    for region in nat_states:\n",
    "        reg_series = df[cand][df.Region == region]\n",
    "        reg_avgs.append(reg_series.mean().round(1))\n",
    "        reg_counts.append(len(reg_series))\n",
    "    regional_avgs[cand] = pd.DataFrame({'Region':nat_states, 'Poll_Count':reg_counts, 'Average':reg_avgs}).sort_values('Average', ascending=False)"
   ]
  },
  {
   "cell_type": "code",
   "execution_count": 35,
   "metadata": {},
   "outputs": [
    {
     "data": {
      "text/plain": [
       "{'Biden':            Region  Poll_Count  Average\n",
       " 3  South Carolina           5     37.8\n",
       " 0        National          82     28.7\n",
       " 4          Nevada           5     24.6\n",
       " 1            Iowa           6     22.5\n",
       " 2   New Hampshire           9     22.4,\n",
       " 'Sanders':            Region  Poll_Count  Average\n",
       " 4          Nevada           5     19.4\n",
       " 2   New Hampshire           9     18.0\n",
       " 0        National          82     16.6\n",
       " 1            Iowa           6     14.7\n",
       " 3  South Carolina           5     12.0,\n",
       " 'Harris':            Region  Poll_Count  Average\n",
       " 0        National          82      6.8\n",
       " 1            Iowa           6      6.8\n",
       " 4          Nevada           5      6.8\n",
       " 3  South Carolina           5      6.6\n",
       " 2   New Hampshire           9      5.9,\n",
       " 'Warren':            Region  Poll_Count  Average\n",
       " 1            Iowa           6     22.2\n",
       " 2   New Hampshire           9     20.8\n",
       " 4          Nevada           5     18.6\n",
       " 0        National          82     16.9\n",
       " 3  South Carolina           5     15.6,\n",
       " 'Buttigieg':            Region  Poll_Count  Average\n",
       " 1            Iowa           6     10.3\n",
       " 2   New Hampshire           9      8.0\n",
       " 0        National          82      5.0\n",
       " 4          Nevada           5      4.6\n",
       " 3  South Carolina           5      4.0,\n",
       " 'Booker':            Region  Poll_Count  Average\n",
       " 3  South Carolina           4      2.8\n",
       " 0        National          82      2.4\n",
       " 1            Iowa           6      2.2\n",
       " 2   New Hampshire           8      1.8\n",
       " 4          Nevada           5      1.6,\n",
       " 'Yang':            Region  Poll_Count  Average\n",
       " 2   New Hampshire           9      2.3\n",
       " 0        National          81      2.2\n",
       " 4          Nevada           5      2.0\n",
       " 1            Iowa           6      1.8\n",
       " 3  South Carolina           5      1.0,\n",
       " 'Williamson':            Region  Poll_Count  Average\n",
       " 0        National          77      0.6\n",
       " 2   New Hampshire           8      0.5\n",
       " 4          Nevada           5      0.4\n",
       " 1            Iowa           6      0.2\n",
       " 3  South Carolina           4      0.2,\n",
       " \"O'Rourke\":            Region  Poll_Count  Average\n",
       " 0        National          81      2.6\n",
       " 1            Iowa           6      1.7\n",
       " 3  South Carolina           4      1.5\n",
       " 4          Nevada           5      1.2\n",
       " 2   New Hampshire           8      1.0,\n",
       " 'Delaney':            Region  Poll_Count  Average\n",
       " 1            Iowa           6      0.7\n",
       " 2   New Hampshire           7      0.7\n",
       " 0        National          75      0.5\n",
       " 3  South Carolina           4      0.5\n",
       " 4          Nevada           4      0.5,\n",
       " 'Castro':            Region  Poll_Count  Average\n",
       " 0        National          82      1.1\n",
       " 4          Nevada           5      1.0\n",
       " 1            Iowa           6      0.7\n",
       " 3  South Carolina           4      0.5\n",
       " 2   New Hampshire           7      0.4,\n",
       " 'Gabbard':            Region  Poll_Count  Average\n",
       " 2   New Hampshire           8      3.6\n",
       " 1            Iowa           6      1.8\n",
       " 0        National          76      1.2\n",
       " 3  South Carolina           4      1.2\n",
       " 4          Nevada           5      1.2,\n",
       " 'Klobuchar':            Region  Poll_Count  Average\n",
       " 1            Iowa           6      3.5\n",
       " 2   New Hampshire           8      1.8\n",
       " 0        National          82      1.1\n",
       " 3  South Carolina           4      1.0\n",
       " 4          Nevada           5      0.8,\n",
       " 'Steyer':            Region  Poll_Count  Average\n",
       " 4          Nevada           5      3.6\n",
       " 1            Iowa           6      2.3\n",
       " 3  South Carolina           4      1.8\n",
       " 2   New Hampshire           8      1.6\n",
       " 0        National          76      0.7}"
      ]
     },
     "execution_count": 35,
     "metadata": {},
     "output_type": "execute_result"
    }
   ],
   "source": [
    "regional_avgs"
   ]
  },
  {
   "cell_type": "markdown",
   "metadata": {},
   "source": [
    "Monthly Averages (DNC-Approved & Non-Approved):"
   ]
  },
  {
   "cell_type": "code",
   "execution_count": 36,
   "metadata": {},
   "outputs": [],
   "source": [
    "monthly_avgs = {}\n",
    "for cand in dnc_df.columns[6:-7]:\n",
    "    appr_avgs = []\n",
    "    appr_maxs = []\n",
    "    non_appr_avgs = []\n",
    "    non_appr_maxs = []\n",
    "    for month in dnc_df.Month.unique():\n",
    "        appr_avgs.append(dnc_df[cand][dnc_df.Month == month].mean())\n",
    "        appr_maxs.append(dnc_df[cand][dnc_df.Month == month].max())        \n",
    "        non_appr_avgs.append(non_dnc_df[cand][non_dnc_df.Month == month].mean())\n",
    "        non_appr_maxs.append(non_dnc_df[cand][non_dnc_df.Month == month].max())\n",
    "    monthly_avgs[cand] = pd.DataFrame({'Month':[calendar.month_abbr[x] for x in dnc_df.Month.unique()], \n",
    "                                       'Approved Avg':appr_avgs, \n",
    "                                       'Approved Max':appr_maxs, \n",
    "                                       'Non-Approved Avg':non_appr_avgs, \n",
    "                                       'Non-Approved Max':non_appr_maxs})"
   ]
  },
  {
   "cell_type": "code",
   "execution_count": 37,
   "metadata": {},
   "outputs": [
    {
     "data": {
      "text/html": [
       "<div>\n",
       "<style scoped>\n",
       "    .dataframe tbody tr th:only-of-type {\n",
       "        vertical-align: middle;\n",
       "    }\n",
       "\n",
       "    .dataframe tbody tr th {\n",
       "        vertical-align: top;\n",
       "    }\n",
       "\n",
       "    .dataframe thead th {\n",
       "        text-align: right;\n",
       "    }\n",
       "</style>\n",
       "<table border=\"1\" class=\"dataframe\">\n",
       "  <thead>\n",
       "    <tr style=\"text-align: right;\">\n",
       "      <th></th>\n",
       "      <th>Month</th>\n",
       "      <th>Approved Avg</th>\n",
       "      <th>Approved Max</th>\n",
       "      <th>Non-Approved Avg</th>\n",
       "      <th>Non-Approved Max</th>\n",
       "    </tr>\n",
       "  </thead>\n",
       "  <tbody>\n",
       "    <tr>\n",
       "      <td>0</td>\n",
       "      <td>Dec</td>\n",
       "      <td>31.000000</td>\n",
       "      <td>32.0</td>\n",
       "      <td>23.166667</td>\n",
       "      <td>30.0</td>\n",
       "    </tr>\n",
       "    <tr>\n",
       "      <td>1</td>\n",
       "      <td>Jan</td>\n",
       "      <td>19.000000</td>\n",
       "      <td>29.0</td>\n",
       "      <td>29.600000</td>\n",
       "      <td>45.0</td>\n",
       "    </tr>\n",
       "    <tr>\n",
       "      <td>2</td>\n",
       "      <td>Feb</td>\n",
       "      <td>25.000000</td>\n",
       "      <td>28.0</td>\n",
       "      <td>28.388889</td>\n",
       "      <td>39.0</td>\n",
       "    </tr>\n",
       "    <tr>\n",
       "      <td>3</td>\n",
       "      <td>Mar</td>\n",
       "      <td>28.600000</td>\n",
       "      <td>31.0</td>\n",
       "      <td>31.250000</td>\n",
       "      <td>42.0</td>\n",
       "    </tr>\n",
       "    <tr>\n",
       "      <td>4</td>\n",
       "      <td>Apr</td>\n",
       "      <td>26.571429</td>\n",
       "      <td>39.0</td>\n",
       "      <td>26.956522</td>\n",
       "      <td>41.0</td>\n",
       "    </tr>\n",
       "    <tr>\n",
       "      <td>5</td>\n",
       "      <td>May</td>\n",
       "      <td>34.200000</td>\n",
       "      <td>36.0</td>\n",
       "      <td>35.585366</td>\n",
       "      <td>48.0</td>\n",
       "    </tr>\n",
       "    <tr>\n",
       "      <td>6</td>\n",
       "      <td>Jun</td>\n",
       "      <td>31.400000</td>\n",
       "      <td>45.0</td>\n",
       "      <td>31.543478</td>\n",
       "      <td>50.0</td>\n",
       "    </tr>\n",
       "    <tr>\n",
       "      <td>7</td>\n",
       "      <td>Jul</td>\n",
       "      <td>29.750000</td>\n",
       "      <td>39.0</td>\n",
       "      <td>27.372881</td>\n",
       "      <td>47.0</td>\n",
       "    </tr>\n",
       "    <tr>\n",
       "      <td>8</td>\n",
       "      <td>Aug</td>\n",
       "      <td>28.000000</td>\n",
       "      <td>32.0</td>\n",
       "      <td>27.365385</td>\n",
       "      <td>37.0</td>\n",
       "    </tr>\n",
       "    <tr>\n",
       "      <td>9</td>\n",
       "      <td>Sep</td>\n",
       "      <td>28.250000</td>\n",
       "      <td>43.0</td>\n",
       "      <td>27.558824</td>\n",
       "      <td>41.0</td>\n",
       "    </tr>\n",
       "  </tbody>\n",
       "</table>\n",
       "</div>"
      ],
      "text/plain": [
       "  Month  Approved Avg  Approved Max  Non-Approved Avg  Non-Approved Max\n",
       "0   Dec     31.000000          32.0         23.166667              30.0\n",
       "1   Jan     19.000000          29.0         29.600000              45.0\n",
       "2   Feb     25.000000          28.0         28.388889              39.0\n",
       "3   Mar     28.600000          31.0         31.250000              42.0\n",
       "4   Apr     26.571429          39.0         26.956522              41.0\n",
       "5   May     34.200000          36.0         35.585366              48.0\n",
       "6   Jun     31.400000          45.0         31.543478              50.0\n",
       "7   Jul     29.750000          39.0         27.372881              47.0\n",
       "8   Aug     28.000000          32.0         27.365385              37.0\n",
       "9   Sep     28.250000          43.0         27.558824              41.0"
      ]
     },
     "execution_count": 37,
     "metadata": {},
     "output_type": "execute_result"
    }
   ],
   "source": [
    "monthly_avgs['Biden']"
   ]
  },
  {
   "cell_type": "markdown",
   "metadata": {},
   "source": [
    "---"
   ]
  },
  {
   "cell_type": "markdown",
   "metadata": {},
   "source": [
    "Additional Visualization Idea:"
   ]
  },
  {
   "cell_type": "markdown",
   "metadata": {},
   "source": [
    "Map which region is each candidate strongest in (choropleth map- min 3 polls in that state)\n",
    "*Make a slider or time-lapse to show how support shifted each month (though could only include states where a poll was released there each month- or maybe do the time-lapse shifting over a two-month period)"
   ]
  },
  {
   "cell_type": "markdown",
   "metadata": {},
   "source": [
    "---"
   ]
  },
  {
   "cell_type": "markdown",
   "metadata": {},
   "source": [
    "### Nov Debate Qualifying Polls"
   ]
  },
  {
   "cell_type": "code",
   "execution_count": 38,
   "metadata": {},
   "outputs": [],
   "source": [
    "cols = ['Dates', 'Region', 'Pollster', 'Biden', 'Warren', 'Sanders', 'Harris', 'Buttigieg', 'Yang', 'Booker', \"O'Rourke\", 'Castro', 'Klobuchar',  'Gabbard', 'Steyer', 'Williamson', 'Delaney']"
   ]
  },
  {
   "cell_type": "code",
   "execution_count": 39,
   "metadata": {},
   "outputs": [
    {
     "data": {
      "text/html": [
       "<div>\n",
       "<style scoped>\n",
       "    .dataframe tbody tr th:only-of-type {\n",
       "        vertical-align: middle;\n",
       "    }\n",
       "\n",
       "    .dataframe tbody tr th {\n",
       "        vertical-align: top;\n",
       "    }\n",
       "\n",
       "    .dataframe thead th {\n",
       "        text-align: right;\n",
       "    }\n",
       "</style>\n",
       "<table border=\"1\" class=\"dataframe\">\n",
       "  <thead>\n",
       "    <tr style=\"text-align: right;\">\n",
       "      <th></th>\n",
       "      <th>Dates</th>\n",
       "      <th>Region</th>\n",
       "      <th>Pollster</th>\n",
       "      <th>Biden</th>\n",
       "      <th>Warren</th>\n",
       "      <th>Sanders</th>\n",
       "      <th>Harris</th>\n",
       "      <th>Buttigieg</th>\n",
       "      <th>Yang</th>\n",
       "      <th>Booker</th>\n",
       "      <th>O'Rourke</th>\n",
       "      <th>Castro</th>\n",
       "      <th>Klobuchar</th>\n",
       "      <th>Gabbard</th>\n",
       "      <th>Steyer</th>\n",
       "      <th>Williamson</th>\n",
       "      <th>Delaney</th>\n",
       "    </tr>\n",
       "  </thead>\n",
       "  <tbody>\n",
       "    <tr>\n",
       "      <td>3</td>\n",
       "      <td>Sep 21-30, 2019</td>\n",
       "      <td>South Carolina</td>\n",
       "      <td>Winthrop University</td>\n",
       "      <td>37</td>\n",
       "      <td>17</td>\n",
       "      <td>8</td>\n",
       "      <td>7</td>\n",
       "      <td>4</td>\n",
       "      <td>2</td>\n",
       "      <td>3</td>\n",
       "      <td>2</td>\n",
       "      <td>1</td>\n",
       "      <td>1</td>\n",
       "      <td>1</td>\n",
       "      <td>2</td>\n",
       "      <td>0</td>\n",
       "      <td>0</td>\n",
       "    </tr>\n",
       "    <tr>\n",
       "      <td>7</td>\n",
       "      <td>Sep 23-29, 2019</td>\n",
       "      <td>National</td>\n",
       "      <td>Monmouth University</td>\n",
       "      <td>25</td>\n",
       "      <td>28</td>\n",
       "      <td>15</td>\n",
       "      <td>5</td>\n",
       "      <td>5</td>\n",
       "      <td>2</td>\n",
       "      <td>1</td>\n",
       "      <td>1</td>\n",
       "      <td>1</td>\n",
       "      <td>1</td>\n",
       "      <td>0</td>\n",
       "      <td>1</td>\n",
       "      <td>2</td>\n",
       "      <td>0</td>\n",
       "    </tr>\n",
       "    <tr>\n",
       "      <td>11</td>\n",
       "      <td>Sep 22-26, 2019</td>\n",
       "      <td>Nevada</td>\n",
       "      <td>CNN</td>\n",
       "      <td>22</td>\n",
       "      <td>18</td>\n",
       "      <td>22</td>\n",
       "      <td>5</td>\n",
       "      <td>4</td>\n",
       "      <td>3</td>\n",
       "      <td>2</td>\n",
       "      <td>0</td>\n",
       "      <td>0</td>\n",
       "      <td>1</td>\n",
       "      <td>1</td>\n",
       "      <td>4</td>\n",
       "      <td>1</td>\n",
       "      <td>0</td>\n",
       "    </tr>\n",
       "    <tr>\n",
       "      <td>12</td>\n",
       "      <td>Sep 22-26, 2019</td>\n",
       "      <td>South Carolina</td>\n",
       "      <td>CNN</td>\n",
       "      <td>37</td>\n",
       "      <td>16</td>\n",
       "      <td>11</td>\n",
       "      <td>3</td>\n",
       "      <td>4</td>\n",
       "      <td>0</td>\n",
       "      <td>2</td>\n",
       "      <td>2</td>\n",
       "      <td>0</td>\n",
       "      <td>1</td>\n",
       "      <td>1</td>\n",
       "      <td>3</td>\n",
       "      <td>1</td>\n",
       "      <td>0</td>\n",
       "    </tr>\n",
       "    <tr>\n",
       "      <td>17</td>\n",
       "      <td>Sep 19-23, 2019</td>\n",
       "      <td>Nevada</td>\n",
       "      <td>USA Today/Suffolk University</td>\n",
       "      <td>23</td>\n",
       "      <td>19</td>\n",
       "      <td>14</td>\n",
       "      <td>4</td>\n",
       "      <td>3</td>\n",
       "      <td>3</td>\n",
       "      <td>2</td>\n",
       "      <td>1</td>\n",
       "      <td>1</td>\n",
       "      <td>0</td>\n",
       "      <td>1</td>\n",
       "      <td>3</td>\n",
       "      <td>0</td>\n",
       "      <td>0</td>\n",
       "    </tr>\n",
       "    <tr>\n",
       "      <td>18</td>\n",
       "      <td>Sep 19-23, 2019</td>\n",
       "      <td>National</td>\n",
       "      <td>Quinnipiac University</td>\n",
       "      <td>25</td>\n",
       "      <td>27</td>\n",
       "      <td>16</td>\n",
       "      <td>3</td>\n",
       "      <td>7</td>\n",
       "      <td>2</td>\n",
       "      <td>0</td>\n",
       "      <td>2</td>\n",
       "      <td>2</td>\n",
       "      <td>2</td>\n",
       "      <td>1</td>\n",
       "      <td>0</td>\n",
       "      <td>0</td>\n",
       "      <td>0</td>\n",
       "    </tr>\n",
       "    <tr>\n",
       "      <td>23</td>\n",
       "      <td>Sep 17-21, 2019</td>\n",
       "      <td>New Hampshire</td>\n",
       "      <td>Monmouth University</td>\n",
       "      <td>25</td>\n",
       "      <td>27</td>\n",
       "      <td>12</td>\n",
       "      <td>3</td>\n",
       "      <td>10</td>\n",
       "      <td>2</td>\n",
       "      <td>2</td>\n",
       "      <td>1</td>\n",
       "      <td>0</td>\n",
       "      <td>2</td>\n",
       "      <td>2</td>\n",
       "      <td>2</td>\n",
       "      <td>1</td>\n",
       "      <td>0</td>\n",
       "    </tr>\n",
       "    <tr>\n",
       "      <td>34</td>\n",
       "      <td>Sep 14-18, 2019</td>\n",
       "      <td>Iowa</td>\n",
       "      <td>Des Moines Register</td>\n",
       "      <td>20</td>\n",
       "      <td>22</td>\n",
       "      <td>11</td>\n",
       "      <td>6</td>\n",
       "      <td>9</td>\n",
       "      <td>2</td>\n",
       "      <td>3</td>\n",
       "      <td>2</td>\n",
       "      <td>1</td>\n",
       "      <td>3</td>\n",
       "      <td>2</td>\n",
       "      <td>2</td>\n",
       "      <td>0</td>\n",
       "      <td>1</td>\n",
       "    </tr>\n",
       "    <tr>\n",
       "      <td>37</td>\n",
       "      <td>Sep 15-17, 2019</td>\n",
       "      <td>National</td>\n",
       "      <td>Fox News</td>\n",
       "      <td>29</td>\n",
       "      <td>16</td>\n",
       "      <td>18</td>\n",
       "      <td>7</td>\n",
       "      <td>5</td>\n",
       "      <td>2</td>\n",
       "      <td>3</td>\n",
       "      <td>4</td>\n",
       "      <td>0</td>\n",
       "      <td>2</td>\n",
       "      <td>0</td>\n",
       "      <td>1</td>\n",
       "      <td>0</td>\n",
       "      <td>1</td>\n",
       "    </tr>\n",
       "    <tr>\n",
       "      <td>41</td>\n",
       "      <td>Sep 13-16, 2019</td>\n",
       "      <td>National</td>\n",
       "      <td>NBC News/Wall Street Journal</td>\n",
       "      <td>31</td>\n",
       "      <td>25</td>\n",
       "      <td>14</td>\n",
       "      <td>5</td>\n",
       "      <td>7</td>\n",
       "      <td>4</td>\n",
       "      <td>2</td>\n",
       "      <td>1</td>\n",
       "      <td>1</td>\n",
       "      <td>2</td>\n",
       "      <td>1</td>\n",
       "      <td>1</td>\n",
       "      <td>0</td>\n",
       "      <td>1</td>\n",
       "    </tr>\n",
       "    <tr>\n",
       "      <td>67</td>\n",
       "      <td>Sep 5-9, 2019</td>\n",
       "      <td>National</td>\n",
       "      <td>CNN</td>\n",
       "      <td>24</td>\n",
       "      <td>18</td>\n",
       "      <td>17</td>\n",
       "      <td>8</td>\n",
       "      <td>6</td>\n",
       "      <td>2</td>\n",
       "      <td>2</td>\n",
       "      <td>5</td>\n",
       "      <td>1</td>\n",
       "      <td>1</td>\n",
       "      <td>2</td>\n",
       "      <td>1</td>\n",
       "      <td>1</td>\n",
       "      <td>0</td>\n",
       "    </tr>\n",
       "    <tr>\n",
       "      <td>78</td>\n",
       "      <td>Sep 2-5, 2019</td>\n",
       "      <td>National</td>\n",
       "      <td>ABC News/Washington Post</td>\n",
       "      <td>29</td>\n",
       "      <td>18</td>\n",
       "      <td>19</td>\n",
       "      <td>7</td>\n",
       "      <td>4</td>\n",
       "      <td>3</td>\n",
       "      <td>1</td>\n",
       "      <td>3</td>\n",
       "      <td>0</td>\n",
       "      <td>2</td>\n",
       "      <td>2</td>\n",
       "      <td>1</td>\n",
       "      <td>0</td>\n",
       "      <td>0</td>\n",
       "    </tr>\n",
       "    <tr>\n",
       "      <td>79</td>\n",
       "      <td>Aug 28-Sep 4, 2019</td>\n",
       "      <td>Iowa</td>\n",
       "      <td>CBS News/YouGov</td>\n",
       "      <td>29</td>\n",
       "      <td>17</td>\n",
       "      <td>26</td>\n",
       "      <td>6</td>\n",
       "      <td>7</td>\n",
       "      <td>1</td>\n",
       "      <td>2</td>\n",
       "      <td>2</td>\n",
       "      <td>1</td>\n",
       "      <td>2</td>\n",
       "      <td>1</td>\n",
       "      <td>2</td>\n",
       "      <td>0</td>\n",
       "      <td>1</td>\n",
       "    </tr>\n",
       "    <tr>\n",
       "      <td>80</td>\n",
       "      <td>Aug 28-Sep 4, 2019</td>\n",
       "      <td>Nevada</td>\n",
       "      <td>CBS News/YouGov</td>\n",
       "      <td>27</td>\n",
       "      <td>18</td>\n",
       "      <td>29</td>\n",
       "      <td>6</td>\n",
       "      <td>4</td>\n",
       "      <td>1</td>\n",
       "      <td>1</td>\n",
       "      <td>3</td>\n",
       "      <td>2</td>\n",
       "      <td>0</td>\n",
       "      <td>1</td>\n",
       "      <td>2</td>\n",
       "      <td>0</td>\n",
       "      <td>1</td>\n",
       "    </tr>\n",
       "    <tr>\n",
       "      <td>81</td>\n",
       "      <td>Aug 28-Sep 4, 2019</td>\n",
       "      <td>New Hampshire</td>\n",
       "      <td>CBS News/YouGov</td>\n",
       "      <td>26</td>\n",
       "      <td>27</td>\n",
       "      <td>25</td>\n",
       "      <td>7</td>\n",
       "      <td>8</td>\n",
       "      <td>1</td>\n",
       "      <td>2</td>\n",
       "      <td>1</td>\n",
       "      <td>0</td>\n",
       "      <td>1</td>\n",
       "      <td>1</td>\n",
       "      <td>1</td>\n",
       "      <td>0</td>\n",
       "      <td>0</td>\n",
       "    </tr>\n",
       "  </tbody>\n",
       "</table>\n",
       "</div>"
      ],
      "text/plain": [
       "                 Dates          Region                      Pollster  Biden  \\\n",
       "3      Sep 21-30, 2019  South Carolina           Winthrop University     37   \n",
       "7      Sep 23-29, 2019        National           Monmouth University     25   \n",
       "11     Sep 22-26, 2019          Nevada                           CNN     22   \n",
       "12     Sep 22-26, 2019  South Carolina                           CNN     37   \n",
       "17     Sep 19-23, 2019          Nevada  USA Today/Suffolk University     23   \n",
       "18     Sep 19-23, 2019        National         Quinnipiac University     25   \n",
       "23     Sep 17-21, 2019   New Hampshire           Monmouth University     25   \n",
       "34     Sep 14-18, 2019            Iowa           Des Moines Register     20   \n",
       "37     Sep 15-17, 2019        National                      Fox News     29   \n",
       "41     Sep 13-16, 2019        National  NBC News/Wall Street Journal     31   \n",
       "67       Sep 5-9, 2019        National                           CNN     24   \n",
       "78       Sep 2-5, 2019        National      ABC News/Washington Post     29   \n",
       "79  Aug 28-Sep 4, 2019            Iowa               CBS News/YouGov     29   \n",
       "80  Aug 28-Sep 4, 2019          Nevada               CBS News/YouGov     27   \n",
       "81  Aug 28-Sep 4, 2019   New Hampshire               CBS News/YouGov     26   \n",
       "\n",
       "    Warren  Sanders  Harris  Buttigieg  Yang  Booker  O'Rourke  Castro  \\\n",
       "3       17        8       7          4     2       3         2       1   \n",
       "7       28       15       5          5     2       1         1       1   \n",
       "11      18       22       5          4     3       2         0       0   \n",
       "12      16       11       3          4     0       2         2       0   \n",
       "17      19       14       4          3     3       2         1       1   \n",
       "18      27       16       3          7     2       0         2       2   \n",
       "23      27       12       3         10     2       2         1       0   \n",
       "34      22       11       6          9     2       3         2       1   \n",
       "37      16       18       7          5     2       3         4       0   \n",
       "41      25       14       5          7     4       2         1       1   \n",
       "67      18       17       8          6     2       2         5       1   \n",
       "78      18       19       7          4     3       1         3       0   \n",
       "79      17       26       6          7     1       2         2       1   \n",
       "80      18       29       6          4     1       1         3       2   \n",
       "81      27       25       7          8     1       2         1       0   \n",
       "\n",
       "    Klobuchar  Gabbard  Steyer  Williamson  Delaney  \n",
       "3           1        1       2           0        0  \n",
       "7           1        0       1           2        0  \n",
       "11          1        1       4           1        0  \n",
       "12          1        1       3           1        0  \n",
       "17          0        1       3           0        0  \n",
       "18          2        1       0           0        0  \n",
       "23          2        2       2           1        0  \n",
       "34          3        2       2           0        1  \n",
       "37          2        0       1           0        1  \n",
       "41          2        1       1           0        1  \n",
       "67          1        2       1           1        0  \n",
       "78          2        2       1           0        0  \n",
       "79          2        1       2           0        1  \n",
       "80          0        1       2           0        1  \n",
       "81          1        1       1           0        0  "
      ]
     },
     "execution_count": 39,
     "metadata": {},
     "output_type": "execute_result"
    }
   ],
   "source": [
    "# Produced chart w/ this data via DataWrapper\n",
    "nov_deb = dnc_df[cols][::-1].head(15)\n",
    "nov_deb[nov_deb.columns[3:]] = nov_deb[nov_deb.columns[3:]].astype(int)\n",
    "nov_deb"
   ]
  },
  {
   "cell_type": "code",
   "execution_count": null,
   "metadata": {},
   "outputs": [],
   "source": []
  }
 ],
 "metadata": {
  "kernelspec": {
   "display_name": "Python 3",
   "language": "python",
   "name": "python3"
  },
  "language_info": {
   "codemirror_mode": {
    "name": "ipython",
    "version": 3
   },
   "file_extension": ".py",
   "mimetype": "text/x-python",
   "name": "python",
   "nbconvert_exporter": "python",
   "pygments_lexer": "ipython3",
   "version": "3.6.7"
  }
 },
 "nbformat": 4,
 "nbformat_minor": 4
}
