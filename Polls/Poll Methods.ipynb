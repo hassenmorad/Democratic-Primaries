{
 "cells": [
  {
   "cell_type": "markdown",
   "metadata": {},
   "source": [
    "## Democratic Primary Poll Analysis"
   ]
  },
  {
   "cell_type": "markdown",
   "metadata": {},
   "source": [
    "*This notebook includes data that was previously scraped & cleaned and then edited in Excel to (1) remove duplicate poll records & (2) include columns w/ polling method classifications"
   ]
  },
  {
   "cell_type": "code",
   "execution_count": 1,
   "metadata": {},
   "outputs": [],
   "source": [
    "import pandas as pd\n",
    "import numpy as np\n",
    "import altair as alt\n",
    "import altair_latimes as lat"
   ]
  },
  {
   "cell_type": "code",
   "execution_count": 2,
   "metadata": {},
   "outputs": [
    {
     "data": {
      "text/plain": [
       "ThemeRegistry.enable('latimes')"
      ]
     },
     "execution_count": 2,
     "metadata": {},
     "output_type": "execute_result"
    }
   ],
   "source": [
    "alt.themes.register('latimes', lat.theme)\n",
    "alt.themes.enable('latimes')"
   ]
  },
  {
   "cell_type": "code",
   "execution_count": 3,
   "metadata": {},
   "outputs": [],
   "source": [
    "# File contains polling method data (manually entered via Excel); also, duplicate polls were removed\n",
    "file = pd.read_csv('scraped_polls_duplicates_removed.csv')"
   ]
  },
  {
   "cell_type": "code",
   "execution_count": 4,
   "metadata": {},
   "outputs": [
    {
     "data": {
      "text/plain": [
       "387"
      ]
     },
     "execution_count": 4,
     "metadata": {},
     "output_type": "execute_result"
    }
   ],
   "source": [
    "len(file)"
   ]
  },
  {
   "cell_type": "code",
   "execution_count": 5,
   "metadata": {},
   "outputs": [
    {
     "data": {
      "text/html": [
       "<div>\n",
       "<style scoped>\n",
       "    .dataframe tbody tr th:only-of-type {\n",
       "        vertical-align: middle;\n",
       "    }\n",
       "\n",
       "    .dataframe tbody tr th {\n",
       "        vertical-align: top;\n",
       "    }\n",
       "\n",
       "    .dataframe thead th {\n",
       "        text-align: right;\n",
       "    }\n",
       "</style>\n",
       "<table border=\"1\" class=\"dataframe\">\n",
       "  <thead>\n",
       "    <tr style=\"text-align: right;\">\n",
       "      <th></th>\n",
       "      <th>Dates</th>\n",
       "      <th>Region</th>\n",
       "      <th>Pollster</th>\n",
       "      <th>Sample</th>\n",
       "      <th>Voter_Type</th>\n",
       "      <th>Pollster_Grade</th>\n",
       "      <th>Biden</th>\n",
       "      <th>Sanders</th>\n",
       "      <th>Harris</th>\n",
       "      <th>Warren</th>\n",
       "      <th>...</th>\n",
       "      <th>Castro</th>\n",
       "      <th>Gabbard</th>\n",
       "      <th>Klobuchar</th>\n",
       "      <th>Steyer</th>\n",
       "      <th>Poll_End_Date</th>\n",
       "      <th>Cell</th>\n",
       "      <th>Landline</th>\n",
       "      <th>Text</th>\n",
       "      <th>Online</th>\n",
       "      <th>Mail</th>\n",
       "    </tr>\n",
       "  </thead>\n",
       "  <tbody>\n",
       "    <tr>\n",
       "      <td>0</td>\n",
       "      <td>Sep 17-20, 2019</td>\n",
       "      <td>National</td>\n",
       "      <td>HarrisX</td>\n",
       "      <td>761</td>\n",
       "      <td>LV</td>\n",
       "      <td>C+</td>\n",
       "      <td>32</td>\n",
       "      <td>15</td>\n",
       "      <td>5</td>\n",
       "      <td>20</td>\n",
       "      <td>...</td>\n",
       "      <td>1</td>\n",
       "      <td>1</td>\n",
       "      <td>1</td>\n",
       "      <td>1</td>\n",
       "      <td>9/20/2019</td>\n",
       "      <td>NaN</td>\n",
       "      <td>NaN</td>\n",
       "      <td>NaN</td>\n",
       "      <td>1</td>\n",
       "      <td>NaN</td>\n",
       "    </tr>\n",
       "  </tbody>\n",
       "</table>\n",
       "<p>1 rows × 27 columns</p>\n",
       "</div>"
      ],
      "text/plain": [
       "             Dates    Region Pollster Sample Voter_Type Pollster_Grade  Biden  \\\n",
       "0  Sep 17-20, 2019  National  HarrisX    761         LV             C+     32   \n",
       "\n",
       "   Sanders  Harris  Warren  ...  Castro  Gabbard  Klobuchar  Steyer  \\\n",
       "0       15       5      20  ...       1        1          1       1   \n",
       "\n",
       "   Poll_End_Date  Cell  Landline  Text  Online  Mail  \n",
       "0      9/20/2019   NaN       NaN   NaN       1   NaN  \n",
       "\n",
       "[1 rows x 27 columns]"
      ]
     },
     "execution_count": 5,
     "metadata": {},
     "output_type": "execute_result"
    }
   ],
   "source": [
    "file.head(1)"
   ]
  },
  {
   "cell_type": "code",
   "execution_count": 6,
   "metadata": {},
   "outputs": [],
   "source": [
    "# Replacing 'Unclear' w/ 0.5 & NaN w/ 0 to enable arithmetic operations on column values\n",
    "file = file.replace({'Unclear':0.5}).replace({np.nan:0}).reset_index(drop=True)"
   ]
  },
  {
   "cell_type": "code",
   "execution_count": 7,
   "metadata": {},
   "outputs": [
    {
     "data": {
      "text/plain": [
       "Dates              object\n",
       "Region             object\n",
       "Pollster           object\n",
       "Sample             object\n",
       "Voter_Type         object\n",
       "Pollster_Grade     object\n",
       "Biden               int64\n",
       "Sanders             int64\n",
       "Harris              int64\n",
       "Warren              int64\n",
       "Buttigieg           int64\n",
       "Booker              int64\n",
       "Yang                int64\n",
       "de Blasio           int64\n",
       "Williamson          int64\n",
       "O'Rourke            int64\n",
       "Delaney             int64\n",
       "Castro              int64\n",
       "Gabbard             int64\n",
       "Klobuchar           int64\n",
       "Steyer              int64\n",
       "Poll_End_Date      object\n",
       "Cell               object\n",
       "Landline           object\n",
       "Text              float64\n",
       "Online             object\n",
       "Mail              float64\n",
       "dtype: object"
      ]
     },
     "execution_count": 7,
     "metadata": {},
     "output_type": "execute_result"
    }
   ],
   "source": [
    "file.dtypes"
   ]
  },
  {
   "cell_type": "code",
   "execution_count": 8,
   "metadata": {},
   "outputs": [],
   "source": [
    "file[['Cell', 'Landline', 'Online']] = file[['Cell', 'Landline', 'Online']].astype(float)"
   ]
  },
  {
   "cell_type": "code",
   "execution_count": 9,
   "metadata": {},
   "outputs": [
    {
     "data": {
      "text/html": [
       "<div>\n",
       "<style scoped>\n",
       "    .dataframe tbody tr th:only-of-type {\n",
       "        vertical-align: middle;\n",
       "    }\n",
       "\n",
       "    .dataframe tbody tr th {\n",
       "        vertical-align: top;\n",
       "    }\n",
       "\n",
       "    .dataframe thead th {\n",
       "        text-align: right;\n",
       "    }\n",
       "</style>\n",
       "<table border=\"1\" class=\"dataframe\">\n",
       "  <thead>\n",
       "    <tr style=\"text-align: right;\">\n",
       "      <th></th>\n",
       "      <th>Dates</th>\n",
       "      <th>Region</th>\n",
       "      <th>Pollster</th>\n",
       "      <th>Sample</th>\n",
       "      <th>Voter_Type</th>\n",
       "      <th>Pollster_Grade</th>\n",
       "      <th>Biden</th>\n",
       "      <th>Sanders</th>\n",
       "      <th>Harris</th>\n",
       "      <th>Warren</th>\n",
       "      <th>...</th>\n",
       "      <th>Castro</th>\n",
       "      <th>Gabbard</th>\n",
       "      <th>Klobuchar</th>\n",
       "      <th>Steyer</th>\n",
       "      <th>Poll_End_Date</th>\n",
       "      <th>Cell</th>\n",
       "      <th>Landline</th>\n",
       "      <th>Text</th>\n",
       "      <th>Online</th>\n",
       "      <th>Mail</th>\n",
       "    </tr>\n",
       "  </thead>\n",
       "  <tbody>\n",
       "    <tr>\n",
       "      <td>0</td>\n",
       "      <td>Sep 17-20, 2019</td>\n",
       "      <td>National</td>\n",
       "      <td>HarrisX</td>\n",
       "      <td>761</td>\n",
       "      <td>LV</td>\n",
       "      <td>C+</td>\n",
       "      <td>32</td>\n",
       "      <td>15</td>\n",
       "      <td>5</td>\n",
       "      <td>20</td>\n",
       "      <td>...</td>\n",
       "      <td>1</td>\n",
       "      <td>1</td>\n",
       "      <td>1</td>\n",
       "      <td>1</td>\n",
       "      <td>9/20/2019</td>\n",
       "      <td>0.0</td>\n",
       "      <td>0.0</td>\n",
       "      <td>0.0</td>\n",
       "      <td>1.0</td>\n",
       "      <td>0.0</td>\n",
       "    </tr>\n",
       "  </tbody>\n",
       "</table>\n",
       "<p>1 rows × 27 columns</p>\n",
       "</div>"
      ],
      "text/plain": [
       "             Dates    Region Pollster Sample Voter_Type Pollster_Grade  Biden  \\\n",
       "0  Sep 17-20, 2019  National  HarrisX    761         LV             C+     32   \n",
       "\n",
       "   Sanders  Harris  Warren  ...  Castro  Gabbard  Klobuchar  Steyer  \\\n",
       "0       15       5      20  ...       1        1          1       1   \n",
       "\n",
       "   Poll_End_Date  Cell  Landline  Text  Online  Mail  \n",
       "0      9/20/2019   0.0       0.0   0.0     1.0   0.0  \n",
       "\n",
       "[1 rows x 27 columns]"
      ]
     },
     "execution_count": 9,
     "metadata": {},
     "output_type": "execute_result"
    }
   ],
   "source": [
    "file.head(1)"
   ]
  },
  {
   "cell_type": "code",
   "execution_count": 10,
   "metadata": {},
   "outputs": [],
   "source": [
    "file.to_csv('all_polls_final.csv', index=False)"
   ]
  },
  {
   "cell_type": "markdown",
   "metadata": {},
   "source": [
    "---"
   ]
  },
  {
   "cell_type": "markdown",
   "metadata": {},
   "source": [
    "### Pollster Methods\n",
    "*In the dicts below I manually assigned each pollster to the method they used (thankfully, I didn't find any pollsters who used more than one method)"
   ]
  },
  {
   "cell_type": "code",
   "execution_count": 11,
   "metadata": {},
   "outputs": [],
   "source": [
    "national_polls_dict = {\n",
    "    'Cell/Landline': ['ABC News/Washington Post', 'Benenson Strategy Group*', 'Bold Blue Campaigns', 'CNN/SSRS', 'Fox News', 'GBAO', 'GQR Research', \n",
    "                        'IBD/TIPP', 'Monmouth University', 'NBC News/Wall Street Journal', 'Quinnipiac University', 'Suffolk University', 'TargetPoint/GQR Research'],\n",
    "    'Landline/Online': ['Emerson College'],\n",
    "    'Cell/Online': ['Public Policy Polling*'],\n",
    "    'Online': ['Avalanche Strategy', 'Change Research', 'Claster Consulting', \n",
    "               'D-CYFOR', 'Echelon Insights', 'Harris Interactive', 'HarrisX', 'Ipsos', 'McLaughlin & Associates', \n",
    "               'Morning Consult', 'Pew Research Center', 'SurveyMonkey', 'SurveyUSA', 'YouGov', 'YouGov Blue/Data for Progress', \n",
    "               'Zogby Interactive/JZ Analytics'],\n",
    "    'Mail': ['USC Dornsife/LA Times', 'WPA Intelligence*']\n",
    "}"
   ]
  },
  {
   "cell_type": "code",
   "execution_count": 12,
   "metadata": {},
   "outputs": [],
   "source": [
    "state_polls_dict = {\n",
    "    'Landline': ['St. Pete Polls'],\n",
    "    'Landline/Online': ['Emerson College', 'Florida Atlantic University'], \n",
    "    'Cell/Landline': ['Bendixen & Amandi International', 'David Binder Research',  'Denno Research', 'Fox News', 'Marquette Law School', 'Monmouth University',\n",
    "                        'Muhlenberg College', 'Public Policy Institute of California', 'Quinnipiac University', 'Ragnar Research Partners', \n",
    "                        'Remington Research Group', 'RKM Research and Communications Inc.', 'Saint Anselm College', 'Selzer & Co.', 'Siena College', \n",
    "                        'SoonerPoll.com', 'Suffolk University', 'Tel Opinion Research', 'University of New Hampshire', 'Victory Research'], \n",
    "    'Landline/Text': ['Chism Strategies'],\n",
    "    'Cell/Land/Text': ['Firehouse Strategies/Øptimus'],\n",
    "    'Cell/Land/Online': ['Gravis Marketing'],\n",
    "    'Cell/Online': ['Public Policy Polling*', 'Texas Lyceum'], \n",
    "    'Online': ['Capitol Weekly', 'Change Research', 'Civiqs', 'Climate Nexus', 'Crantford Research', 'HarrisX', 'SurveyMonkey', 'SurveyUSA', 'UC Berkeley', 'University of Texas at Tyler', 'YouGov', \n",
    "               'Zogby Interactive/JZ Analytics'],\n",
    "    'Mail': ['Franklin & Marshall College', 'Hampton University', 'Univision/University of Houston/Latino Decisions/North Star Opinion Research', 'We Ask America']\n",
    "} "
   ]
  },
  {
   "cell_type": "markdown",
   "metadata": {},
   "source": [
    "---"
   ]
  },
  {
   "cell_type": "markdown",
   "metadata": {},
   "source": [
    "#### Confirming that no polls are missing:"
   ]
  },
  {
   "cell_type": "code",
   "execution_count": 13,
   "metadata": {},
   "outputs": [
    {
     "name": "stdout",
     "output_type": "stream",
     "text": [
      "65\n"
     ]
    }
   ],
   "source": [
    "pollsters_list = []\n",
    "for polls_dict in [national_polls_dict, state_polls_dict]:\n",
    "    for key in polls_dict:\n",
    "        for val in polls_dict[key]:\n",
    "            pollsters_list.append(val)\n",
    "print(len(set(pollsters_list)))"
   ]
  },
  {
   "cell_type": "code",
   "execution_count": 14,
   "metadata": {},
   "outputs": [],
   "source": [
    "for pollster in file.Pollster.unique():\n",
    "    if pollster not in set(pollsters_list):\n",
    "        print(pollster)"
   ]
  },
  {
   "cell_type": "code",
   "execution_count": 15,
   "metadata": {},
   "outputs": [
    {
     "data": {
      "text/plain": [
       "65"
      ]
     },
     "execution_count": 15,
     "metadata": {},
     "output_type": "execute_result"
    }
   ],
   "source": [
    "len(file.Pollster.unique())"
   ]
  },
  {
   "cell_type": "markdown",
   "metadata": {},
   "source": [
    "---"
   ]
  },
  {
   "cell_type": "markdown",
   "metadata": {},
   "source": [
    "#### Linking pollster to method (from dicts above)"
   ]
  },
  {
   "cell_type": "markdown",
   "metadata": {},
   "source": [
    "State:"
   ]
  },
  {
   "cell_type": "code",
   "execution_count": 16,
   "metadata": {},
   "outputs": [],
   "source": [
    "pollster_list = []\n",
    "type_list = []\n",
    "\n",
    "for key in state_polls_dict:\n",
    "    for val in state_polls_dict[key]:\n",
    "        pollster_list.append(val)\n",
    "    type_list.extend(np.full(len(state_polls_dict[key]), key))"
   ]
  },
  {
   "cell_type": "code",
   "execution_count": 17,
   "metadata": {},
   "outputs": [
    {
     "data": {
      "text/html": [
       "<div>\n",
       "<style scoped>\n",
       "    .dataframe tbody tr th:only-of-type {\n",
       "        vertical-align: middle;\n",
       "    }\n",
       "\n",
       "    .dataframe tbody tr th {\n",
       "        vertical-align: top;\n",
       "    }\n",
       "\n",
       "    .dataframe thead th {\n",
       "        text-align: right;\n",
       "    }\n",
       "</style>\n",
       "<table border=\"1\" class=\"dataframe\">\n",
       "  <thead>\n",
       "    <tr style=\"text-align: right;\">\n",
       "      <th></th>\n",
       "      <th>Pollster</th>\n",
       "      <th>Method</th>\n",
       "    </tr>\n",
       "  </thead>\n",
       "  <tbody>\n",
       "    <tr>\n",
       "      <td>0</td>\n",
       "      <td>St. Pete Polls</td>\n",
       "      <td>Landline</td>\n",
       "    </tr>\n",
       "  </tbody>\n",
       "</table>\n",
       "</div>"
      ],
      "text/plain": [
       "         Pollster    Method\n",
       "0  St. Pete Polls  Landline"
      ]
     },
     "execution_count": 17,
     "metadata": {},
     "output_type": "execute_result"
    }
   ],
   "source": [
    "state_df = pd.DataFrame({'Pollster':pollster_list, 'Method':type_list})\n",
    "state_df.head(1)"
   ]
  },
  {
   "cell_type": "markdown",
   "metadata": {},
   "source": [
    "National:"
   ]
  },
  {
   "cell_type": "code",
   "execution_count": 18,
   "metadata": {},
   "outputs": [],
   "source": [
    "pollster_list = []\n",
    "type_list = []\n",
    "\n",
    "for key in national_polls_dict:\n",
    "    for val in national_polls_dict[key]:\n",
    "        pollster_list.append(val)\n",
    "    type_list.extend(np.full(len(national_polls_dict[key]), key))"
   ]
  },
  {
   "cell_type": "code",
   "execution_count": 19,
   "metadata": {},
   "outputs": [
    {
     "data": {
      "text/html": [
       "<div>\n",
       "<style scoped>\n",
       "    .dataframe tbody tr th:only-of-type {\n",
       "        vertical-align: middle;\n",
       "    }\n",
       "\n",
       "    .dataframe tbody tr th {\n",
       "        vertical-align: top;\n",
       "    }\n",
       "\n",
       "    .dataframe thead th {\n",
       "        text-align: right;\n",
       "    }\n",
       "</style>\n",
       "<table border=\"1\" class=\"dataframe\">\n",
       "  <thead>\n",
       "    <tr style=\"text-align: right;\">\n",
       "      <th></th>\n",
       "      <th>Pollster</th>\n",
       "      <th>Method</th>\n",
       "    </tr>\n",
       "  </thead>\n",
       "  <tbody>\n",
       "    <tr>\n",
       "      <td>0</td>\n",
       "      <td>ABC News/Washington Post</td>\n",
       "      <td>Cell/Landline</td>\n",
       "    </tr>\n",
       "  </tbody>\n",
       "</table>\n",
       "</div>"
      ],
      "text/plain": [
       "                   Pollster         Method\n",
       "0  ABC News/Washington Post  Cell/Landline"
      ]
     },
     "execution_count": 19,
     "metadata": {},
     "output_type": "execute_result"
    }
   ],
   "source": [
    "national_df = pd.DataFrame({'Pollster':pollster_list, 'Method':type_list})\n",
    "national_df.head(1)"
   ]
  },
  {
   "cell_type": "code",
   "execution_count": 20,
   "metadata": {},
   "outputs": [],
   "source": [
    "combined = pd.concat([state_df, national_df]).drop_duplicates().reset_index(drop=True)"
   ]
  },
  {
   "cell_type": "code",
   "execution_count": 21,
   "metadata": {},
   "outputs": [
    {
     "data": {
      "text/html": [
       "<div>\n",
       "<style scoped>\n",
       "    .dataframe tbody tr th:only-of-type {\n",
       "        vertical-align: middle;\n",
       "    }\n",
       "\n",
       "    .dataframe tbody tr th {\n",
       "        vertical-align: top;\n",
       "    }\n",
       "\n",
       "    .dataframe thead th {\n",
       "        text-align: right;\n",
       "    }\n",
       "</style>\n",
       "<table border=\"1\" class=\"dataframe\">\n",
       "  <thead>\n",
       "    <tr style=\"text-align: right;\">\n",
       "      <th></th>\n",
       "      <th>Pollster</th>\n",
       "      <th>Method</th>\n",
       "    </tr>\n",
       "  </thead>\n",
       "  <tbody>\n",
       "    <tr>\n",
       "      <td>0</td>\n",
       "      <td>St. Pete Polls</td>\n",
       "      <td>Landline</td>\n",
       "    </tr>\n",
       "    <tr>\n",
       "      <td>1</td>\n",
       "      <td>Emerson College</td>\n",
       "      <td>Landline/Online</td>\n",
       "    </tr>\n",
       "    <tr>\n",
       "      <td>2</td>\n",
       "      <td>Florida Atlantic University</td>\n",
       "      <td>Landline/Online</td>\n",
       "    </tr>\n",
       "    <tr>\n",
       "      <td>3</td>\n",
       "      <td>Bendixen &amp; Amandi International</td>\n",
       "      <td>Cell/Landline</td>\n",
       "    </tr>\n",
       "    <tr>\n",
       "      <td>4</td>\n",
       "      <td>David Binder Research</td>\n",
       "      <td>Cell/Landline</td>\n",
       "    </tr>\n",
       "  </tbody>\n",
       "</table>\n",
       "</div>"
      ],
      "text/plain": [
       "                          Pollster           Method\n",
       "0                   St. Pete Polls         Landline\n",
       "1                  Emerson College  Landline/Online\n",
       "2      Florida Atlantic University  Landline/Online\n",
       "3  Bendixen & Amandi International    Cell/Landline\n",
       "4            David Binder Research    Cell/Landline"
      ]
     },
     "execution_count": 21,
     "metadata": {},
     "output_type": "execute_result"
    }
   ],
   "source": [
    "combined.head()"
   ]
  },
  {
   "cell_type": "code",
   "execution_count": 22,
   "metadata": {},
   "outputs": [
    {
     "data": {
      "text/plain": [
       "65"
      ]
     },
     "execution_count": 22,
     "metadata": {},
     "output_type": "execute_result"
    }
   ],
   "source": [
    "len(combined)"
   ]
  },
  {
   "cell_type": "code",
   "execution_count": 23,
   "metadata": {},
   "outputs": [
    {
     "data": {
      "text/plain": [
       "65"
      ]
     },
     "execution_count": 23,
     "metadata": {},
     "output_type": "execute_result"
    }
   ],
   "source": [
    "len(file.Pollster.unique())"
   ]
  },
  {
   "cell_type": "markdown",
   "metadata": {},
   "source": [
    "---"
   ]
  },
  {
   "cell_type": "markdown",
   "metadata": {},
   "source": [
    "#### Pollsters w/ Partially Missing Data:"
   ]
  },
  {
   "cell_type": "code",
   "execution_count": 24,
   "metadata": {},
   "outputs": [
    {
     "name": "stdout",
     "output_type": "stream",
     "text": [
      "Suffolk University {0.5, 0.0, 877.0, 178.0, 822.0, 123.0}\n",
      "Tel Opinion Research {288.0, 0.0, 0.5, 200.0, 400.0, 464.0, 336.0, 312.0}\n"
     ]
    }
   ],
   "source": [
    "for pollster in file.Pollster.unique():\n",
    "    df = file.loc[:, 'Cell':'Mail'][file.Pollster == pollster]\n",
    "    row_values = [list(x) for x in df.values]  # List of lists containing row values\n",
    "    values = []\n",
    "    for lst in row_values:\n",
    "        values += lst\n",
    "    if .5 in set(values) and len(set(values)) > 2:\n",
    "        print(pollster, set(values))"
   ]
  },
  {
   "cell_type": "markdown",
   "metadata": {},
   "source": [
    "*These are the only two pollsters for whom I have partially missing data (need to exclude .5 from the avgs below) "
   ]
  },
  {
   "cell_type": "markdown",
   "metadata": {},
   "source": [
    "---"
   ]
  },
  {
   "cell_type": "markdown",
   "metadata": {},
   "source": [
    "#### Calculating % of Data Collected Via a Method (for each record in 'file'):"
   ]
  },
  {
   "cell_type": "code",
   "execution_count": 25,
   "metadata": {},
   "outputs": [],
   "source": [
    "# Calculating percentage of poll data collected via each method (for individual polls)\n",
    "cell_vals = []\n",
    "landline_vals = []\n",
    "text_vals = []\n",
    "online_vals = []\n",
    "mail_vals = []\n",
    "\n",
    "for i, row in file.iterrows():\n",
    "    cell = row.Cell\n",
    "    landline = row.Landline\n",
    "    text = row.Text\n",
    "    online = row.Online\n",
    "    mail = row.Mail\n",
    "    group = [cell, landline, text, online, mail]\n",
    "    total = sum(group)\n",
    "    \n",
    "    partially_missing = ['Suffolk University', 'Tel Opinion Research']  # Excluding placeholder values from being factored into avgs (below)\n",
    "    counter = 0\n",
    "    for lst in [cell_vals, landline_vals, text_vals, online_vals, mail_vals]:\n",
    "        if row.Pollster in partially_missing and cell == .5:  \n",
    "            lst.append('Unclear')  # Classifying as 'Unclear' to ignore these values from avg. (below)\n",
    "        else:# i.e. actual cell/landline numbers were recorded\n",
    "            lst.append(int(round(group[counter]/total * 100, 0)))\n",
    "        counter += 1"
   ]
  },
  {
   "cell_type": "code",
   "execution_count": 26,
   "metadata": {},
   "outputs": [],
   "source": [
    "file['Cell Percentage'] = cell_vals\n",
    "file['Landline Percentage'] = landline_vals\n",
    "file['Text Percentage'] = text_vals\n",
    "file['Online Percentage'] = online_vals\n",
    "file['Mail Percentage'] = mail_vals"
   ]
  },
  {
   "cell_type": "markdown",
   "metadata": {},
   "source": [
    "#### Avg. % of Data Collected Via a Method (for each pollster in 'combined'):"
   ]
  },
  {
   "cell_type": "code",
   "execution_count": 27,
   "metadata": {},
   "outputs": [],
   "source": [
    "# Calculating avg. percentage of poll data collected via each method (for each pollster)\n",
    "cell_vals = []\n",
    "landline_vals = []\n",
    "text_vals = []\n",
    "online_vals = []\n",
    "mail_vals = []\n",
    "partials = file.Pollster.isin(['Suffolk University', 'Tel Opinion Research'])\n",
    "unclear = file['Cell Percentage'] == 'Unclear'\n",
    "partials_removed_df = file[~(partials & unclear)]\n",
    "\n",
    "for pollster in combined.Pollster.unique():\n",
    "    df = partials_removed_df[partials_removed_df.Pollster == pollster]\n",
    "\n",
    "    cell = df['Cell Percentage'].mean()\n",
    "    landline = df['Landline Percentage'].mean()\n",
    "    text = df['Text Percentage'].mean()\n",
    "    online = df['Online Percentage'].mean()\n",
    "    mail = df['Mail Percentage'].mean()\n",
    "    group = [cell, landline, text, online, mail]\n",
    "    lists = [cell_vals, landline_vals, text_vals, online_vals, mail_vals]\n",
    "    counter = 0\n",
    "    \n",
    "    # Gravis Marketing\n",
    "    if group[:4] == [50, 50, 0, 50]:  \n",
    "        vals = [-1, -1, 0, -1, 0]\n",
    "        for lst in lists:\n",
    "            lst.append(vals[counter])\n",
    "            counter += 1\n",
    "    # Rows w/ unknown ratio of cell/landline calls \n",
    "    elif group[:2] == [50, 50]:  \n",
    "        vals = [-1, -1, 0, 0, 0]        \n",
    "        for lst in lists:\n",
    "            lst.append(vals[counter])\n",
    "            counter += 1\n",
    "    else:\n",
    "        for lst in lists:\n",
    "            lst.append(int(round(group[counter], 0)))\n",
    "            counter += 1"
   ]
  },
  {
   "cell_type": "code",
   "execution_count": 28,
   "metadata": {},
   "outputs": [],
   "source": [
    "combined['Cell Percentage'] = cell_vals\n",
    "combined['Landline Percentage'] = landline_vals\n",
    "combined['Text Percentage'] = text_vals\n",
    "combined['Online Percentage'] = online_vals\n",
    "combined['Mail Percentage'] = mail_vals"
   ]
  },
  {
   "cell_type": "code",
   "execution_count": 29,
   "metadata": {},
   "outputs": [],
   "source": [
    "combined = combined.replace({-1:50}).sort_values(['Method', 'Landline Percentage'], ascending=[True, False]).reset_index(drop=True)"
   ]
  },
  {
   "cell_type": "code",
   "execution_count": 30,
   "metadata": {},
   "outputs": [],
   "source": [
    "# Including pollsters who weren't explicitly listed in FiveThirtyEight's collection but jointly conducted polls w/ the following pollsters\n",
    "combined.Pollster = combined.Pollster.replace({'Ipsos':'CNN/Ipsos', 'Selzer & Co.':'CNN/Des Moines Register (Selzer & Co.)', \n",
    "                                           'Suffolk University':'Suffolk University/USA Today', 'Ipsos':'Reuters/Ipsos'})"
   ]
  },
  {
   "cell_type": "code",
   "execution_count": 31,
   "metadata": {},
   "outputs": [],
   "source": [
    "combined = combined.sort_values('Pollster').rename({'Cell Percentage':'Cell', 'Landline Percentage':'Landline',\n",
    "                                                    'Text Percentage':'Text', 'Online Percentage':'Online',\n",
    "                                                    'Mail Percentage':'Mail'}, axis=1)"
   ]
  },
  {
   "cell_type": "code",
   "execution_count": 32,
   "metadata": {},
   "outputs": [
    {
     "data": {
      "text/html": [
       "<div>\n",
       "<style scoped>\n",
       "    .dataframe tbody tr th:only-of-type {\n",
       "        vertical-align: middle;\n",
       "    }\n",
       "\n",
       "    .dataframe tbody tr th {\n",
       "        vertical-align: top;\n",
       "    }\n",
       "\n",
       "    .dataframe thead th {\n",
       "        text-align: right;\n",
       "    }\n",
       "</style>\n",
       "<table border=\"1\" class=\"dataframe\">\n",
       "  <thead>\n",
       "    <tr style=\"text-align: right;\">\n",
       "      <th></th>\n",
       "      <th>Pollster</th>\n",
       "      <th>Method</th>\n",
       "      <th>Cell</th>\n",
       "      <th>Landline</th>\n",
       "      <th>Text</th>\n",
       "      <th>Online</th>\n",
       "      <th>Mail</th>\n",
       "    </tr>\n",
       "  </thead>\n",
       "  <tbody>\n",
       "    <tr>\n",
       "      <td>24</td>\n",
       "      <td>ABC News/Washington Post</td>\n",
       "      <td>Cell/Landline</td>\n",
       "      <td>65</td>\n",
       "      <td>35</td>\n",
       "      <td>0</td>\n",
       "      <td>0</td>\n",
       "      <td>0</td>\n",
       "    </tr>\n",
       "    <tr>\n",
       "      <td>55</td>\n",
       "      <td>Avalanche Strategy</td>\n",
       "      <td>Online</td>\n",
       "      <td>0</td>\n",
       "      <td>0</td>\n",
       "      <td>0</td>\n",
       "      <td>100</td>\n",
       "      <td>0</td>\n",
       "    </tr>\n",
       "    <tr>\n",
       "      <td>6</td>\n",
       "      <td>Bendixen &amp; Amandi International</td>\n",
       "      <td>Cell/Landline</td>\n",
       "      <td>50</td>\n",
       "      <td>50</td>\n",
       "      <td>0</td>\n",
       "      <td>0</td>\n",
       "      <td>0</td>\n",
       "    </tr>\n",
       "    <tr>\n",
       "      <td>12</td>\n",
       "      <td>Benenson Strategy Group*</td>\n",
       "      <td>Cell/Landline</td>\n",
       "      <td>50</td>\n",
       "      <td>50</td>\n",
       "      <td>0</td>\n",
       "      <td>0</td>\n",
       "      <td>0</td>\n",
       "    </tr>\n",
       "    <tr>\n",
       "      <td>13</td>\n",
       "      <td>Bold Blue Campaigns</td>\n",
       "      <td>Cell/Landline</td>\n",
       "      <td>50</td>\n",
       "      <td>50</td>\n",
       "      <td>0</td>\n",
       "      <td>0</td>\n",
       "      <td>0</td>\n",
       "    </tr>\n",
       "  </tbody>\n",
       "</table>\n",
       "</div>"
      ],
      "text/plain": [
       "                           Pollster         Method  Cell  Landline  Text  \\\n",
       "24         ABC News/Washington Post  Cell/Landline    65        35     0   \n",
       "55               Avalanche Strategy         Online     0         0     0   \n",
       "6   Bendixen & Amandi International  Cell/Landline    50        50     0   \n",
       "12         Benenson Strategy Group*  Cell/Landline    50        50     0   \n",
       "13              Bold Blue Campaigns  Cell/Landline    50        50     0   \n",
       "\n",
       "    Online  Mail  \n",
       "24       0     0  \n",
       "55     100     0  \n",
       "6        0     0  \n",
       "12       0     0  \n",
       "13       0     0  "
      ]
     },
     "execution_count": 32,
     "metadata": {},
     "output_type": "execute_result"
    }
   ],
   "source": [
    "combined.head()"
   ]
  },
  {
   "cell_type": "code",
   "execution_count": 33,
   "metadata": {},
   "outputs": [],
   "source": [
    "# For plotting data in DataWrapper\n",
    "combined.to_csv('pollster_methods.csv', index=False)"
   ]
  },
  {
   "cell_type": "markdown",
   "metadata": {},
   "source": [
    "---"
   ]
  },
  {
   "cell_type": "markdown",
   "metadata": {},
   "source": [
    "#### Plotting Data via Altair"
   ]
  },
  {
   "cell_type": "code",
   "execution_count": 34,
   "metadata": {},
   "outputs": [],
   "source": [
    "alt_chart = pd.DataFrame()\n",
    "\n",
    "for col in ['Landline', 'Cell', 'Text', 'Online', 'Mail']:\n",
    "    df = combined.loc[:, 'Pollster':'Mail']\n",
    "    df['Percent'] = combined[col]\n",
    "    df['Type'] = np.full(len(df), col)\n",
    "    alt_chart = pd.concat([alt_chart, df])"
   ]
  },
  {
   "cell_type": "code",
   "execution_count": 35,
   "metadata": {},
   "outputs": [],
   "source": [
    "alt_chart.loc[:,'Cell':'Mail'] = alt_chart.loc[:,'Cell':'Mail'].astype(str) + '%'"
   ]
  },
  {
   "cell_type": "code",
   "execution_count": 36,
   "metadata": {},
   "outputs": [
    {
     "data": {
      "text/html": [
       "<div>\n",
       "<style scoped>\n",
       "    .dataframe tbody tr th:only-of-type {\n",
       "        vertical-align: middle;\n",
       "    }\n",
       "\n",
       "    .dataframe tbody tr th {\n",
       "        vertical-align: top;\n",
       "    }\n",
       "\n",
       "    .dataframe thead th {\n",
       "        text-align: right;\n",
       "    }\n",
       "</style>\n",
       "<table border=\"1\" class=\"dataframe\">\n",
       "  <thead>\n",
       "    <tr style=\"text-align: right;\">\n",
       "      <th></th>\n",
       "      <th>Pollster</th>\n",
       "      <th>Method</th>\n",
       "      <th>Cell</th>\n",
       "      <th>Landline</th>\n",
       "      <th>Text</th>\n",
       "      <th>Online</th>\n",
       "      <th>Mail</th>\n",
       "      <th>Percent</th>\n",
       "      <th>Type</th>\n",
       "    </tr>\n",
       "  </thead>\n",
       "  <tbody>\n",
       "    <tr>\n",
       "      <td>24</td>\n",
       "      <td>ABC News/Washington Post</td>\n",
       "      <td>Cell/Landline</td>\n",
       "      <td>65%</td>\n",
       "      <td>35%</td>\n",
       "      <td>0%</td>\n",
       "      <td>0%</td>\n",
       "      <td>0%</td>\n",
       "      <td>35</td>\n",
       "      <td>Landline</td>\n",
       "    </tr>\n",
       "    <tr>\n",
       "      <td>55</td>\n",
       "      <td>Avalanche Strategy</td>\n",
       "      <td>Online</td>\n",
       "      <td>0%</td>\n",
       "      <td>0%</td>\n",
       "      <td>0%</td>\n",
       "      <td>100%</td>\n",
       "      <td>0%</td>\n",
       "      <td>0</td>\n",
       "      <td>Landline</td>\n",
       "    </tr>\n",
       "    <tr>\n",
       "      <td>6</td>\n",
       "      <td>Bendixen &amp; Amandi International</td>\n",
       "      <td>Cell/Landline</td>\n",
       "      <td>50%</td>\n",
       "      <td>50%</td>\n",
       "      <td>0%</td>\n",
       "      <td>0%</td>\n",
       "      <td>0%</td>\n",
       "      <td>50</td>\n",
       "      <td>Landline</td>\n",
       "    </tr>\n",
       "    <tr>\n",
       "      <td>12</td>\n",
       "      <td>Benenson Strategy Group*</td>\n",
       "      <td>Cell/Landline</td>\n",
       "      <td>50%</td>\n",
       "      <td>50%</td>\n",
       "      <td>0%</td>\n",
       "      <td>0%</td>\n",
       "      <td>0%</td>\n",
       "      <td>50</td>\n",
       "      <td>Landline</td>\n",
       "    </tr>\n",
       "    <tr>\n",
       "      <td>13</td>\n",
       "      <td>Bold Blue Campaigns</td>\n",
       "      <td>Cell/Landline</td>\n",
       "      <td>50%</td>\n",
       "      <td>50%</td>\n",
       "      <td>0%</td>\n",
       "      <td>0%</td>\n",
       "      <td>0%</td>\n",
       "      <td>50</td>\n",
       "      <td>Landline</td>\n",
       "    </tr>\n",
       "  </tbody>\n",
       "</table>\n",
       "</div>"
      ],
      "text/plain": [
       "                           Pollster         Method Cell Landline Text Online  \\\n",
       "24         ABC News/Washington Post  Cell/Landline  65%      35%   0%     0%   \n",
       "55               Avalanche Strategy         Online   0%       0%   0%   100%   \n",
       "6   Bendixen & Amandi International  Cell/Landline  50%      50%   0%     0%   \n",
       "12         Benenson Strategy Group*  Cell/Landline  50%      50%   0%     0%   \n",
       "13              Bold Blue Campaigns  Cell/Landline  50%      50%   0%     0%   \n",
       "\n",
       "   Mail  Percent      Type  \n",
       "24   0%       35  Landline  \n",
       "55   0%        0  Landline  \n",
       "6    0%       50  Landline  \n",
       "12   0%       50  Landline  \n",
       "13   0%       50  Landline  "
      ]
     },
     "execution_count": 36,
     "metadata": {},
     "output_type": "execute_result"
    }
   ],
   "source": [
    "alt_chart.head()"
   ]
  },
  {
   "cell_type": "code",
   "execution_count": 37,
   "metadata": {},
   "outputs": [
    {
     "data": {
      "application/vnd.vegalite.v3+json": {
       "$schema": "https://vega.github.io/schema/vega-lite/v3.4.0.json",
       "background": "white",
       "config": {
        "arc": {
         "fill": "#82c6df"
        },
        "area": {
         "fill": "#82c6df"
        },
        "axis": {
         "labelFont": "Benton Gothic, sans",
         "labelFontSize": 11.5,
         "labelFontWeight": "normal",
         "titleFont": "Benton Gothic Bold, sans",
         "titleFontSize": 13,
         "titleFontWeight": "normal"
        },
        "axisX": {
         "labelAngle": 0,
         "labelPadding": 4,
         "tickSize": 3
        },
        "axisY": {
         "labelBaseline": "middle",
         "maxExtent": 45,
         "minExtent": 45,
         "tickSize": 2,
         "titleAlign": "left",
         "titleAngle": 0,
         "titleX": -45,
         "titleY": -11
        },
        "background": "#ffffff",
        "bar": {
         "fill": "#82c6df"
        },
        "legend": {
         "labelFont": "Benton Gothic, sans",
         "labelFontSize": 11.5,
         "symbolType": "square",
         "titleFont": "Benton Gothic Bold, sans",
         "titleFontSize": 13,
         "titleFontWeight": "normal"
        },
        "line": {
         "stroke": "#82c6df",
         "strokeWidth": 3
        },
        "path": {
         "stroke": "#82c6df"
        },
        "point": {
         "stroke": "#82c6df"
        },
        "range": {
         "category": [
          "#3580b1",
          "#ec8431",
          "#ab7fb4",
          "#c89d29",
          "#adc839",
          "#829eb1"
         ],
         "diverging": [
          "#e68a4f",
          "#f4bb6a",
          "#f9e39c",
          "#dadfe2",
          "#a6b7c6",
          "#849eae"
         ],
         "heatmap": [
          "#fbf2c7",
          "#f9e39c",
          "#f8d36e",
          "#f4bb6a",
          "#e68a4f",
          "#d15a40",
          "#ab4232"
         ],
         "ordinal": [
          "#fbf2c7",
          "#f9e39c",
          "#f8d36e",
          "#f4bb6a",
          "#e68a4f",
          "#d15a40",
          "#ab4232"
         ],
         "ramp": [
          "#fbf2c7",
          "#f9e39c",
          "#f8d36e",
          "#f4bb6a",
          "#e68a4f",
          "#d15a40",
          "#ab4232"
         ]
        },
        "rect": {
         "fill": "#82c6df"
        },
        "shape": {
         "stroke": "#82c6df"
        },
        "symbol": {
         "fill": "#82c6df",
         "size": 30
        },
        "title": {
         "anchor": "start",
         "font": "Benton Gothic Bold, sans",
         "fontColor": "#000000",
         "fontSize": 22,
         "fontWeight": "normal"
        },
        "view": {
         "height": 450,
         "width": 800
        }
       },
       "data": {
        "name": "data-fbe940295d38e73f511800b93fd14641"
       },
       "datasets": {
        "data-fbe940295d38e73f511800b93fd14641": [
         {
          "Cell": "65%",
          "Landline": "35%",
          "Mail": "0%",
          "Method": "Cell/Landline",
          "Online": "0%",
          "Percent": 35,
          "Pollster": "ABC News/Washington Post",
          "Text": "0%",
          "Type": "Landline"
         },
         {
          "Cell": "0%",
          "Landline": "0%",
          "Mail": "0%",
          "Method": "Online",
          "Online": "100%",
          "Percent": 0,
          "Pollster": "Avalanche Strategy",
          "Text": "0%",
          "Type": "Landline"
         },
         {
          "Cell": "50%",
          "Landline": "50%",
          "Mail": "0%",
          "Method": "Cell/Landline",
          "Online": "0%",
          "Percent": 50,
          "Pollster": "Bendixen & Amandi International",
          "Text": "0%",
          "Type": "Landline"
         },
         {
          "Cell": "50%",
          "Landline": "50%",
          "Mail": "0%",
          "Method": "Cell/Landline",
          "Online": "0%",
          "Percent": 50,
          "Pollster": "Benenson Strategy Group*",
          "Text": "0%",
          "Type": "Landline"
         },
         {
          "Cell": "50%",
          "Landline": "50%",
          "Mail": "0%",
          "Method": "Cell/Landline",
          "Online": "0%",
          "Percent": 50,
          "Pollster": "Bold Blue Campaigns",
          "Text": "0%",
          "Type": "Landline"
         },
         {
          "Cell": "50%",
          "Landline": "50%",
          "Mail": "0%",
          "Method": "Cell/Landline",
          "Online": "0%",
          "Percent": 50,
          "Pollster": "CNN/Des Moines Register (Selzer & Co.)",
          "Text": "0%",
          "Type": "Landline"
         },
         {
          "Cell": "64%",
          "Landline": "36%",
          "Mail": "0%",
          "Method": "Cell/Landline",
          "Online": "0%",
          "Percent": 36,
          "Pollster": "CNN/SSRS",
          "Text": "0%",
          "Type": "Landline"
         },
         {
          "Cell": "0%",
          "Landline": "0%",
          "Mail": "0%",
          "Method": "Online",
          "Online": "100%",
          "Percent": 0,
          "Pollster": "Capitol Weekly",
          "Text": "0%",
          "Type": "Landline"
         },
         {
          "Cell": "0%",
          "Landline": "0%",
          "Mail": "0%",
          "Method": "Online",
          "Online": "100%",
          "Percent": 0,
          "Pollster": "Change Research",
          "Text": "0%",
          "Type": "Landline"
         },
         {
          "Cell": "0%",
          "Landline": "49%",
          "Mail": "0%",
          "Method": "Landline/Text",
          "Online": "0%",
          "Percent": 49,
          "Pollster": "Chism Strategies",
          "Text": "51%",
          "Type": "Landline"
         },
         {
          "Cell": "0%",
          "Landline": "0%",
          "Mail": "0%",
          "Method": "Online",
          "Online": "100%",
          "Percent": 0,
          "Pollster": "Civiqs",
          "Text": "0%",
          "Type": "Landline"
         },
         {
          "Cell": "0%",
          "Landline": "0%",
          "Mail": "0%",
          "Method": "Online",
          "Online": "100%",
          "Percent": 0,
          "Pollster": "Claster Consulting",
          "Text": "0%",
          "Type": "Landline"
         },
         {
          "Cell": "0%",
          "Landline": "0%",
          "Mail": "0%",
          "Method": "Online",
          "Online": "100%",
          "Percent": 0,
          "Pollster": "Climate Nexus",
          "Text": "0%",
          "Type": "Landline"
         },
         {
          "Cell": "0%",
          "Landline": "0%",
          "Mail": "0%",
          "Method": "Online",
          "Online": "100%",
          "Percent": 0,
          "Pollster": "Crantford Research",
          "Text": "0%",
          "Type": "Landline"
         },
         {
          "Cell": "0%",
          "Landline": "0%",
          "Mail": "0%",
          "Method": "Online",
          "Online": "100%",
          "Percent": 0,
          "Pollster": "D-CYFOR",
          "Text": "0%",
          "Type": "Landline"
         },
         {
          "Cell": "50%",
          "Landline": "50%",
          "Mail": "0%",
          "Method": "Cell/Landline",
          "Online": "0%",
          "Percent": 50,
          "Pollster": "David Binder Research",
          "Text": "0%",
          "Type": "Landline"
         },
         {
          "Cell": "35%",
          "Landline": "65%",
          "Mail": "0%",
          "Method": "Cell/Landline",
          "Online": "0%",
          "Percent": 65,
          "Pollster": "Denno Research",
          "Text": "0%",
          "Type": "Landline"
         },
         {
          "Cell": "0%",
          "Landline": "0%",
          "Mail": "0%",
          "Method": "Online",
          "Online": "100%",
          "Percent": 0,
          "Pollster": "Echelon Insights",
          "Text": "0%",
          "Type": "Landline"
         },
         {
          "Cell": "0%",
          "Landline": "66%",
          "Mail": "0%",
          "Method": "Landline/Online",
          "Online": "34%",
          "Percent": 66,
          "Pollster": "Emerson College",
          "Text": "0%",
          "Type": "Landline"
         },
         {
          "Cell": "22%",
          "Landline": "42%",
          "Mail": "0%",
          "Method": "Cell/Land/Text",
          "Online": "0%",
          "Percent": 42,
          "Pollster": "Firehouse Strategies/Øptimus",
          "Text": "36%",
          "Type": "Landline"
         },
         {
          "Cell": "0%",
          "Landline": "62%",
          "Mail": "0%",
          "Method": "Landline/Online",
          "Online": "38%",
          "Percent": 62,
          "Pollster": "Florida Atlantic University",
          "Text": "0%",
          "Type": "Landline"
         },
         {
          "Cell": "75%",
          "Landline": "25%",
          "Mail": "0%",
          "Method": "Cell/Landline",
          "Online": "0%",
          "Percent": 25,
          "Pollster": "Fox News",
          "Text": "0%",
          "Type": "Landline"
         },
         {
          "Cell": "0%",
          "Landline": "0%",
          "Mail": "100%",
          "Method": "Mail",
          "Online": "0%",
          "Percent": 0,
          "Pollster": "Franklin & Marshall College",
          "Text": "0%",
          "Type": "Landline"
         },
         {
          "Cell": "50%",
          "Landline": "50%",
          "Mail": "0%",
          "Method": "Cell/Landline",
          "Online": "0%",
          "Percent": 50,
          "Pollster": "GBAO",
          "Text": "0%",
          "Type": "Landline"
         },
         {
          "Cell": "50%",
          "Landline": "50%",
          "Mail": "0%",
          "Method": "Cell/Landline",
          "Online": "0%",
          "Percent": 50,
          "Pollster": "GQR Research",
          "Text": "0%",
          "Type": "Landline"
         },
         {
          "Cell": "33%",
          "Landline": "33%",
          "Mail": "0%",
          "Method": "Cell/Land/Online",
          "Online": "33%",
          "Percent": 33,
          "Pollster": "Gravis Marketing",
          "Text": "0%",
          "Type": "Landline"
         },
         {
          "Cell": "0%",
          "Landline": "0%",
          "Mail": "100%",
          "Method": "Mail",
          "Online": "0%",
          "Percent": 0,
          "Pollster": "Hampton University",
          "Text": "0%",
          "Type": "Landline"
         },
         {
          "Cell": "0%",
          "Landline": "0%",
          "Mail": "0%",
          "Method": "Online",
          "Online": "100%",
          "Percent": 0,
          "Pollster": "Harris Interactive",
          "Text": "0%",
          "Type": "Landline"
         },
         {
          "Cell": "0%",
          "Landline": "0%",
          "Mail": "0%",
          "Method": "Online",
          "Online": "100%",
          "Percent": 0,
          "Pollster": "HarrisX",
          "Text": "0%",
          "Type": "Landline"
         },
         {
          "Cell": "78%",
          "Landline": "22%",
          "Mail": "0%",
          "Method": "Cell/Landline",
          "Online": "0%",
          "Percent": 22,
          "Pollster": "IBD/TIPP",
          "Text": "0%",
          "Type": "Landline"
         },
         {
          "Cell": "62%",
          "Landline": "38%",
          "Mail": "0%",
          "Method": "Cell/Landline",
          "Online": "0%",
          "Percent": 38,
          "Pollster": "Marquette Law School",
          "Text": "0%",
          "Type": "Landline"
         },
         {
          "Cell": "0%",
          "Landline": "0%",
          "Mail": "0%",
          "Method": "Online",
          "Online": "100%",
          "Percent": 0,
          "Pollster": "McLaughlin & Associates",
          "Text": "0%",
          "Type": "Landline"
         },
         {
          "Cell": "56%",
          "Landline": "44%",
          "Mail": "0%",
          "Method": "Cell/Landline",
          "Online": "0%",
          "Percent": 44,
          "Pollster": "Monmouth University",
          "Text": "0%",
          "Type": "Landline"
         },
         {
          "Cell": "0%",
          "Landline": "0%",
          "Mail": "0%",
          "Method": "Online",
          "Online": "100%",
          "Percent": 0,
          "Pollster": "Morning Consult",
          "Text": "0%",
          "Type": "Landline"
         },
         {
          "Cell": "61%",
          "Landline": "39%",
          "Mail": "0%",
          "Method": "Cell/Landline",
          "Online": "0%",
          "Percent": 39,
          "Pollster": "Muhlenberg College",
          "Text": "0%",
          "Type": "Landline"
         },
         {
          "Cell": "56%",
          "Landline": "44%",
          "Mail": "0%",
          "Method": "Cell/Landline",
          "Online": "0%",
          "Percent": 44,
          "Pollster": "NBC News/Wall Street Journal",
          "Text": "0%",
          "Type": "Landline"
         },
         {
          "Cell": "0%",
          "Landline": "0%",
          "Mail": "0%",
          "Method": "Online",
          "Online": "100%",
          "Percent": 0,
          "Pollster": "Pew Research Center",
          "Text": "0%",
          "Type": "Landline"
         },
         {
          "Cell": "70%",
          "Landline": "30%",
          "Mail": "0%",
          "Method": "Cell/Landline",
          "Online": "0%",
          "Percent": 30,
          "Pollster": "Public Policy Institute of California",
          "Text": "0%",
          "Type": "Landline"
         },
         {
          "Cell": "50%",
          "Landline": "0%",
          "Mail": "0%",
          "Method": "Cell/Online",
          "Online": "50%",
          "Percent": 0,
          "Pollster": "Public Policy Polling*",
          "Text": "0%",
          "Type": "Landline"
         },
         {
          "Cell": "50%",
          "Landline": "50%",
          "Mail": "0%",
          "Method": "Cell/Landline",
          "Online": "0%",
          "Percent": 50,
          "Pollster": "Quinnipiac University",
          "Text": "0%",
          "Type": "Landline"
         },
         {
          "Cell": "80%",
          "Landline": "20%",
          "Mail": "0%",
          "Method": "Cell/Landline",
          "Online": "0%",
          "Percent": 20,
          "Pollster": "RKM Research and Communications Inc.",
          "Text": "0%",
          "Type": "Landline"
         },
         {
          "Cell": "65%",
          "Landline": "35%",
          "Mail": "0%",
          "Method": "Cell/Landline",
          "Online": "0%",
          "Percent": 35,
          "Pollster": "Ragnar Research Partners",
          "Text": "0%",
          "Type": "Landline"
         },
         {
          "Cell": "20%",
          "Landline": "80%",
          "Mail": "0%",
          "Method": "Cell/Landline",
          "Online": "0%",
          "Percent": 80,
          "Pollster": "Remington Research Group",
          "Text": "0%",
          "Type": "Landline"
         },
         {
          "Cell": "0%",
          "Landline": "0%",
          "Mail": "0%",
          "Method": "Online",
          "Online": "100%",
          "Percent": 0,
          "Pollster": "Reuters/Ipsos",
          "Text": "0%",
          "Type": "Landline"
         },
         {
          "Cell": "50%",
          "Landline": "50%",
          "Mail": "0%",
          "Method": "Cell/Landline",
          "Online": "0%",
          "Percent": 50,
          "Pollster": "Saint Anselm College",
          "Text": "0%",
          "Type": "Landline"
         },
         {
          "Cell": "50%",
          "Landline": "50%",
          "Mail": "0%",
          "Method": "Cell/Landline",
          "Online": "0%",
          "Percent": 50,
          "Pollster": "Siena College",
          "Text": "0%",
          "Type": "Landline"
         },
         {
          "Cell": "43%",
          "Landline": "57%",
          "Mail": "0%",
          "Method": "Cell/Landline",
          "Online": "0%",
          "Percent": 57,
          "Pollster": "SoonerPoll.com",
          "Text": "0%",
          "Type": "Landline"
         },
         {
          "Cell": "0%",
          "Landline": "100%",
          "Mail": "0%",
          "Method": "Landline",
          "Online": "0%",
          "Percent": 100,
          "Pollster": "St. Pete Polls",
          "Text": "0%",
          "Type": "Landline"
         },
         {
          "Cell": "85%",
          "Landline": "15%",
          "Mail": "0%",
          "Method": "Cell/Landline",
          "Online": "0%",
          "Percent": 15,
          "Pollster": "Suffolk University/USA Today",
          "Text": "0%",
          "Type": "Landline"
         },
         {
          "Cell": "0%",
          "Landline": "0%",
          "Mail": "0%",
          "Method": "Online",
          "Online": "100%",
          "Percent": 0,
          "Pollster": "SurveyMonkey",
          "Text": "0%",
          "Type": "Landline"
         },
         {
          "Cell": "0%",
          "Landline": "0%",
          "Mail": "0%",
          "Method": "Online",
          "Online": "100%",
          "Percent": 0,
          "Pollster": "SurveyUSA",
          "Text": "0%",
          "Type": "Landline"
         },
         {
          "Cell": "50%",
          "Landline": "50%",
          "Mail": "0%",
          "Method": "Cell/Landline",
          "Online": "0%",
          "Percent": 50,
          "Pollster": "TargetPoint/GQR Research",
          "Text": "0%",
          "Type": "Landline"
         },
         {
          "Cell": "46%",
          "Landline": "54%",
          "Mail": "0%",
          "Method": "Cell/Landline",
          "Online": "0%",
          "Percent": 54,
          "Pollster": "Tel Opinion Research",
          "Text": "0%",
          "Type": "Landline"
         },
         {
          "Cell": "75%",
          "Landline": "0%",
          "Mail": "0%",
          "Method": "Cell/Online",
          "Online": "25%",
          "Percent": 0,
          "Pollster": "Texas Lyceum",
          "Text": "0%",
          "Type": "Landline"
         },
         {
          "Cell": "0%",
          "Landline": "0%",
          "Mail": "0%",
          "Method": "Online",
          "Online": "100%",
          "Percent": 0,
          "Pollster": "UC Berkeley",
          "Text": "0%",
          "Type": "Landline"
         },
         {
          "Cell": "0%",
          "Landline": "0%",
          "Mail": "100%",
          "Method": "Mail",
          "Online": "0%",
          "Percent": 0,
          "Pollster": "USC Dornsife/LA Times",
          "Text": "0%",
          "Type": "Landline"
         },
         {
          "Cell": "80%",
          "Landline": "20%",
          "Mail": "0%",
          "Method": "Cell/Landline",
          "Online": "0%",
          "Percent": 20,
          "Pollster": "University of New Hampshire",
          "Text": "0%",
          "Type": "Landline"
         },
         {
          "Cell": "0%",
          "Landline": "0%",
          "Mail": "0%",
          "Method": "Online",
          "Online": "100%",
          "Percent": 0,
          "Pollster": "University of Texas at Tyler",
          "Text": "0%",
          "Type": "Landline"
         },
         {
          "Cell": "0%",
          "Landline": "0%",
          "Mail": "100%",
          "Method": "Mail",
          "Online": "0%",
          "Percent": 0,
          "Pollster": "Univision/University of Houston/Latino Decisions/North Star Opinion Research",
          "Text": "0%",
          "Type": "Landline"
         },
         {
          "Cell": "58%",
          "Landline": "42%",
          "Mail": "0%",
          "Method": "Cell/Landline",
          "Online": "0%",
          "Percent": 42,
          "Pollster": "Victory Research",
          "Text": "0%",
          "Type": "Landline"
         },
         {
          "Cell": "0%",
          "Landline": "0%",
          "Mail": "100%",
          "Method": "Mail",
          "Online": "0%",
          "Percent": 0,
          "Pollster": "WPA Intelligence*",
          "Text": "0%",
          "Type": "Landline"
         },
         {
          "Cell": "0%",
          "Landline": "0%",
          "Mail": "0%",
          "Method": "Mail",
          "Online": "100%",
          "Percent": 0,
          "Pollster": "We Ask America",
          "Text": "0%",
          "Type": "Landline"
         },
         {
          "Cell": "0%",
          "Landline": "0%",
          "Mail": "0%",
          "Method": "Online",
          "Online": "100%",
          "Percent": 0,
          "Pollster": "YouGov",
          "Text": "0%",
          "Type": "Landline"
         },
         {
          "Cell": "0%",
          "Landline": "0%",
          "Mail": "0%",
          "Method": "Online",
          "Online": "100%",
          "Percent": 0,
          "Pollster": "YouGov Blue/Data for Progress",
          "Text": "0%",
          "Type": "Landline"
         },
         {
          "Cell": "0%",
          "Landline": "0%",
          "Mail": "0%",
          "Method": "Online",
          "Online": "100%",
          "Percent": 0,
          "Pollster": "Zogby Interactive/JZ Analytics",
          "Text": "0%",
          "Type": "Landline"
         },
         {
          "Cell": "65%",
          "Landline": "35%",
          "Mail": "0%",
          "Method": "Cell/Landline",
          "Online": "0%",
          "Percent": 65,
          "Pollster": "ABC News/Washington Post",
          "Text": "0%",
          "Type": "Cell"
         },
         {
          "Cell": "0%",
          "Landline": "0%",
          "Mail": "0%",
          "Method": "Online",
          "Online": "100%",
          "Percent": 0,
          "Pollster": "Avalanche Strategy",
          "Text": "0%",
          "Type": "Cell"
         },
         {
          "Cell": "50%",
          "Landline": "50%",
          "Mail": "0%",
          "Method": "Cell/Landline",
          "Online": "0%",
          "Percent": 50,
          "Pollster": "Bendixen & Amandi International",
          "Text": "0%",
          "Type": "Cell"
         },
         {
          "Cell": "50%",
          "Landline": "50%",
          "Mail": "0%",
          "Method": "Cell/Landline",
          "Online": "0%",
          "Percent": 50,
          "Pollster": "Benenson Strategy Group*",
          "Text": "0%",
          "Type": "Cell"
         },
         {
          "Cell": "50%",
          "Landline": "50%",
          "Mail": "0%",
          "Method": "Cell/Landline",
          "Online": "0%",
          "Percent": 50,
          "Pollster": "Bold Blue Campaigns",
          "Text": "0%",
          "Type": "Cell"
         },
         {
          "Cell": "50%",
          "Landline": "50%",
          "Mail": "0%",
          "Method": "Cell/Landline",
          "Online": "0%",
          "Percent": 50,
          "Pollster": "CNN/Des Moines Register (Selzer & Co.)",
          "Text": "0%",
          "Type": "Cell"
         },
         {
          "Cell": "64%",
          "Landline": "36%",
          "Mail": "0%",
          "Method": "Cell/Landline",
          "Online": "0%",
          "Percent": 64,
          "Pollster": "CNN/SSRS",
          "Text": "0%",
          "Type": "Cell"
         },
         {
          "Cell": "0%",
          "Landline": "0%",
          "Mail": "0%",
          "Method": "Online",
          "Online": "100%",
          "Percent": 0,
          "Pollster": "Capitol Weekly",
          "Text": "0%",
          "Type": "Cell"
         },
         {
          "Cell": "0%",
          "Landline": "0%",
          "Mail": "0%",
          "Method": "Online",
          "Online": "100%",
          "Percent": 0,
          "Pollster": "Change Research",
          "Text": "0%",
          "Type": "Cell"
         },
         {
          "Cell": "0%",
          "Landline": "49%",
          "Mail": "0%",
          "Method": "Landline/Text",
          "Online": "0%",
          "Percent": 0,
          "Pollster": "Chism Strategies",
          "Text": "51%",
          "Type": "Cell"
         },
         {
          "Cell": "0%",
          "Landline": "0%",
          "Mail": "0%",
          "Method": "Online",
          "Online": "100%",
          "Percent": 0,
          "Pollster": "Civiqs",
          "Text": "0%",
          "Type": "Cell"
         },
         {
          "Cell": "0%",
          "Landline": "0%",
          "Mail": "0%",
          "Method": "Online",
          "Online": "100%",
          "Percent": 0,
          "Pollster": "Claster Consulting",
          "Text": "0%",
          "Type": "Cell"
         },
         {
          "Cell": "0%",
          "Landline": "0%",
          "Mail": "0%",
          "Method": "Online",
          "Online": "100%",
          "Percent": 0,
          "Pollster": "Climate Nexus",
          "Text": "0%",
          "Type": "Cell"
         },
         {
          "Cell": "0%",
          "Landline": "0%",
          "Mail": "0%",
          "Method": "Online",
          "Online": "100%",
          "Percent": 0,
          "Pollster": "Crantford Research",
          "Text": "0%",
          "Type": "Cell"
         },
         {
          "Cell": "0%",
          "Landline": "0%",
          "Mail": "0%",
          "Method": "Online",
          "Online": "100%",
          "Percent": 0,
          "Pollster": "D-CYFOR",
          "Text": "0%",
          "Type": "Cell"
         },
         {
          "Cell": "50%",
          "Landline": "50%",
          "Mail": "0%",
          "Method": "Cell/Landline",
          "Online": "0%",
          "Percent": 50,
          "Pollster": "David Binder Research",
          "Text": "0%",
          "Type": "Cell"
         },
         {
          "Cell": "35%",
          "Landline": "65%",
          "Mail": "0%",
          "Method": "Cell/Landline",
          "Online": "0%",
          "Percent": 35,
          "Pollster": "Denno Research",
          "Text": "0%",
          "Type": "Cell"
         },
         {
          "Cell": "0%",
          "Landline": "0%",
          "Mail": "0%",
          "Method": "Online",
          "Online": "100%",
          "Percent": 0,
          "Pollster": "Echelon Insights",
          "Text": "0%",
          "Type": "Cell"
         },
         {
          "Cell": "0%",
          "Landline": "66%",
          "Mail": "0%",
          "Method": "Landline/Online",
          "Online": "34%",
          "Percent": 0,
          "Pollster": "Emerson College",
          "Text": "0%",
          "Type": "Cell"
         },
         {
          "Cell": "22%",
          "Landline": "42%",
          "Mail": "0%",
          "Method": "Cell/Land/Text",
          "Online": "0%",
          "Percent": 22,
          "Pollster": "Firehouse Strategies/Øptimus",
          "Text": "36%",
          "Type": "Cell"
         },
         {
          "Cell": "0%",
          "Landline": "62%",
          "Mail": "0%",
          "Method": "Landline/Online",
          "Online": "38%",
          "Percent": 0,
          "Pollster": "Florida Atlantic University",
          "Text": "0%",
          "Type": "Cell"
         },
         {
          "Cell": "75%",
          "Landline": "25%",
          "Mail": "0%",
          "Method": "Cell/Landline",
          "Online": "0%",
          "Percent": 75,
          "Pollster": "Fox News",
          "Text": "0%",
          "Type": "Cell"
         },
         {
          "Cell": "0%",
          "Landline": "0%",
          "Mail": "100%",
          "Method": "Mail",
          "Online": "0%",
          "Percent": 0,
          "Pollster": "Franklin & Marshall College",
          "Text": "0%",
          "Type": "Cell"
         },
         {
          "Cell": "50%",
          "Landline": "50%",
          "Mail": "0%",
          "Method": "Cell/Landline",
          "Online": "0%",
          "Percent": 50,
          "Pollster": "GBAO",
          "Text": "0%",
          "Type": "Cell"
         },
         {
          "Cell": "50%",
          "Landline": "50%",
          "Mail": "0%",
          "Method": "Cell/Landline",
          "Online": "0%",
          "Percent": 50,
          "Pollster": "GQR Research",
          "Text": "0%",
          "Type": "Cell"
         },
         {
          "Cell": "33%",
          "Landline": "33%",
          "Mail": "0%",
          "Method": "Cell/Land/Online",
          "Online": "33%",
          "Percent": 33,
          "Pollster": "Gravis Marketing",
          "Text": "0%",
          "Type": "Cell"
         },
         {
          "Cell": "0%",
          "Landline": "0%",
          "Mail": "100%",
          "Method": "Mail",
          "Online": "0%",
          "Percent": 0,
          "Pollster": "Hampton University",
          "Text": "0%",
          "Type": "Cell"
         },
         {
          "Cell": "0%",
          "Landline": "0%",
          "Mail": "0%",
          "Method": "Online",
          "Online": "100%",
          "Percent": 0,
          "Pollster": "Harris Interactive",
          "Text": "0%",
          "Type": "Cell"
         },
         {
          "Cell": "0%",
          "Landline": "0%",
          "Mail": "0%",
          "Method": "Online",
          "Online": "100%",
          "Percent": 0,
          "Pollster": "HarrisX",
          "Text": "0%",
          "Type": "Cell"
         },
         {
          "Cell": "78%",
          "Landline": "22%",
          "Mail": "0%",
          "Method": "Cell/Landline",
          "Online": "0%",
          "Percent": 78,
          "Pollster": "IBD/TIPP",
          "Text": "0%",
          "Type": "Cell"
         },
         {
          "Cell": "62%",
          "Landline": "38%",
          "Mail": "0%",
          "Method": "Cell/Landline",
          "Online": "0%",
          "Percent": 62,
          "Pollster": "Marquette Law School",
          "Text": "0%",
          "Type": "Cell"
         },
         {
          "Cell": "0%",
          "Landline": "0%",
          "Mail": "0%",
          "Method": "Online",
          "Online": "100%",
          "Percent": 0,
          "Pollster": "McLaughlin & Associates",
          "Text": "0%",
          "Type": "Cell"
         },
         {
          "Cell": "56%",
          "Landline": "44%",
          "Mail": "0%",
          "Method": "Cell/Landline",
          "Online": "0%",
          "Percent": 56,
          "Pollster": "Monmouth University",
          "Text": "0%",
          "Type": "Cell"
         },
         {
          "Cell": "0%",
          "Landline": "0%",
          "Mail": "0%",
          "Method": "Online",
          "Online": "100%",
          "Percent": 0,
          "Pollster": "Morning Consult",
          "Text": "0%",
          "Type": "Cell"
         },
         {
          "Cell": "61%",
          "Landline": "39%",
          "Mail": "0%",
          "Method": "Cell/Landline",
          "Online": "0%",
          "Percent": 61,
          "Pollster": "Muhlenberg College",
          "Text": "0%",
          "Type": "Cell"
         },
         {
          "Cell": "56%",
          "Landline": "44%",
          "Mail": "0%",
          "Method": "Cell/Landline",
          "Online": "0%",
          "Percent": 56,
          "Pollster": "NBC News/Wall Street Journal",
          "Text": "0%",
          "Type": "Cell"
         },
         {
          "Cell": "0%",
          "Landline": "0%",
          "Mail": "0%",
          "Method": "Online",
          "Online": "100%",
          "Percent": 0,
          "Pollster": "Pew Research Center",
          "Text": "0%",
          "Type": "Cell"
         },
         {
          "Cell": "70%",
          "Landline": "30%",
          "Mail": "0%",
          "Method": "Cell/Landline",
          "Online": "0%",
          "Percent": 70,
          "Pollster": "Public Policy Institute of California",
          "Text": "0%",
          "Type": "Cell"
         },
         {
          "Cell": "50%",
          "Landline": "0%",
          "Mail": "0%",
          "Method": "Cell/Online",
          "Online": "50%",
          "Percent": 50,
          "Pollster": "Public Policy Polling*",
          "Text": "0%",
          "Type": "Cell"
         },
         {
          "Cell": "50%",
          "Landline": "50%",
          "Mail": "0%",
          "Method": "Cell/Landline",
          "Online": "0%",
          "Percent": 50,
          "Pollster": "Quinnipiac University",
          "Text": "0%",
          "Type": "Cell"
         },
         {
          "Cell": "80%",
          "Landline": "20%",
          "Mail": "0%",
          "Method": "Cell/Landline",
          "Online": "0%",
          "Percent": 80,
          "Pollster": "RKM Research and Communications Inc.",
          "Text": "0%",
          "Type": "Cell"
         },
         {
          "Cell": "65%",
          "Landline": "35%",
          "Mail": "0%",
          "Method": "Cell/Landline",
          "Online": "0%",
          "Percent": 65,
          "Pollster": "Ragnar Research Partners",
          "Text": "0%",
          "Type": "Cell"
         },
         {
          "Cell": "20%",
          "Landline": "80%",
          "Mail": "0%",
          "Method": "Cell/Landline",
          "Online": "0%",
          "Percent": 20,
          "Pollster": "Remington Research Group",
          "Text": "0%",
          "Type": "Cell"
         },
         {
          "Cell": "0%",
          "Landline": "0%",
          "Mail": "0%",
          "Method": "Online",
          "Online": "100%",
          "Percent": 0,
          "Pollster": "Reuters/Ipsos",
          "Text": "0%",
          "Type": "Cell"
         },
         {
          "Cell": "50%",
          "Landline": "50%",
          "Mail": "0%",
          "Method": "Cell/Landline",
          "Online": "0%",
          "Percent": 50,
          "Pollster": "Saint Anselm College",
          "Text": "0%",
          "Type": "Cell"
         },
         {
          "Cell": "50%",
          "Landline": "50%",
          "Mail": "0%",
          "Method": "Cell/Landline",
          "Online": "0%",
          "Percent": 50,
          "Pollster": "Siena College",
          "Text": "0%",
          "Type": "Cell"
         },
         {
          "Cell": "43%",
          "Landline": "57%",
          "Mail": "0%",
          "Method": "Cell/Landline",
          "Online": "0%",
          "Percent": 43,
          "Pollster": "SoonerPoll.com",
          "Text": "0%",
          "Type": "Cell"
         },
         {
          "Cell": "0%",
          "Landline": "100%",
          "Mail": "0%",
          "Method": "Landline",
          "Online": "0%",
          "Percent": 0,
          "Pollster": "St. Pete Polls",
          "Text": "0%",
          "Type": "Cell"
         },
         {
          "Cell": "85%",
          "Landline": "15%",
          "Mail": "0%",
          "Method": "Cell/Landline",
          "Online": "0%",
          "Percent": 85,
          "Pollster": "Suffolk University/USA Today",
          "Text": "0%",
          "Type": "Cell"
         },
         {
          "Cell": "0%",
          "Landline": "0%",
          "Mail": "0%",
          "Method": "Online",
          "Online": "100%",
          "Percent": 0,
          "Pollster": "SurveyMonkey",
          "Text": "0%",
          "Type": "Cell"
         },
         {
          "Cell": "0%",
          "Landline": "0%",
          "Mail": "0%",
          "Method": "Online",
          "Online": "100%",
          "Percent": 0,
          "Pollster": "SurveyUSA",
          "Text": "0%",
          "Type": "Cell"
         },
         {
          "Cell": "50%",
          "Landline": "50%",
          "Mail": "0%",
          "Method": "Cell/Landline",
          "Online": "0%",
          "Percent": 50,
          "Pollster": "TargetPoint/GQR Research",
          "Text": "0%",
          "Type": "Cell"
         },
         {
          "Cell": "46%",
          "Landline": "54%",
          "Mail": "0%",
          "Method": "Cell/Landline",
          "Online": "0%",
          "Percent": 46,
          "Pollster": "Tel Opinion Research",
          "Text": "0%",
          "Type": "Cell"
         },
         {
          "Cell": "75%",
          "Landline": "0%",
          "Mail": "0%",
          "Method": "Cell/Online",
          "Online": "25%",
          "Percent": 75,
          "Pollster": "Texas Lyceum",
          "Text": "0%",
          "Type": "Cell"
         },
         {
          "Cell": "0%",
          "Landline": "0%",
          "Mail": "0%",
          "Method": "Online",
          "Online": "100%",
          "Percent": 0,
          "Pollster": "UC Berkeley",
          "Text": "0%",
          "Type": "Cell"
         },
         {
          "Cell": "0%",
          "Landline": "0%",
          "Mail": "100%",
          "Method": "Mail",
          "Online": "0%",
          "Percent": 0,
          "Pollster": "USC Dornsife/LA Times",
          "Text": "0%",
          "Type": "Cell"
         },
         {
          "Cell": "80%",
          "Landline": "20%",
          "Mail": "0%",
          "Method": "Cell/Landline",
          "Online": "0%",
          "Percent": 80,
          "Pollster": "University of New Hampshire",
          "Text": "0%",
          "Type": "Cell"
         },
         {
          "Cell": "0%",
          "Landline": "0%",
          "Mail": "0%",
          "Method": "Online",
          "Online": "100%",
          "Percent": 0,
          "Pollster": "University of Texas at Tyler",
          "Text": "0%",
          "Type": "Cell"
         },
         {
          "Cell": "0%",
          "Landline": "0%",
          "Mail": "100%",
          "Method": "Mail",
          "Online": "0%",
          "Percent": 0,
          "Pollster": "Univision/University of Houston/Latino Decisions/North Star Opinion Research",
          "Text": "0%",
          "Type": "Cell"
         },
         {
          "Cell": "58%",
          "Landline": "42%",
          "Mail": "0%",
          "Method": "Cell/Landline",
          "Online": "0%",
          "Percent": 58,
          "Pollster": "Victory Research",
          "Text": "0%",
          "Type": "Cell"
         },
         {
          "Cell": "0%",
          "Landline": "0%",
          "Mail": "100%",
          "Method": "Mail",
          "Online": "0%",
          "Percent": 0,
          "Pollster": "WPA Intelligence*",
          "Text": "0%",
          "Type": "Cell"
         },
         {
          "Cell": "0%",
          "Landline": "0%",
          "Mail": "0%",
          "Method": "Mail",
          "Online": "100%",
          "Percent": 0,
          "Pollster": "We Ask America",
          "Text": "0%",
          "Type": "Cell"
         },
         {
          "Cell": "0%",
          "Landline": "0%",
          "Mail": "0%",
          "Method": "Online",
          "Online": "100%",
          "Percent": 0,
          "Pollster": "YouGov",
          "Text": "0%",
          "Type": "Cell"
         },
         {
          "Cell": "0%",
          "Landline": "0%",
          "Mail": "0%",
          "Method": "Online",
          "Online": "100%",
          "Percent": 0,
          "Pollster": "YouGov Blue/Data for Progress",
          "Text": "0%",
          "Type": "Cell"
         },
         {
          "Cell": "0%",
          "Landline": "0%",
          "Mail": "0%",
          "Method": "Online",
          "Online": "100%",
          "Percent": 0,
          "Pollster": "Zogby Interactive/JZ Analytics",
          "Text": "0%",
          "Type": "Cell"
         },
         {
          "Cell": "65%",
          "Landline": "35%",
          "Mail": "0%",
          "Method": "Cell/Landline",
          "Online": "0%",
          "Percent": 0,
          "Pollster": "ABC News/Washington Post",
          "Text": "0%",
          "Type": "Text"
         },
         {
          "Cell": "0%",
          "Landline": "0%",
          "Mail": "0%",
          "Method": "Online",
          "Online": "100%",
          "Percent": 0,
          "Pollster": "Avalanche Strategy",
          "Text": "0%",
          "Type": "Text"
         },
         {
          "Cell": "50%",
          "Landline": "50%",
          "Mail": "0%",
          "Method": "Cell/Landline",
          "Online": "0%",
          "Percent": 0,
          "Pollster": "Bendixen & Amandi International",
          "Text": "0%",
          "Type": "Text"
         },
         {
          "Cell": "50%",
          "Landline": "50%",
          "Mail": "0%",
          "Method": "Cell/Landline",
          "Online": "0%",
          "Percent": 0,
          "Pollster": "Benenson Strategy Group*",
          "Text": "0%",
          "Type": "Text"
         },
         {
          "Cell": "50%",
          "Landline": "50%",
          "Mail": "0%",
          "Method": "Cell/Landline",
          "Online": "0%",
          "Percent": 0,
          "Pollster": "Bold Blue Campaigns",
          "Text": "0%",
          "Type": "Text"
         },
         {
          "Cell": "50%",
          "Landline": "50%",
          "Mail": "0%",
          "Method": "Cell/Landline",
          "Online": "0%",
          "Percent": 0,
          "Pollster": "CNN/Des Moines Register (Selzer & Co.)",
          "Text": "0%",
          "Type": "Text"
         },
         {
          "Cell": "64%",
          "Landline": "36%",
          "Mail": "0%",
          "Method": "Cell/Landline",
          "Online": "0%",
          "Percent": 0,
          "Pollster": "CNN/SSRS",
          "Text": "0%",
          "Type": "Text"
         },
         {
          "Cell": "0%",
          "Landline": "0%",
          "Mail": "0%",
          "Method": "Online",
          "Online": "100%",
          "Percent": 0,
          "Pollster": "Capitol Weekly",
          "Text": "0%",
          "Type": "Text"
         },
         {
          "Cell": "0%",
          "Landline": "0%",
          "Mail": "0%",
          "Method": "Online",
          "Online": "100%",
          "Percent": 0,
          "Pollster": "Change Research",
          "Text": "0%",
          "Type": "Text"
         },
         {
          "Cell": "0%",
          "Landline": "49%",
          "Mail": "0%",
          "Method": "Landline/Text",
          "Online": "0%",
          "Percent": 51,
          "Pollster": "Chism Strategies",
          "Text": "51%",
          "Type": "Text"
         },
         {
          "Cell": "0%",
          "Landline": "0%",
          "Mail": "0%",
          "Method": "Online",
          "Online": "100%",
          "Percent": 0,
          "Pollster": "Civiqs",
          "Text": "0%",
          "Type": "Text"
         },
         {
          "Cell": "0%",
          "Landline": "0%",
          "Mail": "0%",
          "Method": "Online",
          "Online": "100%",
          "Percent": 0,
          "Pollster": "Claster Consulting",
          "Text": "0%",
          "Type": "Text"
         },
         {
          "Cell": "0%",
          "Landline": "0%",
          "Mail": "0%",
          "Method": "Online",
          "Online": "100%",
          "Percent": 0,
          "Pollster": "Climate Nexus",
          "Text": "0%",
          "Type": "Text"
         },
         {
          "Cell": "0%",
          "Landline": "0%",
          "Mail": "0%",
          "Method": "Online",
          "Online": "100%",
          "Percent": 0,
          "Pollster": "Crantford Research",
          "Text": "0%",
          "Type": "Text"
         },
         {
          "Cell": "0%",
          "Landline": "0%",
          "Mail": "0%",
          "Method": "Online",
          "Online": "100%",
          "Percent": 0,
          "Pollster": "D-CYFOR",
          "Text": "0%",
          "Type": "Text"
         },
         {
          "Cell": "50%",
          "Landline": "50%",
          "Mail": "0%",
          "Method": "Cell/Landline",
          "Online": "0%",
          "Percent": 0,
          "Pollster": "David Binder Research",
          "Text": "0%",
          "Type": "Text"
         },
         {
          "Cell": "35%",
          "Landline": "65%",
          "Mail": "0%",
          "Method": "Cell/Landline",
          "Online": "0%",
          "Percent": 0,
          "Pollster": "Denno Research",
          "Text": "0%",
          "Type": "Text"
         },
         {
          "Cell": "0%",
          "Landline": "0%",
          "Mail": "0%",
          "Method": "Online",
          "Online": "100%",
          "Percent": 0,
          "Pollster": "Echelon Insights",
          "Text": "0%",
          "Type": "Text"
         },
         {
          "Cell": "0%",
          "Landline": "66%",
          "Mail": "0%",
          "Method": "Landline/Online",
          "Online": "34%",
          "Percent": 0,
          "Pollster": "Emerson College",
          "Text": "0%",
          "Type": "Text"
         },
         {
          "Cell": "22%",
          "Landline": "42%",
          "Mail": "0%",
          "Method": "Cell/Land/Text",
          "Online": "0%",
          "Percent": 36,
          "Pollster": "Firehouse Strategies/Øptimus",
          "Text": "36%",
          "Type": "Text"
         },
         {
          "Cell": "0%",
          "Landline": "62%",
          "Mail": "0%",
          "Method": "Landline/Online",
          "Online": "38%",
          "Percent": 0,
          "Pollster": "Florida Atlantic University",
          "Text": "0%",
          "Type": "Text"
         },
         {
          "Cell": "75%",
          "Landline": "25%",
          "Mail": "0%",
          "Method": "Cell/Landline",
          "Online": "0%",
          "Percent": 0,
          "Pollster": "Fox News",
          "Text": "0%",
          "Type": "Text"
         },
         {
          "Cell": "0%",
          "Landline": "0%",
          "Mail": "100%",
          "Method": "Mail",
          "Online": "0%",
          "Percent": 0,
          "Pollster": "Franklin & Marshall College",
          "Text": "0%",
          "Type": "Text"
         },
         {
          "Cell": "50%",
          "Landline": "50%",
          "Mail": "0%",
          "Method": "Cell/Landline",
          "Online": "0%",
          "Percent": 0,
          "Pollster": "GBAO",
          "Text": "0%",
          "Type": "Text"
         },
         {
          "Cell": "50%",
          "Landline": "50%",
          "Mail": "0%",
          "Method": "Cell/Landline",
          "Online": "0%",
          "Percent": 0,
          "Pollster": "GQR Research",
          "Text": "0%",
          "Type": "Text"
         },
         {
          "Cell": "33%",
          "Landline": "33%",
          "Mail": "0%",
          "Method": "Cell/Land/Online",
          "Online": "33%",
          "Percent": 0,
          "Pollster": "Gravis Marketing",
          "Text": "0%",
          "Type": "Text"
         },
         {
          "Cell": "0%",
          "Landline": "0%",
          "Mail": "100%",
          "Method": "Mail",
          "Online": "0%",
          "Percent": 0,
          "Pollster": "Hampton University",
          "Text": "0%",
          "Type": "Text"
         },
         {
          "Cell": "0%",
          "Landline": "0%",
          "Mail": "0%",
          "Method": "Online",
          "Online": "100%",
          "Percent": 0,
          "Pollster": "Harris Interactive",
          "Text": "0%",
          "Type": "Text"
         },
         {
          "Cell": "0%",
          "Landline": "0%",
          "Mail": "0%",
          "Method": "Online",
          "Online": "100%",
          "Percent": 0,
          "Pollster": "HarrisX",
          "Text": "0%",
          "Type": "Text"
         },
         {
          "Cell": "78%",
          "Landline": "22%",
          "Mail": "0%",
          "Method": "Cell/Landline",
          "Online": "0%",
          "Percent": 0,
          "Pollster": "IBD/TIPP",
          "Text": "0%",
          "Type": "Text"
         },
         {
          "Cell": "62%",
          "Landline": "38%",
          "Mail": "0%",
          "Method": "Cell/Landline",
          "Online": "0%",
          "Percent": 0,
          "Pollster": "Marquette Law School",
          "Text": "0%",
          "Type": "Text"
         },
         {
          "Cell": "0%",
          "Landline": "0%",
          "Mail": "0%",
          "Method": "Online",
          "Online": "100%",
          "Percent": 0,
          "Pollster": "McLaughlin & Associates",
          "Text": "0%",
          "Type": "Text"
         },
         {
          "Cell": "56%",
          "Landline": "44%",
          "Mail": "0%",
          "Method": "Cell/Landline",
          "Online": "0%",
          "Percent": 0,
          "Pollster": "Monmouth University",
          "Text": "0%",
          "Type": "Text"
         },
         {
          "Cell": "0%",
          "Landline": "0%",
          "Mail": "0%",
          "Method": "Online",
          "Online": "100%",
          "Percent": 0,
          "Pollster": "Morning Consult",
          "Text": "0%",
          "Type": "Text"
         },
         {
          "Cell": "61%",
          "Landline": "39%",
          "Mail": "0%",
          "Method": "Cell/Landline",
          "Online": "0%",
          "Percent": 0,
          "Pollster": "Muhlenberg College",
          "Text": "0%",
          "Type": "Text"
         },
         {
          "Cell": "56%",
          "Landline": "44%",
          "Mail": "0%",
          "Method": "Cell/Landline",
          "Online": "0%",
          "Percent": 0,
          "Pollster": "NBC News/Wall Street Journal",
          "Text": "0%",
          "Type": "Text"
         },
         {
          "Cell": "0%",
          "Landline": "0%",
          "Mail": "0%",
          "Method": "Online",
          "Online": "100%",
          "Percent": 0,
          "Pollster": "Pew Research Center",
          "Text": "0%",
          "Type": "Text"
         },
         {
          "Cell": "70%",
          "Landline": "30%",
          "Mail": "0%",
          "Method": "Cell/Landline",
          "Online": "0%",
          "Percent": 0,
          "Pollster": "Public Policy Institute of California",
          "Text": "0%",
          "Type": "Text"
         },
         {
          "Cell": "50%",
          "Landline": "0%",
          "Mail": "0%",
          "Method": "Cell/Online",
          "Online": "50%",
          "Percent": 0,
          "Pollster": "Public Policy Polling*",
          "Text": "0%",
          "Type": "Text"
         },
         {
          "Cell": "50%",
          "Landline": "50%",
          "Mail": "0%",
          "Method": "Cell/Landline",
          "Online": "0%",
          "Percent": 0,
          "Pollster": "Quinnipiac University",
          "Text": "0%",
          "Type": "Text"
         },
         {
          "Cell": "80%",
          "Landline": "20%",
          "Mail": "0%",
          "Method": "Cell/Landline",
          "Online": "0%",
          "Percent": 0,
          "Pollster": "RKM Research and Communications Inc.",
          "Text": "0%",
          "Type": "Text"
         },
         {
          "Cell": "65%",
          "Landline": "35%",
          "Mail": "0%",
          "Method": "Cell/Landline",
          "Online": "0%",
          "Percent": 0,
          "Pollster": "Ragnar Research Partners",
          "Text": "0%",
          "Type": "Text"
         },
         {
          "Cell": "20%",
          "Landline": "80%",
          "Mail": "0%",
          "Method": "Cell/Landline",
          "Online": "0%",
          "Percent": 0,
          "Pollster": "Remington Research Group",
          "Text": "0%",
          "Type": "Text"
         },
         {
          "Cell": "0%",
          "Landline": "0%",
          "Mail": "0%",
          "Method": "Online",
          "Online": "100%",
          "Percent": 0,
          "Pollster": "Reuters/Ipsos",
          "Text": "0%",
          "Type": "Text"
         },
         {
          "Cell": "50%",
          "Landline": "50%",
          "Mail": "0%",
          "Method": "Cell/Landline",
          "Online": "0%",
          "Percent": 0,
          "Pollster": "Saint Anselm College",
          "Text": "0%",
          "Type": "Text"
         },
         {
          "Cell": "50%",
          "Landline": "50%",
          "Mail": "0%",
          "Method": "Cell/Landline",
          "Online": "0%",
          "Percent": 0,
          "Pollster": "Siena College",
          "Text": "0%",
          "Type": "Text"
         },
         {
          "Cell": "43%",
          "Landline": "57%",
          "Mail": "0%",
          "Method": "Cell/Landline",
          "Online": "0%",
          "Percent": 0,
          "Pollster": "SoonerPoll.com",
          "Text": "0%",
          "Type": "Text"
         },
         {
          "Cell": "0%",
          "Landline": "100%",
          "Mail": "0%",
          "Method": "Landline",
          "Online": "0%",
          "Percent": 0,
          "Pollster": "St. Pete Polls",
          "Text": "0%",
          "Type": "Text"
         },
         {
          "Cell": "85%",
          "Landline": "15%",
          "Mail": "0%",
          "Method": "Cell/Landline",
          "Online": "0%",
          "Percent": 0,
          "Pollster": "Suffolk University/USA Today",
          "Text": "0%",
          "Type": "Text"
         },
         {
          "Cell": "0%",
          "Landline": "0%",
          "Mail": "0%",
          "Method": "Online",
          "Online": "100%",
          "Percent": 0,
          "Pollster": "SurveyMonkey",
          "Text": "0%",
          "Type": "Text"
         },
         {
          "Cell": "0%",
          "Landline": "0%",
          "Mail": "0%",
          "Method": "Online",
          "Online": "100%",
          "Percent": 0,
          "Pollster": "SurveyUSA",
          "Text": "0%",
          "Type": "Text"
         },
         {
          "Cell": "50%",
          "Landline": "50%",
          "Mail": "0%",
          "Method": "Cell/Landline",
          "Online": "0%",
          "Percent": 0,
          "Pollster": "TargetPoint/GQR Research",
          "Text": "0%",
          "Type": "Text"
         },
         {
          "Cell": "46%",
          "Landline": "54%",
          "Mail": "0%",
          "Method": "Cell/Landline",
          "Online": "0%",
          "Percent": 0,
          "Pollster": "Tel Opinion Research",
          "Text": "0%",
          "Type": "Text"
         },
         {
          "Cell": "75%",
          "Landline": "0%",
          "Mail": "0%",
          "Method": "Cell/Online",
          "Online": "25%",
          "Percent": 0,
          "Pollster": "Texas Lyceum",
          "Text": "0%",
          "Type": "Text"
         },
         {
          "Cell": "0%",
          "Landline": "0%",
          "Mail": "0%",
          "Method": "Online",
          "Online": "100%",
          "Percent": 0,
          "Pollster": "UC Berkeley",
          "Text": "0%",
          "Type": "Text"
         },
         {
          "Cell": "0%",
          "Landline": "0%",
          "Mail": "100%",
          "Method": "Mail",
          "Online": "0%",
          "Percent": 0,
          "Pollster": "USC Dornsife/LA Times",
          "Text": "0%",
          "Type": "Text"
         },
         {
          "Cell": "80%",
          "Landline": "20%",
          "Mail": "0%",
          "Method": "Cell/Landline",
          "Online": "0%",
          "Percent": 0,
          "Pollster": "University of New Hampshire",
          "Text": "0%",
          "Type": "Text"
         },
         {
          "Cell": "0%",
          "Landline": "0%",
          "Mail": "0%",
          "Method": "Online",
          "Online": "100%",
          "Percent": 0,
          "Pollster": "University of Texas at Tyler",
          "Text": "0%",
          "Type": "Text"
         },
         {
          "Cell": "0%",
          "Landline": "0%",
          "Mail": "100%",
          "Method": "Mail",
          "Online": "0%",
          "Percent": 0,
          "Pollster": "Univision/University of Houston/Latino Decisions/North Star Opinion Research",
          "Text": "0%",
          "Type": "Text"
         },
         {
          "Cell": "58%",
          "Landline": "42%",
          "Mail": "0%",
          "Method": "Cell/Landline",
          "Online": "0%",
          "Percent": 0,
          "Pollster": "Victory Research",
          "Text": "0%",
          "Type": "Text"
         },
         {
          "Cell": "0%",
          "Landline": "0%",
          "Mail": "100%",
          "Method": "Mail",
          "Online": "0%",
          "Percent": 0,
          "Pollster": "WPA Intelligence*",
          "Text": "0%",
          "Type": "Text"
         },
         {
          "Cell": "0%",
          "Landline": "0%",
          "Mail": "0%",
          "Method": "Mail",
          "Online": "100%",
          "Percent": 0,
          "Pollster": "We Ask America",
          "Text": "0%",
          "Type": "Text"
         },
         {
          "Cell": "0%",
          "Landline": "0%",
          "Mail": "0%",
          "Method": "Online",
          "Online": "100%",
          "Percent": 0,
          "Pollster": "YouGov",
          "Text": "0%",
          "Type": "Text"
         },
         {
          "Cell": "0%",
          "Landline": "0%",
          "Mail": "0%",
          "Method": "Online",
          "Online": "100%",
          "Percent": 0,
          "Pollster": "YouGov Blue/Data for Progress",
          "Text": "0%",
          "Type": "Text"
         },
         {
          "Cell": "0%",
          "Landline": "0%",
          "Mail": "0%",
          "Method": "Online",
          "Online": "100%",
          "Percent": 0,
          "Pollster": "Zogby Interactive/JZ Analytics",
          "Text": "0%",
          "Type": "Text"
         },
         {
          "Cell": "65%",
          "Landline": "35%",
          "Mail": "0%",
          "Method": "Cell/Landline",
          "Online": "0%",
          "Percent": 0,
          "Pollster": "ABC News/Washington Post",
          "Text": "0%",
          "Type": "Online"
         },
         {
          "Cell": "0%",
          "Landline": "0%",
          "Mail": "0%",
          "Method": "Online",
          "Online": "100%",
          "Percent": 100,
          "Pollster": "Avalanche Strategy",
          "Text": "0%",
          "Type": "Online"
         },
         {
          "Cell": "50%",
          "Landline": "50%",
          "Mail": "0%",
          "Method": "Cell/Landline",
          "Online": "0%",
          "Percent": 0,
          "Pollster": "Bendixen & Amandi International",
          "Text": "0%",
          "Type": "Online"
         },
         {
          "Cell": "50%",
          "Landline": "50%",
          "Mail": "0%",
          "Method": "Cell/Landline",
          "Online": "0%",
          "Percent": 0,
          "Pollster": "Benenson Strategy Group*",
          "Text": "0%",
          "Type": "Online"
         },
         {
          "Cell": "50%",
          "Landline": "50%",
          "Mail": "0%",
          "Method": "Cell/Landline",
          "Online": "0%",
          "Percent": 0,
          "Pollster": "Bold Blue Campaigns",
          "Text": "0%",
          "Type": "Online"
         },
         {
          "Cell": "50%",
          "Landline": "50%",
          "Mail": "0%",
          "Method": "Cell/Landline",
          "Online": "0%",
          "Percent": 0,
          "Pollster": "CNN/Des Moines Register (Selzer & Co.)",
          "Text": "0%",
          "Type": "Online"
         },
         {
          "Cell": "64%",
          "Landline": "36%",
          "Mail": "0%",
          "Method": "Cell/Landline",
          "Online": "0%",
          "Percent": 0,
          "Pollster": "CNN/SSRS",
          "Text": "0%",
          "Type": "Online"
         },
         {
          "Cell": "0%",
          "Landline": "0%",
          "Mail": "0%",
          "Method": "Online",
          "Online": "100%",
          "Percent": 100,
          "Pollster": "Capitol Weekly",
          "Text": "0%",
          "Type": "Online"
         },
         {
          "Cell": "0%",
          "Landline": "0%",
          "Mail": "0%",
          "Method": "Online",
          "Online": "100%",
          "Percent": 100,
          "Pollster": "Change Research",
          "Text": "0%",
          "Type": "Online"
         },
         {
          "Cell": "0%",
          "Landline": "49%",
          "Mail": "0%",
          "Method": "Landline/Text",
          "Online": "0%",
          "Percent": 0,
          "Pollster": "Chism Strategies",
          "Text": "51%",
          "Type": "Online"
         },
         {
          "Cell": "0%",
          "Landline": "0%",
          "Mail": "0%",
          "Method": "Online",
          "Online": "100%",
          "Percent": 100,
          "Pollster": "Civiqs",
          "Text": "0%",
          "Type": "Online"
         },
         {
          "Cell": "0%",
          "Landline": "0%",
          "Mail": "0%",
          "Method": "Online",
          "Online": "100%",
          "Percent": 100,
          "Pollster": "Claster Consulting",
          "Text": "0%",
          "Type": "Online"
         },
         {
          "Cell": "0%",
          "Landline": "0%",
          "Mail": "0%",
          "Method": "Online",
          "Online": "100%",
          "Percent": 100,
          "Pollster": "Climate Nexus",
          "Text": "0%",
          "Type": "Online"
         },
         {
          "Cell": "0%",
          "Landline": "0%",
          "Mail": "0%",
          "Method": "Online",
          "Online": "100%",
          "Percent": 100,
          "Pollster": "Crantford Research",
          "Text": "0%",
          "Type": "Online"
         },
         {
          "Cell": "0%",
          "Landline": "0%",
          "Mail": "0%",
          "Method": "Online",
          "Online": "100%",
          "Percent": 100,
          "Pollster": "D-CYFOR",
          "Text": "0%",
          "Type": "Online"
         },
         {
          "Cell": "50%",
          "Landline": "50%",
          "Mail": "0%",
          "Method": "Cell/Landline",
          "Online": "0%",
          "Percent": 0,
          "Pollster": "David Binder Research",
          "Text": "0%",
          "Type": "Online"
         },
         {
          "Cell": "35%",
          "Landline": "65%",
          "Mail": "0%",
          "Method": "Cell/Landline",
          "Online": "0%",
          "Percent": 0,
          "Pollster": "Denno Research",
          "Text": "0%",
          "Type": "Online"
         },
         {
          "Cell": "0%",
          "Landline": "0%",
          "Mail": "0%",
          "Method": "Online",
          "Online": "100%",
          "Percent": 100,
          "Pollster": "Echelon Insights",
          "Text": "0%",
          "Type": "Online"
         },
         {
          "Cell": "0%",
          "Landline": "66%",
          "Mail": "0%",
          "Method": "Landline/Online",
          "Online": "34%",
          "Percent": 34,
          "Pollster": "Emerson College",
          "Text": "0%",
          "Type": "Online"
         },
         {
          "Cell": "22%",
          "Landline": "42%",
          "Mail": "0%",
          "Method": "Cell/Land/Text",
          "Online": "0%",
          "Percent": 0,
          "Pollster": "Firehouse Strategies/Øptimus",
          "Text": "36%",
          "Type": "Online"
         },
         {
          "Cell": "0%",
          "Landline": "62%",
          "Mail": "0%",
          "Method": "Landline/Online",
          "Online": "38%",
          "Percent": 38,
          "Pollster": "Florida Atlantic University",
          "Text": "0%",
          "Type": "Online"
         },
         {
          "Cell": "75%",
          "Landline": "25%",
          "Mail": "0%",
          "Method": "Cell/Landline",
          "Online": "0%",
          "Percent": 0,
          "Pollster": "Fox News",
          "Text": "0%",
          "Type": "Online"
         },
         {
          "Cell": "0%",
          "Landline": "0%",
          "Mail": "100%",
          "Method": "Mail",
          "Online": "0%",
          "Percent": 0,
          "Pollster": "Franklin & Marshall College",
          "Text": "0%",
          "Type": "Online"
         },
         {
          "Cell": "50%",
          "Landline": "50%",
          "Mail": "0%",
          "Method": "Cell/Landline",
          "Online": "0%",
          "Percent": 0,
          "Pollster": "GBAO",
          "Text": "0%",
          "Type": "Online"
         },
         {
          "Cell": "50%",
          "Landline": "50%",
          "Mail": "0%",
          "Method": "Cell/Landline",
          "Online": "0%",
          "Percent": 0,
          "Pollster": "GQR Research",
          "Text": "0%",
          "Type": "Online"
         },
         {
          "Cell": "33%",
          "Landline": "33%",
          "Mail": "0%",
          "Method": "Cell/Land/Online",
          "Online": "33%",
          "Percent": 33,
          "Pollster": "Gravis Marketing",
          "Text": "0%",
          "Type": "Online"
         },
         {
          "Cell": "0%",
          "Landline": "0%",
          "Mail": "100%",
          "Method": "Mail",
          "Online": "0%",
          "Percent": 0,
          "Pollster": "Hampton University",
          "Text": "0%",
          "Type": "Online"
         },
         {
          "Cell": "0%",
          "Landline": "0%",
          "Mail": "0%",
          "Method": "Online",
          "Online": "100%",
          "Percent": 100,
          "Pollster": "Harris Interactive",
          "Text": "0%",
          "Type": "Online"
         },
         {
          "Cell": "0%",
          "Landline": "0%",
          "Mail": "0%",
          "Method": "Online",
          "Online": "100%",
          "Percent": 100,
          "Pollster": "HarrisX",
          "Text": "0%",
          "Type": "Online"
         },
         {
          "Cell": "78%",
          "Landline": "22%",
          "Mail": "0%",
          "Method": "Cell/Landline",
          "Online": "0%",
          "Percent": 0,
          "Pollster": "IBD/TIPP",
          "Text": "0%",
          "Type": "Online"
         },
         {
          "Cell": "62%",
          "Landline": "38%",
          "Mail": "0%",
          "Method": "Cell/Landline",
          "Online": "0%",
          "Percent": 0,
          "Pollster": "Marquette Law School",
          "Text": "0%",
          "Type": "Online"
         },
         {
          "Cell": "0%",
          "Landline": "0%",
          "Mail": "0%",
          "Method": "Online",
          "Online": "100%",
          "Percent": 100,
          "Pollster": "McLaughlin & Associates",
          "Text": "0%",
          "Type": "Online"
         },
         {
          "Cell": "56%",
          "Landline": "44%",
          "Mail": "0%",
          "Method": "Cell/Landline",
          "Online": "0%",
          "Percent": 0,
          "Pollster": "Monmouth University",
          "Text": "0%",
          "Type": "Online"
         },
         {
          "Cell": "0%",
          "Landline": "0%",
          "Mail": "0%",
          "Method": "Online",
          "Online": "100%",
          "Percent": 100,
          "Pollster": "Morning Consult",
          "Text": "0%",
          "Type": "Online"
         },
         {
          "Cell": "61%",
          "Landline": "39%",
          "Mail": "0%",
          "Method": "Cell/Landline",
          "Online": "0%",
          "Percent": 0,
          "Pollster": "Muhlenberg College",
          "Text": "0%",
          "Type": "Online"
         },
         {
          "Cell": "56%",
          "Landline": "44%",
          "Mail": "0%",
          "Method": "Cell/Landline",
          "Online": "0%",
          "Percent": 0,
          "Pollster": "NBC News/Wall Street Journal",
          "Text": "0%",
          "Type": "Online"
         },
         {
          "Cell": "0%",
          "Landline": "0%",
          "Mail": "0%",
          "Method": "Online",
          "Online": "100%",
          "Percent": 100,
          "Pollster": "Pew Research Center",
          "Text": "0%",
          "Type": "Online"
         },
         {
          "Cell": "70%",
          "Landline": "30%",
          "Mail": "0%",
          "Method": "Cell/Landline",
          "Online": "0%",
          "Percent": 0,
          "Pollster": "Public Policy Institute of California",
          "Text": "0%",
          "Type": "Online"
         },
         {
          "Cell": "50%",
          "Landline": "0%",
          "Mail": "0%",
          "Method": "Cell/Online",
          "Online": "50%",
          "Percent": 50,
          "Pollster": "Public Policy Polling*",
          "Text": "0%",
          "Type": "Online"
         },
         {
          "Cell": "50%",
          "Landline": "50%",
          "Mail": "0%",
          "Method": "Cell/Landline",
          "Online": "0%",
          "Percent": 0,
          "Pollster": "Quinnipiac University",
          "Text": "0%",
          "Type": "Online"
         },
         {
          "Cell": "80%",
          "Landline": "20%",
          "Mail": "0%",
          "Method": "Cell/Landline",
          "Online": "0%",
          "Percent": 0,
          "Pollster": "RKM Research and Communications Inc.",
          "Text": "0%",
          "Type": "Online"
         },
         {
          "Cell": "65%",
          "Landline": "35%",
          "Mail": "0%",
          "Method": "Cell/Landline",
          "Online": "0%",
          "Percent": 0,
          "Pollster": "Ragnar Research Partners",
          "Text": "0%",
          "Type": "Online"
         },
         {
          "Cell": "20%",
          "Landline": "80%",
          "Mail": "0%",
          "Method": "Cell/Landline",
          "Online": "0%",
          "Percent": 0,
          "Pollster": "Remington Research Group",
          "Text": "0%",
          "Type": "Online"
         },
         {
          "Cell": "0%",
          "Landline": "0%",
          "Mail": "0%",
          "Method": "Online",
          "Online": "100%",
          "Percent": 100,
          "Pollster": "Reuters/Ipsos",
          "Text": "0%",
          "Type": "Online"
         },
         {
          "Cell": "50%",
          "Landline": "50%",
          "Mail": "0%",
          "Method": "Cell/Landline",
          "Online": "0%",
          "Percent": 0,
          "Pollster": "Saint Anselm College",
          "Text": "0%",
          "Type": "Online"
         },
         {
          "Cell": "50%",
          "Landline": "50%",
          "Mail": "0%",
          "Method": "Cell/Landline",
          "Online": "0%",
          "Percent": 0,
          "Pollster": "Siena College",
          "Text": "0%",
          "Type": "Online"
         },
         {
          "Cell": "43%",
          "Landline": "57%",
          "Mail": "0%",
          "Method": "Cell/Landline",
          "Online": "0%",
          "Percent": 0,
          "Pollster": "SoonerPoll.com",
          "Text": "0%",
          "Type": "Online"
         },
         {
          "Cell": "0%",
          "Landline": "100%",
          "Mail": "0%",
          "Method": "Landline",
          "Online": "0%",
          "Percent": 0,
          "Pollster": "St. Pete Polls",
          "Text": "0%",
          "Type": "Online"
         },
         {
          "Cell": "85%",
          "Landline": "15%",
          "Mail": "0%",
          "Method": "Cell/Landline",
          "Online": "0%",
          "Percent": 0,
          "Pollster": "Suffolk University/USA Today",
          "Text": "0%",
          "Type": "Online"
         },
         {
          "Cell": "0%",
          "Landline": "0%",
          "Mail": "0%",
          "Method": "Online",
          "Online": "100%",
          "Percent": 100,
          "Pollster": "SurveyMonkey",
          "Text": "0%",
          "Type": "Online"
         },
         {
          "Cell": "0%",
          "Landline": "0%",
          "Mail": "0%",
          "Method": "Online",
          "Online": "100%",
          "Percent": 100,
          "Pollster": "SurveyUSA",
          "Text": "0%",
          "Type": "Online"
         },
         {
          "Cell": "50%",
          "Landline": "50%",
          "Mail": "0%",
          "Method": "Cell/Landline",
          "Online": "0%",
          "Percent": 0,
          "Pollster": "TargetPoint/GQR Research",
          "Text": "0%",
          "Type": "Online"
         },
         {
          "Cell": "46%",
          "Landline": "54%",
          "Mail": "0%",
          "Method": "Cell/Landline",
          "Online": "0%",
          "Percent": 0,
          "Pollster": "Tel Opinion Research",
          "Text": "0%",
          "Type": "Online"
         },
         {
          "Cell": "75%",
          "Landline": "0%",
          "Mail": "0%",
          "Method": "Cell/Online",
          "Online": "25%",
          "Percent": 25,
          "Pollster": "Texas Lyceum",
          "Text": "0%",
          "Type": "Online"
         },
         {
          "Cell": "0%",
          "Landline": "0%",
          "Mail": "0%",
          "Method": "Online",
          "Online": "100%",
          "Percent": 100,
          "Pollster": "UC Berkeley",
          "Text": "0%",
          "Type": "Online"
         },
         {
          "Cell": "0%",
          "Landline": "0%",
          "Mail": "100%",
          "Method": "Mail",
          "Online": "0%",
          "Percent": 0,
          "Pollster": "USC Dornsife/LA Times",
          "Text": "0%",
          "Type": "Online"
         },
         {
          "Cell": "80%",
          "Landline": "20%",
          "Mail": "0%",
          "Method": "Cell/Landline",
          "Online": "0%",
          "Percent": 0,
          "Pollster": "University of New Hampshire",
          "Text": "0%",
          "Type": "Online"
         },
         {
          "Cell": "0%",
          "Landline": "0%",
          "Mail": "0%",
          "Method": "Online",
          "Online": "100%",
          "Percent": 100,
          "Pollster": "University of Texas at Tyler",
          "Text": "0%",
          "Type": "Online"
         },
         {
          "Cell": "0%",
          "Landline": "0%",
          "Mail": "100%",
          "Method": "Mail",
          "Online": "0%",
          "Percent": 0,
          "Pollster": "Univision/University of Houston/Latino Decisions/North Star Opinion Research",
          "Text": "0%",
          "Type": "Online"
         },
         {
          "Cell": "58%",
          "Landline": "42%",
          "Mail": "0%",
          "Method": "Cell/Landline",
          "Online": "0%",
          "Percent": 0,
          "Pollster": "Victory Research",
          "Text": "0%",
          "Type": "Online"
         },
         {
          "Cell": "0%",
          "Landline": "0%",
          "Mail": "100%",
          "Method": "Mail",
          "Online": "0%",
          "Percent": 0,
          "Pollster": "WPA Intelligence*",
          "Text": "0%",
          "Type": "Online"
         },
         {
          "Cell": "0%",
          "Landline": "0%",
          "Mail": "0%",
          "Method": "Mail",
          "Online": "100%",
          "Percent": 100,
          "Pollster": "We Ask America",
          "Text": "0%",
          "Type": "Online"
         },
         {
          "Cell": "0%",
          "Landline": "0%",
          "Mail": "0%",
          "Method": "Online",
          "Online": "100%",
          "Percent": 100,
          "Pollster": "YouGov",
          "Text": "0%",
          "Type": "Online"
         },
         {
          "Cell": "0%",
          "Landline": "0%",
          "Mail": "0%",
          "Method": "Online",
          "Online": "100%",
          "Percent": 100,
          "Pollster": "YouGov Blue/Data for Progress",
          "Text": "0%",
          "Type": "Online"
         },
         {
          "Cell": "0%",
          "Landline": "0%",
          "Mail": "0%",
          "Method": "Online",
          "Online": "100%",
          "Percent": 100,
          "Pollster": "Zogby Interactive/JZ Analytics",
          "Text": "0%",
          "Type": "Online"
         },
         {
          "Cell": "65%",
          "Landline": "35%",
          "Mail": "0%",
          "Method": "Cell/Landline",
          "Online": "0%",
          "Percent": 0,
          "Pollster": "ABC News/Washington Post",
          "Text": "0%",
          "Type": "Mail"
         },
         {
          "Cell": "0%",
          "Landline": "0%",
          "Mail": "0%",
          "Method": "Online",
          "Online": "100%",
          "Percent": 0,
          "Pollster": "Avalanche Strategy",
          "Text": "0%",
          "Type": "Mail"
         },
         {
          "Cell": "50%",
          "Landline": "50%",
          "Mail": "0%",
          "Method": "Cell/Landline",
          "Online": "0%",
          "Percent": 0,
          "Pollster": "Bendixen & Amandi International",
          "Text": "0%",
          "Type": "Mail"
         },
         {
          "Cell": "50%",
          "Landline": "50%",
          "Mail": "0%",
          "Method": "Cell/Landline",
          "Online": "0%",
          "Percent": 0,
          "Pollster": "Benenson Strategy Group*",
          "Text": "0%",
          "Type": "Mail"
         },
         {
          "Cell": "50%",
          "Landline": "50%",
          "Mail": "0%",
          "Method": "Cell/Landline",
          "Online": "0%",
          "Percent": 0,
          "Pollster": "Bold Blue Campaigns",
          "Text": "0%",
          "Type": "Mail"
         },
         {
          "Cell": "50%",
          "Landline": "50%",
          "Mail": "0%",
          "Method": "Cell/Landline",
          "Online": "0%",
          "Percent": 0,
          "Pollster": "CNN/Des Moines Register (Selzer & Co.)",
          "Text": "0%",
          "Type": "Mail"
         },
         {
          "Cell": "64%",
          "Landline": "36%",
          "Mail": "0%",
          "Method": "Cell/Landline",
          "Online": "0%",
          "Percent": 0,
          "Pollster": "CNN/SSRS",
          "Text": "0%",
          "Type": "Mail"
         },
         {
          "Cell": "0%",
          "Landline": "0%",
          "Mail": "0%",
          "Method": "Online",
          "Online": "100%",
          "Percent": 0,
          "Pollster": "Capitol Weekly",
          "Text": "0%",
          "Type": "Mail"
         },
         {
          "Cell": "0%",
          "Landline": "0%",
          "Mail": "0%",
          "Method": "Online",
          "Online": "100%",
          "Percent": 0,
          "Pollster": "Change Research",
          "Text": "0%",
          "Type": "Mail"
         },
         {
          "Cell": "0%",
          "Landline": "49%",
          "Mail": "0%",
          "Method": "Landline/Text",
          "Online": "0%",
          "Percent": 0,
          "Pollster": "Chism Strategies",
          "Text": "51%",
          "Type": "Mail"
         },
         {
          "Cell": "0%",
          "Landline": "0%",
          "Mail": "0%",
          "Method": "Online",
          "Online": "100%",
          "Percent": 0,
          "Pollster": "Civiqs",
          "Text": "0%",
          "Type": "Mail"
         },
         {
          "Cell": "0%",
          "Landline": "0%",
          "Mail": "0%",
          "Method": "Online",
          "Online": "100%",
          "Percent": 0,
          "Pollster": "Claster Consulting",
          "Text": "0%",
          "Type": "Mail"
         },
         {
          "Cell": "0%",
          "Landline": "0%",
          "Mail": "0%",
          "Method": "Online",
          "Online": "100%",
          "Percent": 0,
          "Pollster": "Climate Nexus",
          "Text": "0%",
          "Type": "Mail"
         },
         {
          "Cell": "0%",
          "Landline": "0%",
          "Mail": "0%",
          "Method": "Online",
          "Online": "100%",
          "Percent": 0,
          "Pollster": "Crantford Research",
          "Text": "0%",
          "Type": "Mail"
         },
         {
          "Cell": "0%",
          "Landline": "0%",
          "Mail": "0%",
          "Method": "Online",
          "Online": "100%",
          "Percent": 0,
          "Pollster": "D-CYFOR",
          "Text": "0%",
          "Type": "Mail"
         },
         {
          "Cell": "50%",
          "Landline": "50%",
          "Mail": "0%",
          "Method": "Cell/Landline",
          "Online": "0%",
          "Percent": 0,
          "Pollster": "David Binder Research",
          "Text": "0%",
          "Type": "Mail"
         },
         {
          "Cell": "35%",
          "Landline": "65%",
          "Mail": "0%",
          "Method": "Cell/Landline",
          "Online": "0%",
          "Percent": 0,
          "Pollster": "Denno Research",
          "Text": "0%",
          "Type": "Mail"
         },
         {
          "Cell": "0%",
          "Landline": "0%",
          "Mail": "0%",
          "Method": "Online",
          "Online": "100%",
          "Percent": 0,
          "Pollster": "Echelon Insights",
          "Text": "0%",
          "Type": "Mail"
         },
         {
          "Cell": "0%",
          "Landline": "66%",
          "Mail": "0%",
          "Method": "Landline/Online",
          "Online": "34%",
          "Percent": 0,
          "Pollster": "Emerson College",
          "Text": "0%",
          "Type": "Mail"
         },
         {
          "Cell": "22%",
          "Landline": "42%",
          "Mail": "0%",
          "Method": "Cell/Land/Text",
          "Online": "0%",
          "Percent": 0,
          "Pollster": "Firehouse Strategies/Øptimus",
          "Text": "36%",
          "Type": "Mail"
         },
         {
          "Cell": "0%",
          "Landline": "62%",
          "Mail": "0%",
          "Method": "Landline/Online",
          "Online": "38%",
          "Percent": 0,
          "Pollster": "Florida Atlantic University",
          "Text": "0%",
          "Type": "Mail"
         },
         {
          "Cell": "75%",
          "Landline": "25%",
          "Mail": "0%",
          "Method": "Cell/Landline",
          "Online": "0%",
          "Percent": 0,
          "Pollster": "Fox News",
          "Text": "0%",
          "Type": "Mail"
         },
         {
          "Cell": "0%",
          "Landline": "0%",
          "Mail": "100%",
          "Method": "Mail",
          "Online": "0%",
          "Percent": 100,
          "Pollster": "Franklin & Marshall College",
          "Text": "0%",
          "Type": "Mail"
         },
         {
          "Cell": "50%",
          "Landline": "50%",
          "Mail": "0%",
          "Method": "Cell/Landline",
          "Online": "0%",
          "Percent": 0,
          "Pollster": "GBAO",
          "Text": "0%",
          "Type": "Mail"
         },
         {
          "Cell": "50%",
          "Landline": "50%",
          "Mail": "0%",
          "Method": "Cell/Landline",
          "Online": "0%",
          "Percent": 0,
          "Pollster": "GQR Research",
          "Text": "0%",
          "Type": "Mail"
         },
         {
          "Cell": "33%",
          "Landline": "33%",
          "Mail": "0%",
          "Method": "Cell/Land/Online",
          "Online": "33%",
          "Percent": 0,
          "Pollster": "Gravis Marketing",
          "Text": "0%",
          "Type": "Mail"
         },
         {
          "Cell": "0%",
          "Landline": "0%",
          "Mail": "100%",
          "Method": "Mail",
          "Online": "0%",
          "Percent": 100,
          "Pollster": "Hampton University",
          "Text": "0%",
          "Type": "Mail"
         },
         {
          "Cell": "0%",
          "Landline": "0%",
          "Mail": "0%",
          "Method": "Online",
          "Online": "100%",
          "Percent": 0,
          "Pollster": "Harris Interactive",
          "Text": "0%",
          "Type": "Mail"
         },
         {
          "Cell": "0%",
          "Landline": "0%",
          "Mail": "0%",
          "Method": "Online",
          "Online": "100%",
          "Percent": 0,
          "Pollster": "HarrisX",
          "Text": "0%",
          "Type": "Mail"
         },
         {
          "Cell": "78%",
          "Landline": "22%",
          "Mail": "0%",
          "Method": "Cell/Landline",
          "Online": "0%",
          "Percent": 0,
          "Pollster": "IBD/TIPP",
          "Text": "0%",
          "Type": "Mail"
         },
         {
          "Cell": "62%",
          "Landline": "38%",
          "Mail": "0%",
          "Method": "Cell/Landline",
          "Online": "0%",
          "Percent": 0,
          "Pollster": "Marquette Law School",
          "Text": "0%",
          "Type": "Mail"
         },
         {
          "Cell": "0%",
          "Landline": "0%",
          "Mail": "0%",
          "Method": "Online",
          "Online": "100%",
          "Percent": 0,
          "Pollster": "McLaughlin & Associates",
          "Text": "0%",
          "Type": "Mail"
         },
         {
          "Cell": "56%",
          "Landline": "44%",
          "Mail": "0%",
          "Method": "Cell/Landline",
          "Online": "0%",
          "Percent": 0,
          "Pollster": "Monmouth University",
          "Text": "0%",
          "Type": "Mail"
         },
         {
          "Cell": "0%",
          "Landline": "0%",
          "Mail": "0%",
          "Method": "Online",
          "Online": "100%",
          "Percent": 0,
          "Pollster": "Morning Consult",
          "Text": "0%",
          "Type": "Mail"
         },
         {
          "Cell": "61%",
          "Landline": "39%",
          "Mail": "0%",
          "Method": "Cell/Landline",
          "Online": "0%",
          "Percent": 0,
          "Pollster": "Muhlenberg College",
          "Text": "0%",
          "Type": "Mail"
         },
         {
          "Cell": "56%",
          "Landline": "44%",
          "Mail": "0%",
          "Method": "Cell/Landline",
          "Online": "0%",
          "Percent": 0,
          "Pollster": "NBC News/Wall Street Journal",
          "Text": "0%",
          "Type": "Mail"
         },
         {
          "Cell": "0%",
          "Landline": "0%",
          "Mail": "0%",
          "Method": "Online",
          "Online": "100%",
          "Percent": 0,
          "Pollster": "Pew Research Center",
          "Text": "0%",
          "Type": "Mail"
         },
         {
          "Cell": "70%",
          "Landline": "30%",
          "Mail": "0%",
          "Method": "Cell/Landline",
          "Online": "0%",
          "Percent": 0,
          "Pollster": "Public Policy Institute of California",
          "Text": "0%",
          "Type": "Mail"
         },
         {
          "Cell": "50%",
          "Landline": "0%",
          "Mail": "0%",
          "Method": "Cell/Online",
          "Online": "50%",
          "Percent": 0,
          "Pollster": "Public Policy Polling*",
          "Text": "0%",
          "Type": "Mail"
         },
         {
          "Cell": "50%",
          "Landline": "50%",
          "Mail": "0%",
          "Method": "Cell/Landline",
          "Online": "0%",
          "Percent": 0,
          "Pollster": "Quinnipiac University",
          "Text": "0%",
          "Type": "Mail"
         },
         {
          "Cell": "80%",
          "Landline": "20%",
          "Mail": "0%",
          "Method": "Cell/Landline",
          "Online": "0%",
          "Percent": 0,
          "Pollster": "RKM Research and Communications Inc.",
          "Text": "0%",
          "Type": "Mail"
         },
         {
          "Cell": "65%",
          "Landline": "35%",
          "Mail": "0%",
          "Method": "Cell/Landline",
          "Online": "0%",
          "Percent": 0,
          "Pollster": "Ragnar Research Partners",
          "Text": "0%",
          "Type": "Mail"
         },
         {
          "Cell": "20%",
          "Landline": "80%",
          "Mail": "0%",
          "Method": "Cell/Landline",
          "Online": "0%",
          "Percent": 0,
          "Pollster": "Remington Research Group",
          "Text": "0%",
          "Type": "Mail"
         },
         {
          "Cell": "0%",
          "Landline": "0%",
          "Mail": "0%",
          "Method": "Online",
          "Online": "100%",
          "Percent": 0,
          "Pollster": "Reuters/Ipsos",
          "Text": "0%",
          "Type": "Mail"
         },
         {
          "Cell": "50%",
          "Landline": "50%",
          "Mail": "0%",
          "Method": "Cell/Landline",
          "Online": "0%",
          "Percent": 0,
          "Pollster": "Saint Anselm College",
          "Text": "0%",
          "Type": "Mail"
         },
         {
          "Cell": "50%",
          "Landline": "50%",
          "Mail": "0%",
          "Method": "Cell/Landline",
          "Online": "0%",
          "Percent": 0,
          "Pollster": "Siena College",
          "Text": "0%",
          "Type": "Mail"
         },
         {
          "Cell": "43%",
          "Landline": "57%",
          "Mail": "0%",
          "Method": "Cell/Landline",
          "Online": "0%",
          "Percent": 0,
          "Pollster": "SoonerPoll.com",
          "Text": "0%",
          "Type": "Mail"
         },
         {
          "Cell": "0%",
          "Landline": "100%",
          "Mail": "0%",
          "Method": "Landline",
          "Online": "0%",
          "Percent": 0,
          "Pollster": "St. Pete Polls",
          "Text": "0%",
          "Type": "Mail"
         },
         {
          "Cell": "85%",
          "Landline": "15%",
          "Mail": "0%",
          "Method": "Cell/Landline",
          "Online": "0%",
          "Percent": 0,
          "Pollster": "Suffolk University/USA Today",
          "Text": "0%",
          "Type": "Mail"
         },
         {
          "Cell": "0%",
          "Landline": "0%",
          "Mail": "0%",
          "Method": "Online",
          "Online": "100%",
          "Percent": 0,
          "Pollster": "SurveyMonkey",
          "Text": "0%",
          "Type": "Mail"
         },
         {
          "Cell": "0%",
          "Landline": "0%",
          "Mail": "0%",
          "Method": "Online",
          "Online": "100%",
          "Percent": 0,
          "Pollster": "SurveyUSA",
          "Text": "0%",
          "Type": "Mail"
         },
         {
          "Cell": "50%",
          "Landline": "50%",
          "Mail": "0%",
          "Method": "Cell/Landline",
          "Online": "0%",
          "Percent": 0,
          "Pollster": "TargetPoint/GQR Research",
          "Text": "0%",
          "Type": "Mail"
         },
         {
          "Cell": "46%",
          "Landline": "54%",
          "Mail": "0%",
          "Method": "Cell/Landline",
          "Online": "0%",
          "Percent": 0,
          "Pollster": "Tel Opinion Research",
          "Text": "0%",
          "Type": "Mail"
         },
         {
          "Cell": "75%",
          "Landline": "0%",
          "Mail": "0%",
          "Method": "Cell/Online",
          "Online": "25%",
          "Percent": 0,
          "Pollster": "Texas Lyceum",
          "Text": "0%",
          "Type": "Mail"
         },
         {
          "Cell": "0%",
          "Landline": "0%",
          "Mail": "0%",
          "Method": "Online",
          "Online": "100%",
          "Percent": 0,
          "Pollster": "UC Berkeley",
          "Text": "0%",
          "Type": "Mail"
         },
         {
          "Cell": "0%",
          "Landline": "0%",
          "Mail": "100%",
          "Method": "Mail",
          "Online": "0%",
          "Percent": 100,
          "Pollster": "USC Dornsife/LA Times",
          "Text": "0%",
          "Type": "Mail"
         },
         {
          "Cell": "80%",
          "Landline": "20%",
          "Mail": "0%",
          "Method": "Cell/Landline",
          "Online": "0%",
          "Percent": 0,
          "Pollster": "University of New Hampshire",
          "Text": "0%",
          "Type": "Mail"
         },
         {
          "Cell": "0%",
          "Landline": "0%",
          "Mail": "0%",
          "Method": "Online",
          "Online": "100%",
          "Percent": 0,
          "Pollster": "University of Texas at Tyler",
          "Text": "0%",
          "Type": "Mail"
         },
         {
          "Cell": "0%",
          "Landline": "0%",
          "Mail": "100%",
          "Method": "Mail",
          "Online": "0%",
          "Percent": 100,
          "Pollster": "Univision/University of Houston/Latino Decisions/North Star Opinion Research",
          "Text": "0%",
          "Type": "Mail"
         },
         {
          "Cell": "58%",
          "Landline": "42%",
          "Mail": "0%",
          "Method": "Cell/Landline",
          "Online": "0%",
          "Percent": 0,
          "Pollster": "Victory Research",
          "Text": "0%",
          "Type": "Mail"
         },
         {
          "Cell": "0%",
          "Landline": "0%",
          "Mail": "100%",
          "Method": "Mail",
          "Online": "0%",
          "Percent": 100,
          "Pollster": "WPA Intelligence*",
          "Text": "0%",
          "Type": "Mail"
         },
         {
          "Cell": "0%",
          "Landline": "0%",
          "Mail": "0%",
          "Method": "Mail",
          "Online": "100%",
          "Percent": 0,
          "Pollster": "We Ask America",
          "Text": "0%",
          "Type": "Mail"
         },
         {
          "Cell": "0%",
          "Landline": "0%",
          "Mail": "0%",
          "Method": "Online",
          "Online": "100%",
          "Percent": 0,
          "Pollster": "YouGov",
          "Text": "0%",
          "Type": "Mail"
         },
         {
          "Cell": "0%",
          "Landline": "0%",
          "Mail": "0%",
          "Method": "Online",
          "Online": "100%",
          "Percent": 0,
          "Pollster": "YouGov Blue/Data for Progress",
          "Text": "0%",
          "Type": "Mail"
         },
         {
          "Cell": "0%",
          "Landline": "0%",
          "Mail": "0%",
          "Method": "Online",
          "Online": "100%",
          "Percent": 0,
          "Pollster": "Zogby Interactive/JZ Analytics",
          "Text": "0%",
          "Type": "Mail"
         }
        ]
       },
       "encoding": {
        "color": {
         "field": "Type",
         "scale": {
          "scheme": "tableau20"
         },
         "title": "Poll Method",
         "type": "nominal"
        },
        "tooltip": [
         {
          "field": "Pollster",
          "type": "nominal"
         },
         {
          "field": "Cell",
          "type": "nominal"
         },
         {
          "field": "Landline",
          "type": "nominal"
         },
         {
          "field": "Text",
          "type": "nominal"
         },
         {
          "field": "Online",
          "type": "nominal"
         },
         {
          "field": "Mail",
          "type": "nominal"
         }
        ],
        "x": {
         "aggregate": "sum",
         "field": "Percent",
         "title": "Percentage of Data Collected via Different Poll Methods",
         "type": "quantitative"
        },
        "y": {
         "axis": null,
         "field": "Pollster",
         "type": "nominal"
        }
       },
       "height": 400,
       "mark": "bar",
       "title": "Pollster Data Collection Breakdown"
      },
      "image/png": "[encoded data removed]",
      "text/plain": [
       "<VegaLite 3 object>\n",
       "\n",
       "If you see this message, it means the renderer has not been properly enabled\n",
       "for the frontend that you are using. For more information, see\n",
       "https://altair-viz.github.io/user_guide/troubleshooting.html\n"
      ]
     },
     "execution_count": 37,
     "metadata": {},
     "output_type": "execute_result"
    }
   ],
   "source": [
    "# Y-axis containing pollster names were removed to focus attention on the relative frequency of each method (indicated by bar color)\n",
    "poll_methods = alt.Chart(alt_chart, title='Pollster Data Collection Breakdown').mark_bar().encode(\n",
    "x=alt.X('sum(Percent)', title='Percentage of Data Collected via Different Poll Methods'),\n",
    "y=alt.Y('Pollster', axis=None),\n",
    "color=alt.Color('Type', title='Poll Method', scale=alt.Scale(scheme='tableau20')),\n",
    "tooltip=['Pollster', 'Cell', 'Landline', 'Text', 'Online', 'Mail']).properties(background='white', height=400)\n",
    "poll_methods"
   ]
  },
  {
   "cell_type": "markdown",
   "metadata": {},
   "source": [
    "---"
   ]
  },
  {
   "cell_type": "markdown",
   "metadata": {},
   "source": [
    "## Polling Method Counts"
   ]
  },
  {
   "cell_type": "markdown",
   "metadata": {},
   "source": [
    "### National:"
   ]
  },
  {
   "cell_type": "code",
   "execution_count": 38,
   "metadata": {},
   "outputs": [],
   "source": [
    "poll_types = []\n",
    "poll_counts = []\n",
    "for key in national_polls_dict:\n",
    "    poll_types.append(key)\n",
    "    poll_counts.append(len(national_polls_dict[key]))"
   ]
  },
  {
   "cell_type": "code",
   "execution_count": 39,
   "metadata": {},
   "outputs": [],
   "source": [
    "nat_polls_df = pd.DataFrame({'Poll Type':poll_types, 'Poll Count':poll_counts})"
   ]
  },
  {
   "cell_type": "code",
   "execution_count": 40,
   "metadata": {},
   "outputs": [],
   "source": [
    "nat_polls_df = nat_polls_df.sort_values('Poll Count', ascending=False)"
   ]
  },
  {
   "cell_type": "code",
   "execution_count": 41,
   "metadata": {},
   "outputs": [
    {
     "data": {
      "text/html": [
       "<div>\n",
       "<style scoped>\n",
       "    .dataframe tbody tr th:only-of-type {\n",
       "        vertical-align: middle;\n",
       "    }\n",
       "\n",
       "    .dataframe tbody tr th {\n",
       "        vertical-align: top;\n",
       "    }\n",
       "\n",
       "    .dataframe thead th {\n",
       "        text-align: right;\n",
       "    }\n",
       "</style>\n",
       "<table border=\"1\" class=\"dataframe\">\n",
       "  <thead>\n",
       "    <tr style=\"text-align: right;\">\n",
       "      <th></th>\n",
       "      <th>Poll Type</th>\n",
       "      <th>Poll Count</th>\n",
       "    </tr>\n",
       "  </thead>\n",
       "  <tbody>\n",
       "    <tr>\n",
       "      <td>3</td>\n",
       "      <td>Online</td>\n",
       "      <td>16</td>\n",
       "    </tr>\n",
       "    <tr>\n",
       "      <td>0</td>\n",
       "      <td>Cell/Landline</td>\n",
       "      <td>13</td>\n",
       "    </tr>\n",
       "    <tr>\n",
       "      <td>4</td>\n",
       "      <td>Mail</td>\n",
       "      <td>2</td>\n",
       "    </tr>\n",
       "    <tr>\n",
       "      <td>1</td>\n",
       "      <td>Landline/Online</td>\n",
       "      <td>1</td>\n",
       "    </tr>\n",
       "    <tr>\n",
       "      <td>2</td>\n",
       "      <td>Cell/Online</td>\n",
       "      <td>1</td>\n",
       "    </tr>\n",
       "  </tbody>\n",
       "</table>\n",
       "</div>"
      ],
      "text/plain": [
       "         Poll Type  Poll Count\n",
       "3           Online          16\n",
       "0    Cell/Landline          13\n",
       "4             Mail           2\n",
       "1  Landline/Online           1\n",
       "2      Cell/Online           1"
      ]
     },
     "execution_count": 41,
     "metadata": {},
     "output_type": "execute_result"
    }
   ],
   "source": [
    "nat_polls_df"
   ]
  },
  {
   "cell_type": "code",
   "execution_count": 42,
   "metadata": {},
   "outputs": [],
   "source": [
    "types = list(nat_polls_df['Poll Type'].values)"
   ]
  },
  {
   "cell_type": "code",
   "execution_count": 43,
   "metadata": {},
   "outputs": [
    {
     "data": {
      "application/vnd.vegalite.v3+json": {
       "$schema": "https://vega.github.io/schema/vega-lite/v3.4.0.json",
       "background": "white",
       "config": {
        "arc": {
         "fill": "#82c6df"
        },
        "area": {
         "fill": "#82c6df"
        },
        "axis": {
         "labelFont": "Benton Gothic, sans",
         "labelFontSize": 11.5,
         "labelFontWeight": "normal",
         "titleFont": "Benton Gothic Bold, sans",
         "titleFontSize": 13,
         "titleFontWeight": "normal"
        },
        "axisX": {
         "labelAngle": 0,
         "labelPadding": 4,
         "tickSize": 3
        },
        "axisY": {
         "labelBaseline": "middle",
         "maxExtent": 45,
         "minExtent": 45,
         "tickSize": 2,
         "titleAlign": "left",
         "titleAngle": 0,
         "titleX": -45,
         "titleY": -11
        },
        "background": "#ffffff",
        "bar": {
         "fill": "#82c6df"
        },
        "legend": {
         "labelFont": "Benton Gothic, sans",
         "labelFontSize": 11.5,
         "symbolType": "square",
         "titleFont": "Benton Gothic Bold, sans",
         "titleFontSize": 13,
         "titleFontWeight": "normal"
        },
        "line": {
         "stroke": "#82c6df",
         "strokeWidth": 3
        },
        "path": {
         "stroke": "#82c6df"
        },
        "point": {
         "stroke": "#82c6df"
        },
        "range": {
         "category": [
          "#3580b1",
          "#ec8431",
          "#ab7fb4",
          "#c89d29",
          "#adc839",
          "#829eb1"
         ],
         "diverging": [
          "#e68a4f",
          "#f4bb6a",
          "#f9e39c",
          "#dadfe2",
          "#a6b7c6",
          "#849eae"
         ],
         "heatmap": [
          "#fbf2c7",
          "#f9e39c",
          "#f8d36e",
          "#f4bb6a",
          "#e68a4f",
          "#d15a40",
          "#ab4232"
         ],
         "ordinal": [
          "#fbf2c7",
          "#f9e39c",
          "#f8d36e",
          "#f4bb6a",
          "#e68a4f",
          "#d15a40",
          "#ab4232"
         ],
         "ramp": [
          "#fbf2c7",
          "#f9e39c",
          "#f8d36e",
          "#f4bb6a",
          "#e68a4f",
          "#d15a40",
          "#ab4232"
         ]
        },
        "rect": {
         "fill": "#82c6df"
        },
        "shape": {
         "stroke": "#82c6df"
        },
        "symbol": {
         "fill": "#82c6df",
         "size": 30
        },
        "title": {
         "anchor": "start",
         "font": "Benton Gothic Bold, sans",
         "fontColor": "#000000",
         "fontSize": 22,
         "fontWeight": "normal"
        },
        "view": {
         "height": 450,
         "width": 800
        }
       },
       "data": {
        "name": "data-e8f55fb1ed0118e484cd27e8a3724138"
       },
       "datasets": {
        "data-e8f55fb1ed0118e484cd27e8a3724138": [
         {
          "Poll Count": 16,
          "Poll Type": "Online"
         },
         {
          "Poll Count": 13,
          "Poll Type": "Cell/Landline"
         },
         {
          "Poll Count": 2,
          "Poll Type": "Mail"
         },
         {
          "Poll Count": 1,
          "Poll Type": "Landline/Online"
         },
         {
          "Poll Count": 1,
          "Poll Type": "Cell/Online"
         }
        ]
       },
       "encoding": {
        "x": {
         "field": "Poll Type",
         "sort": [
          "Online",
          "Cell/Landline",
          "Mail",
          "Landline/Online",
          "Cell/Online"
         ],
         "type": "nominal"
        },
        "y": {
         "field": "Poll Count",
         "title": "# of Pollsters",
         "type": "quantitative"
        }
       },
       "mark": "bar",
       "title": "National Pollster Methods",
       "width": 400
      },
      "image/png": "[encoded data removed]",
      "text/plain": [
       "<VegaLite 3 object>\n",
       "\n",
       "If you see this message, it means the renderer has not been properly enabled\n",
       "for the frontend that you are using. For more information, see\n",
       "https://altair-viz.github.io/user_guide/troubleshooting.html\n"
      ]
     },
     "execution_count": 43,
     "metadata": {},
     "output_type": "execute_result"
    }
   ],
   "source": [
    "alt.Chart(nat_polls_df, title='National Pollster Methods').mark_bar().encode(\n",
    "    x=alt.X('Poll Type', sort=types),\n",
    "    y=alt.Y('Poll Count', title='# of Pollsters')).properties(background='white', width=400)"
   ]
  },
  {
   "cell_type": "markdown",
   "metadata": {},
   "source": [
    "---"
   ]
  },
  {
   "cell_type": "markdown",
   "metadata": {},
   "source": [
    "### State:"
   ]
  },
  {
   "cell_type": "code",
   "execution_count": 44,
   "metadata": {},
   "outputs": [],
   "source": [
    "poll_types = []\n",
    "poll_counts = []\n",
    "for key in state_polls_dict:\n",
    "    poll_types.append(key)\n",
    "    poll_counts.append(len(state_polls_dict[key]))"
   ]
  },
  {
   "cell_type": "code",
   "execution_count": 45,
   "metadata": {},
   "outputs": [],
   "source": [
    "state_polls_df = pd.DataFrame({'Poll Type':poll_types, 'Poll Count':poll_counts})"
   ]
  },
  {
   "cell_type": "code",
   "execution_count": 46,
   "metadata": {},
   "outputs": [],
   "source": [
    "state_polls_df = state_polls_df.sort_values('Poll Count', ascending=False)"
   ]
  },
  {
   "cell_type": "code",
   "execution_count": 47,
   "metadata": {},
   "outputs": [
    {
     "data": {
      "text/html": [
       "<div>\n",
       "<style scoped>\n",
       "    .dataframe tbody tr th:only-of-type {\n",
       "        vertical-align: middle;\n",
       "    }\n",
       "\n",
       "    .dataframe tbody tr th {\n",
       "        vertical-align: top;\n",
       "    }\n",
       "\n",
       "    .dataframe thead th {\n",
       "        text-align: right;\n",
       "    }\n",
       "</style>\n",
       "<table border=\"1\" class=\"dataframe\">\n",
       "  <thead>\n",
       "    <tr style=\"text-align: right;\">\n",
       "      <th></th>\n",
       "      <th>Poll Type</th>\n",
       "      <th>Poll Count</th>\n",
       "    </tr>\n",
       "  </thead>\n",
       "  <tbody>\n",
       "    <tr>\n",
       "      <td>2</td>\n",
       "      <td>Cell/Landline</td>\n",
       "      <td>20</td>\n",
       "    </tr>\n",
       "    <tr>\n",
       "      <td>7</td>\n",
       "      <td>Online</td>\n",
       "      <td>12</td>\n",
       "    </tr>\n",
       "    <tr>\n",
       "      <td>8</td>\n",
       "      <td>Mail</td>\n",
       "      <td>4</td>\n",
       "    </tr>\n",
       "    <tr>\n",
       "      <td>1</td>\n",
       "      <td>Landline/Online</td>\n",
       "      <td>2</td>\n",
       "    </tr>\n",
       "    <tr>\n",
       "      <td>6</td>\n",
       "      <td>Cell/Online</td>\n",
       "      <td>2</td>\n",
       "    </tr>\n",
       "    <tr>\n",
       "      <td>0</td>\n",
       "      <td>Landline</td>\n",
       "      <td>1</td>\n",
       "    </tr>\n",
       "    <tr>\n",
       "      <td>3</td>\n",
       "      <td>Landline/Text</td>\n",
       "      <td>1</td>\n",
       "    </tr>\n",
       "    <tr>\n",
       "      <td>4</td>\n",
       "      <td>Cell/Land/Text</td>\n",
       "      <td>1</td>\n",
       "    </tr>\n",
       "    <tr>\n",
       "      <td>5</td>\n",
       "      <td>Cell/Land/Online</td>\n",
       "      <td>1</td>\n",
       "    </tr>\n",
       "  </tbody>\n",
       "</table>\n",
       "</div>"
      ],
      "text/plain": [
       "          Poll Type  Poll Count\n",
       "2     Cell/Landline          20\n",
       "7            Online          12\n",
       "8              Mail           4\n",
       "1   Landline/Online           2\n",
       "6       Cell/Online           2\n",
       "0          Landline           1\n",
       "3     Landline/Text           1\n",
       "4    Cell/Land/Text           1\n",
       "5  Cell/Land/Online           1"
      ]
     },
     "execution_count": 47,
     "metadata": {},
     "output_type": "execute_result"
    }
   ],
   "source": [
    "state_polls_df"
   ]
  },
  {
   "cell_type": "code",
   "execution_count": 48,
   "metadata": {},
   "outputs": [],
   "source": [
    "types = list(state_polls_df['Poll Type'].values)"
   ]
  },
  {
   "cell_type": "code",
   "execution_count": 49,
   "metadata": {},
   "outputs": [
    {
     "data": {
      "application/vnd.vegalite.v3+json": {
       "$schema": "https://vega.github.io/schema/vega-lite/v3.4.0.json",
       "background": "white",
       "config": {
        "arc": {
         "fill": "#82c6df"
        },
        "area": {
         "fill": "#82c6df"
        },
        "axis": {
         "labelFont": "Benton Gothic, sans",
         "labelFontSize": 11.5,
         "labelFontWeight": "normal",
         "titleFont": "Benton Gothic Bold, sans",
         "titleFontSize": 13,
         "titleFontWeight": "normal"
        },
        "axisX": {
         "labelAngle": 0,
         "labelPadding": 4,
         "tickSize": 3
        },
        "axisY": {
         "labelBaseline": "middle",
         "maxExtent": 45,
         "minExtent": 45,
         "tickSize": 2,
         "titleAlign": "left",
         "titleAngle": 0,
         "titleX": -45,
         "titleY": -11
        },
        "background": "#ffffff",
        "bar": {
         "fill": "#82c6df"
        },
        "legend": {
         "labelFont": "Benton Gothic, sans",
         "labelFontSize": 11.5,
         "symbolType": "square",
         "titleFont": "Benton Gothic Bold, sans",
         "titleFontSize": 13,
         "titleFontWeight": "normal"
        },
        "line": {
         "stroke": "#82c6df",
         "strokeWidth": 3
        },
        "path": {
         "stroke": "#82c6df"
        },
        "point": {
         "stroke": "#82c6df"
        },
        "range": {
         "category": [
          "#3580b1",
          "#ec8431",
          "#ab7fb4",
          "#c89d29",
          "#adc839",
          "#829eb1"
         ],
         "diverging": [
          "#e68a4f",
          "#f4bb6a",
          "#f9e39c",
          "#dadfe2",
          "#a6b7c6",
          "#849eae"
         ],
         "heatmap": [
          "#fbf2c7",
          "#f9e39c",
          "#f8d36e",
          "#f4bb6a",
          "#e68a4f",
          "#d15a40",
          "#ab4232"
         ],
         "ordinal": [
          "#fbf2c7",
          "#f9e39c",
          "#f8d36e",
          "#f4bb6a",
          "#e68a4f",
          "#d15a40",
          "#ab4232"
         ],
         "ramp": [
          "#fbf2c7",
          "#f9e39c",
          "#f8d36e",
          "#f4bb6a",
          "#e68a4f",
          "#d15a40",
          "#ab4232"
         ]
        },
        "rect": {
         "fill": "#82c6df"
        },
        "shape": {
         "stroke": "#82c6df"
        },
        "symbol": {
         "fill": "#82c6df",
         "size": 30
        },
        "title": {
         "anchor": "start",
         "font": "Benton Gothic Bold, sans",
         "fontColor": "#000000",
         "fontSize": 22,
         "fontWeight": "normal"
        },
        "view": {
         "height": 450,
         "width": 800
        }
       },
       "data": {
        "name": "data-42c0a6661bdeb0737bf6388073551133"
       },
       "datasets": {
        "data-42c0a6661bdeb0737bf6388073551133": [
         {
          "Poll Count": 20,
          "Poll Type": "Cell/Landline"
         },
         {
          "Poll Count": 12,
          "Poll Type": "Online"
         },
         {
          "Poll Count": 4,
          "Poll Type": "Mail"
         },
         {
          "Poll Count": 2,
          "Poll Type": "Landline/Online"
         },
         {
          "Poll Count": 2,
          "Poll Type": "Cell/Online"
         },
         {
          "Poll Count": 1,
          "Poll Type": "Landline"
         },
         {
          "Poll Count": 1,
          "Poll Type": "Landline/Text"
         },
         {
          "Poll Count": 1,
          "Poll Type": "Cell/Land/Text"
         },
         {
          "Poll Count": 1,
          "Poll Type": "Cell/Land/Online"
         }
        ]
       },
       "encoding": {
        "x": {
         "field": "Poll Count",
         "title": "# of Pollsters",
         "type": "quantitative"
        },
        "y": {
         "field": "Poll Type",
         "sort": [
          "Cell/Landline",
          "Online",
          "Mail",
          "Landline/Online",
          "Cell/Online",
          "Landline",
          "Landline/Text",
          "Cell/Land/Text",
          "Cell/Land/Online"
         ],
         "type": "nominal"
        }
       },
       "mark": "bar",
       "title": "State Pollster Methods"
      },
      "image/png": "[encoded data removed]",
      "text/plain": [
       "<VegaLite 3 object>\n",
       "\n",
       "If you see this message, it means the renderer has not been properly enabled\n",
       "for the frontend that you are using. For more information, see\n",
       "https://altair-viz.github.io/user_guide/troubleshooting.html\n"
      ]
     },
     "execution_count": 49,
     "metadata": {},
     "output_type": "execute_result"
    }
   ],
   "source": [
    "alt.Chart(state_polls_df, title='State Pollster Methods').mark_bar().encode(\n",
    "    x=alt.X('Poll Count', title='# of Pollsters'),\n",
    "    y=alt.Y('Poll Type', sort=types)).properties(background='white')"
   ]
  },
  {
   "cell_type": "markdown",
   "metadata": {},
   "source": [
    "---"
   ]
  },
  {
   "cell_type": "markdown",
   "metadata": {},
   "source": [
    "### Findings:\n",
    "- Online is the most utilized method for national polls\n",
    "- Cell/Landline is the most utilized method for state polls"
   ]
  },
  {
   "cell_type": "markdown",
   "metadata": {},
   "source": [
    "---"
   ]
  }
 ],
 "metadata": {
  "kernelspec": {
   "display_name": "Python 3",
   "language": "python",
   "name": "python3"
  },
  "language_info": {
   "codemirror_mode": {
    "name": "ipython",
    "version": 3
   },
   "file_extension": ".py",
   "mimetype": "text/x-python",
   "name": "python",
   "nbconvert_exporter": "python",
   "pygments_lexer": "ipython3",
   "version": "3.6.7"
  }
 },
 "nbformat": 4,
 "nbformat_minor": 4
}
