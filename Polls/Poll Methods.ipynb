{
 "cells": [
  {
   "cell_type": "markdown",
   "metadata": {},
   "source": [
    "## Democratic Primary Poll Analysis"
   ]
  },
  {
   "cell_type": "markdown",
   "metadata": {},
   "source": [
    "*This notebook includes data that was previously scraped & cleaned and then edited in Excel to: (1) remove duplicate poll records & (2) include columns w/ polling method classifications"
   ]
  },
  {
   "cell_type": "code",
   "execution_count": 1,
   "metadata": {},
   "outputs": [],
   "source": [
    "import pandas as pd\n",
    "import numpy as np\n",
    "import re\n",
    "import altair as alt\n",
    "import altair_latimes as lat"
   ]
  },
  {
   "cell_type": "code",
   "execution_count": 2,
   "metadata": {},
   "outputs": [
    {
     "data": {
      "text/plain": [
       "ThemeRegistry.enable('latimes')"
      ]
     },
     "execution_count": 2,
     "metadata": {},
     "output_type": "execute_result"
    }
   ],
   "source": [
    "alt.themes.register('latimes', lat.theme)\n",
    "alt.themes.enable('latimes')"
   ]
  },
  {
   "cell_type": "code",
   "execution_count": 3,
   "metadata": {},
   "outputs": [],
   "source": [
    "file = pd.read_csv('scraped_polls_duplicates_removed.csv')"
   ]
  },
  {
   "cell_type": "code",
   "execution_count": 4,
   "metadata": {},
   "outputs": [
    {
     "data": {
      "text/plain": [
       "423"
      ]
     },
     "execution_count": 4,
     "metadata": {},
     "output_type": "execute_result"
    }
   ],
   "source": [
    "len(file)"
   ]
  },
  {
   "cell_type": "code",
   "execution_count": 5,
   "metadata": {},
   "outputs": [
    {
     "data": {
      "text/html": [
       "<div>\n",
       "<style scoped>\n",
       "    .dataframe tbody tr th:only-of-type {\n",
       "        vertical-align: middle;\n",
       "    }\n",
       "\n",
       "    .dataframe tbody tr th {\n",
       "        vertical-align: top;\n",
       "    }\n",
       "\n",
       "    .dataframe thead th {\n",
       "        text-align: right;\n",
       "    }\n",
       "</style>\n",
       "<table border=\"1\" class=\"dataframe\">\n",
       "  <thead>\n",
       "    <tr style=\"text-align: right;\">\n",
       "      <th></th>\n",
       "      <th>Dates</th>\n",
       "      <th>Region</th>\n",
       "      <th>Pollster</th>\n",
       "      <th>Sample</th>\n",
       "      <th>Voter_Type</th>\n",
       "      <th>Pollster_Grade</th>\n",
       "      <th>Biden</th>\n",
       "      <th>Sanders</th>\n",
       "      <th>Harris</th>\n",
       "      <th>Warren</th>\n",
       "      <th>...</th>\n",
       "      <th>Castro</th>\n",
       "      <th>Gabbard</th>\n",
       "      <th>Klobuchar</th>\n",
       "      <th>Steyer</th>\n",
       "      <th>Poll_End_Date</th>\n",
       "      <th>Cell</th>\n",
       "      <th>Landline</th>\n",
       "      <th>Text</th>\n",
       "      <th>Online</th>\n",
       "      <th>Mail</th>\n",
       "    </tr>\n",
       "  </thead>\n",
       "  <tbody>\n",
       "    <tr>\n",
       "      <td>0</td>\n",
       "      <td>Sep 30-Oct 3, 2019</td>\n",
       "      <td>National</td>\n",
       "      <td>HarrisX</td>\n",
       "      <td>783</td>\n",
       "      <td>LV</td>\n",
       "      <td>C+</td>\n",
       "      <td>33</td>\n",
       "      <td>12</td>\n",
       "      <td>6</td>\n",
       "      <td>22</td>\n",
       "      <td>...</td>\n",
       "      <td>1</td>\n",
       "      <td>0</td>\n",
       "      <td>2</td>\n",
       "      <td>1</td>\n",
       "      <td>10/3/2019</td>\n",
       "      <td>NaN</td>\n",
       "      <td>NaN</td>\n",
       "      <td>NaN</td>\n",
       "      <td>1</td>\n",
       "      <td>NaN</td>\n",
       "    </tr>\n",
       "  </tbody>\n",
       "</table>\n",
       "<p>1 rows × 26 columns</p>\n",
       "</div>"
      ],
      "text/plain": [
       "                Dates    Region Pollster Sample Voter_Type Pollster_Grade  \\\n",
       "0  Sep 30-Oct 3, 2019  National  HarrisX    783         LV             C+   \n",
       "\n",
       "   Biden  Sanders  Harris  Warren  ...  Castro  Gabbard  Klobuchar  Steyer  \\\n",
       "0     33       12       6      22  ...       1        0          2       1   \n",
       "\n",
       "   Poll_End_Date  Cell  Landline  Text  Online  Mail  \n",
       "0      10/3/2019   NaN       NaN   NaN       1   NaN  \n",
       "\n",
       "[1 rows x 26 columns]"
      ]
     },
     "execution_count": 5,
     "metadata": {},
     "output_type": "execute_result"
    }
   ],
   "source": [
    "file.head(1)"
   ]
  },
  {
   "cell_type": "code",
   "execution_count": 6,
   "metadata": {},
   "outputs": [],
   "source": [
    "# Replacing 'Unclear' w/ 0.5 & NaN w/ 0 to enable arithmetic operations on column values\n",
    "file = file.replace({'Unclear':0.5}).replace({np.nan:0}).reset_index(drop=True)"
   ]
  },
  {
   "cell_type": "code",
   "execution_count": 7,
   "metadata": {},
   "outputs": [
    {
     "data": {
      "text/plain": [
       "array(['Benenson Strategy Group*', 'Public Policy Polling*',\n",
       "       'WPA Intelligence*'], dtype=object)"
      ]
     },
     "execution_count": 7,
     "metadata": {},
     "output_type": "execute_result"
    }
   ],
   "source": [
    "file.Pollster[file.Pollster.str.contains('\\*')].unique()"
   ]
  },
  {
   "cell_type": "code",
   "execution_count": 8,
   "metadata": {},
   "outputs": [],
   "source": [
    "# Removing asterisks from a few names that have them\n",
    "file.Pollster = file.Pollster.apply(lambda x:x.replace('*',''))"
   ]
  },
  {
   "cell_type": "code",
   "execution_count": 9,
   "metadata": {},
   "outputs": [
    {
     "data": {
      "text/plain": [
       "Dates              object\n",
       "Region             object\n",
       "Pollster           object\n",
       "Sample             object\n",
       "Voter_Type         object\n",
       "Pollster_Grade     object\n",
       "Biden               int64\n",
       "Sanders             int64\n",
       "Harris              int64\n",
       "Warren              int64\n",
       "Buttigieg           int64\n",
       "Booker              int64\n",
       "Yang                int64\n",
       "Williamson          int64\n",
       "O'Rourke            int64\n",
       "Delaney             int64\n",
       "Castro              int64\n",
       "Gabbard             int64\n",
       "Klobuchar           int64\n",
       "Steyer              int64\n",
       "Poll_End_Date      object\n",
       "Cell               object\n",
       "Landline           object\n",
       "Text              float64\n",
       "Online             object\n",
       "Mail              float64\n",
       "dtype: object"
      ]
     },
     "execution_count": 9,
     "metadata": {},
     "output_type": "execute_result"
    }
   ],
   "source": [
    "file.dtypes"
   ]
  },
  {
   "cell_type": "code",
   "execution_count": 10,
   "metadata": {},
   "outputs": [],
   "source": [
    "file[['Cell', 'Landline', 'Online']] = file[['Cell', 'Landline', 'Online']].astype(float)"
   ]
  },
  {
   "cell_type": "code",
   "execution_count": 11,
   "metadata": {},
   "outputs": [
    {
     "data": {
      "text/html": [
       "<div>\n",
       "<style scoped>\n",
       "    .dataframe tbody tr th:only-of-type {\n",
       "        vertical-align: middle;\n",
       "    }\n",
       "\n",
       "    .dataframe tbody tr th {\n",
       "        vertical-align: top;\n",
       "    }\n",
       "\n",
       "    .dataframe thead th {\n",
       "        text-align: right;\n",
       "    }\n",
       "</style>\n",
       "<table border=\"1\" class=\"dataframe\">\n",
       "  <thead>\n",
       "    <tr style=\"text-align: right;\">\n",
       "      <th></th>\n",
       "      <th>Dates</th>\n",
       "      <th>Region</th>\n",
       "      <th>Pollster</th>\n",
       "      <th>Sample</th>\n",
       "      <th>Voter_Type</th>\n",
       "      <th>Pollster_Grade</th>\n",
       "      <th>Biden</th>\n",
       "      <th>Sanders</th>\n",
       "      <th>Harris</th>\n",
       "      <th>Warren</th>\n",
       "      <th>...</th>\n",
       "      <th>Castro</th>\n",
       "      <th>Gabbard</th>\n",
       "      <th>Klobuchar</th>\n",
       "      <th>Steyer</th>\n",
       "      <th>Poll_End_Date</th>\n",
       "      <th>Cell</th>\n",
       "      <th>Landline</th>\n",
       "      <th>Text</th>\n",
       "      <th>Online</th>\n",
       "      <th>Mail</th>\n",
       "    </tr>\n",
       "  </thead>\n",
       "  <tbody>\n",
       "    <tr>\n",
       "      <td>0</td>\n",
       "      <td>Sep 30-Oct 3, 2019</td>\n",
       "      <td>National</td>\n",
       "      <td>HarrisX</td>\n",
       "      <td>783</td>\n",
       "      <td>LV</td>\n",
       "      <td>C+</td>\n",
       "      <td>33</td>\n",
       "      <td>12</td>\n",
       "      <td>6</td>\n",
       "      <td>22</td>\n",
       "      <td>...</td>\n",
       "      <td>1</td>\n",
       "      <td>0</td>\n",
       "      <td>2</td>\n",
       "      <td>1</td>\n",
       "      <td>10/3/2019</td>\n",
       "      <td>0.0</td>\n",
       "      <td>0.0</td>\n",
       "      <td>0.0</td>\n",
       "      <td>1.0</td>\n",
       "      <td>0.0</td>\n",
       "    </tr>\n",
       "  </tbody>\n",
       "</table>\n",
       "<p>1 rows × 26 columns</p>\n",
       "</div>"
      ],
      "text/plain": [
       "                Dates    Region Pollster Sample Voter_Type Pollster_Grade  \\\n",
       "0  Sep 30-Oct 3, 2019  National  HarrisX    783         LV             C+   \n",
       "\n",
       "   Biden  Sanders  Harris  Warren  ...  Castro  Gabbard  Klobuchar  Steyer  \\\n",
       "0     33       12       6      22  ...       1        0          2       1   \n",
       "\n",
       "   Poll_End_Date  Cell  Landline  Text  Online  Mail  \n",
       "0      10/3/2019   0.0       0.0   0.0     1.0   0.0  \n",
       "\n",
       "[1 rows x 26 columns]"
      ]
     },
     "execution_count": 11,
     "metadata": {},
     "output_type": "execute_result"
    }
   ],
   "source": [
    "file.head(1)"
   ]
  },
  {
   "cell_type": "code",
   "execution_count": 12,
   "metadata": {},
   "outputs": [],
   "source": [
    "file.to_csv('all_polls_data.csv', index=False)"
   ]
  },
  {
   "cell_type": "code",
   "execution_count": 13,
   "metadata": {},
   "outputs": [],
   "source": [
    "# Removing Candidate Poll Results\n",
    "cols = list(file.columns[:5]) + list(file.columns[-6:])"
   ]
  },
  {
   "cell_type": "code",
   "execution_count": 14,
   "metadata": {},
   "outputs": [],
   "source": [
    "file = file[cols]"
   ]
  },
  {
   "cell_type": "code",
   "execution_count": 15,
   "metadata": {},
   "outputs": [
    {
     "data": {
      "text/html": [
       "<div>\n",
       "<style scoped>\n",
       "    .dataframe tbody tr th:only-of-type {\n",
       "        vertical-align: middle;\n",
       "    }\n",
       "\n",
       "    .dataframe tbody tr th {\n",
       "        vertical-align: top;\n",
       "    }\n",
       "\n",
       "    .dataframe thead th {\n",
       "        text-align: right;\n",
       "    }\n",
       "</style>\n",
       "<table border=\"1\" class=\"dataframe\">\n",
       "  <thead>\n",
       "    <tr style=\"text-align: right;\">\n",
       "      <th></th>\n",
       "      <th>Dates</th>\n",
       "      <th>Region</th>\n",
       "      <th>Pollster</th>\n",
       "      <th>Sample</th>\n",
       "      <th>Voter_Type</th>\n",
       "      <th>Poll_End_Date</th>\n",
       "      <th>Cell</th>\n",
       "      <th>Landline</th>\n",
       "      <th>Text</th>\n",
       "      <th>Online</th>\n",
       "      <th>Mail</th>\n",
       "    </tr>\n",
       "  </thead>\n",
       "  <tbody>\n",
       "    <tr>\n",
       "      <td>0</td>\n",
       "      <td>Sep 30-Oct 3, 2019</td>\n",
       "      <td>National</td>\n",
       "      <td>HarrisX</td>\n",
       "      <td>783</td>\n",
       "      <td>LV</td>\n",
       "      <td>10/3/2019</td>\n",
       "      <td>0.0</td>\n",
       "      <td>0.0</td>\n",
       "      <td>0.0</td>\n",
       "      <td>1.0</td>\n",
       "      <td>0.0</td>\n",
       "    </tr>\n",
       "  </tbody>\n",
       "</table>\n",
       "</div>"
      ],
      "text/plain": [
       "                Dates    Region Pollster Sample Voter_Type Poll_End_Date  \\\n",
       "0  Sep 30-Oct 3, 2019  National  HarrisX    783         LV     10/3/2019   \n",
       "\n",
       "   Cell  Landline  Text  Online  Mail  \n",
       "0   0.0       0.0   0.0     1.0   0.0  "
      ]
     },
     "execution_count": 15,
     "metadata": {},
     "output_type": "execute_result"
    }
   ],
   "source": [
    "file.head(1)"
   ]
  },
  {
   "cell_type": "markdown",
   "metadata": {},
   "source": [
    "---"
   ]
  },
  {
   "cell_type": "markdown",
   "metadata": {},
   "source": [
    "### (1) Pollster Poll Counts"
   ]
  },
  {
   "cell_type": "code",
   "execution_count": 16,
   "metadata": {},
   "outputs": [],
   "source": [
    "total_count = []\n",
    "for pollster in file.Pollster.unique():\n",
    "    df = file[file.Pollster == pollster]\n",
    "    total_count.append(len(df.Dates.unique()))  # Removing duplicates (i.e. nat'l & state poll conducted on same date)"
   ]
  },
  {
   "cell_type": "code",
   "execution_count": 17,
   "metadata": {},
   "outputs": [
    {
     "data": {
      "text/html": [
       "<div>\n",
       "<style scoped>\n",
       "    .dataframe tbody tr th:only-of-type {\n",
       "        vertical-align: middle;\n",
       "    }\n",
       "\n",
       "    .dataframe tbody tr th {\n",
       "        vertical-align: top;\n",
       "    }\n",
       "\n",
       "    .dataframe thead th {\n",
       "        text-align: right;\n",
       "    }\n",
       "</style>\n",
       "<table border=\"1\" class=\"dataframe\">\n",
       "  <thead>\n",
       "    <tr style=\"text-align: right;\">\n",
       "      <th></th>\n",
       "      <th>Pollster</th>\n",
       "      <th>Total Polls Count</th>\n",
       "    </tr>\n",
       "  </thead>\n",
       "  <tbody>\n",
       "    <tr>\n",
       "      <td>0</td>\n",
       "      <td>Morning Consult</td>\n",
       "      <td>55</td>\n",
       "    </tr>\n",
       "    <tr>\n",
       "      <td>1</td>\n",
       "      <td>HarrisX</td>\n",
       "      <td>45</td>\n",
       "    </tr>\n",
       "    <tr>\n",
       "      <td>2</td>\n",
       "      <td>Change Research</td>\n",
       "      <td>38</td>\n",
       "    </tr>\n",
       "    <tr>\n",
       "      <td>3</td>\n",
       "      <td>Emerson College</td>\n",
       "      <td>27</td>\n",
       "    </tr>\n",
       "    <tr>\n",
       "      <td>4</td>\n",
       "      <td>YouGov</td>\n",
       "      <td>27</td>\n",
       "    </tr>\n",
       "  </tbody>\n",
       "</table>\n",
       "</div>"
      ],
      "text/plain": [
       "          Pollster  Total Polls Count\n",
       "0  Morning Consult                 55\n",
       "1          HarrisX                 45\n",
       "2  Change Research                 38\n",
       "3  Emerson College                 27\n",
       "4           YouGov                 27"
      ]
     },
     "execution_count": 17,
     "metadata": {},
     "output_type": "execute_result"
    }
   ],
   "source": [
    "pollster_poll_counts_df = pd.DataFrame({'Pollster':file.Pollster.unique(), 'Total Polls Count': total_count})\n",
    "pollster_poll_counts_df = pollster_poll_counts_df.sort_values(['Total Polls Count', 'Pollster'], ascending=[False, True]).reset_index(drop=True)\n",
    "pollster_poll_counts_df.head()"
   ]
  },
  {
   "cell_type": "code",
   "execution_count": 18,
   "metadata": {},
   "outputs": [],
   "source": [
    "# For DataWrapper chart\n",
    "pollster_poll_counts_df.head(15).to_csv('top15_pollster_counts.csv', index='False')"
   ]
  },
  {
   "cell_type": "code",
   "execution_count": 19,
   "metadata": {},
   "outputs": [
    {
     "data": {
      "application/vnd.vegalite.v3+json": {
       "$schema": "https://vega.github.io/schema/vega-lite/v3.4.0.json",
       "background": "lightgray",
       "config": {
        "arc": {
         "fill": "#82c6df"
        },
        "area": {
         "fill": "#82c6df"
        },
        "axis": {
         "labelFont": "Benton Gothic, sans",
         "labelFontSize": 11.5,
         "labelFontWeight": "normal",
         "titleFont": "Benton Gothic Bold, sans",
         "titleFontSize": 13,
         "titleFontWeight": "normal"
        },
        "axisX": {
         "labelAngle": 0,
         "labelPadding": 4,
         "tickSize": 3
        },
        "axisY": {
         "labelBaseline": "middle",
         "maxExtent": 45,
         "minExtent": 45,
         "tickSize": 2,
         "titleAlign": "left",
         "titleAngle": 0,
         "titleX": -45,
         "titleY": -11
        },
        "background": "#ffffff",
        "bar": {
         "fill": "#82c6df"
        },
        "legend": {
         "labelFont": "Benton Gothic, sans",
         "labelFontSize": 11.5,
         "symbolType": "square",
         "titleFont": "Benton Gothic Bold, sans",
         "titleFontSize": 13,
         "titleFontWeight": "normal"
        },
        "line": {
         "stroke": "#82c6df",
         "strokeWidth": 3
        },
        "path": {
         "stroke": "#82c6df"
        },
        "point": {
         "stroke": "#82c6df"
        },
        "range": {
         "category": [
          "#3580b1",
          "#ec8431",
          "#ab7fb4",
          "#c89d29",
          "#adc839",
          "#829eb1"
         ],
         "diverging": [
          "#e68a4f",
          "#f4bb6a",
          "#f9e39c",
          "#dadfe2",
          "#a6b7c6",
          "#849eae"
         ],
         "heatmap": [
          "#fbf2c7",
          "#f9e39c",
          "#f8d36e",
          "#f4bb6a",
          "#e68a4f",
          "#d15a40",
          "#ab4232"
         ],
         "ordinal": [
          "#fbf2c7",
          "#f9e39c",
          "#f8d36e",
          "#f4bb6a",
          "#e68a4f",
          "#d15a40",
          "#ab4232"
         ],
         "ramp": [
          "#fbf2c7",
          "#f9e39c",
          "#f8d36e",
          "#f4bb6a",
          "#e68a4f",
          "#d15a40",
          "#ab4232"
         ]
        },
        "rect": {
         "fill": "#82c6df"
        },
        "shape": {
         "stroke": "#82c6df"
        },
        "symbol": {
         "fill": "#82c6df",
         "size": 30
        },
        "title": {
         "anchor": "start",
         "font": "Benton Gothic Bold, sans",
         "fontColor": "#000000",
         "fontSize": 22,
         "fontWeight": "normal"
        },
        "view": {
         "height": 450,
         "width": 800
        }
       },
       "data": {
        "name": "data-7b0c38d99d3477ac7e32276c9b4486a6"
       },
       "datasets": {
        "data-7b0c38d99d3477ac7e32276c9b4486a6": [
         {
          "Pollster": "Morning Consult",
          "Total Polls Count": 55
         },
         {
          "Pollster": "HarrisX",
          "Total Polls Count": 45
         },
         {
          "Pollster": "Change Research",
          "Total Polls Count": 38
         },
         {
          "Pollster": "Emerson College",
          "Total Polls Count": 27
         },
         {
          "Pollster": "YouGov",
          "Total Polls Count": 27
         },
         {
          "Pollster": "Quinnipiac University",
          "Total Polls Count": 16
         },
         {
          "Pollster": "Monmouth University",
          "Total Polls Count": 14
         },
         {
          "Pollster": "Harris Poll",
          "Total Polls Count": 10
         },
         {
          "Pollster": "CNN/SSRS",
          "Total Polls Count": 8
         },
         {
          "Pollster": "Ipsos",
          "Total Polls Count": 8
         },
         {
          "Pollster": "Suffolk University",
          "Total Polls Count": 8
         },
         {
          "Pollster": "Fox News",
          "Total Polls Count": 7
         },
         {
          "Pollster": "McLaughlin & Associates",
          "Total Polls Count": 7
         },
         {
          "Pollster": "Tel Opinion Research",
          "Total Polls Count": 7
         },
         {
          "Pollster": "Zogby Analytics",
          "Total Polls Count": 7
         }
        ]
       },
       "encoding": {
        "x": {
         "field": "Total Polls Count",
         "type": "quantitative"
        },
        "y": {
         "field": "Pollster",
         "sort": [
          55,
          45,
          38,
          27,
          27,
          16,
          14,
          10,
          8,
          8,
          8,
          7,
          7,
          7,
          7,
          6,
          5,
          5,
          4,
          4,
          4,
          3,
          3,
          3,
          3,
          3,
          3,
          3,
          3,
          3,
          2,
          2,
          2,
          2,
          2,
          2,
          2,
          2,
          2,
          1,
          1,
          1,
          1,
          1,
          1,
          1,
          1,
          1,
          1,
          1,
          1,
          1,
          1,
          1,
          1,
          1,
          1,
          1,
          1,
          1,
          1,
          1,
          1,
          1,
          1,
          1,
          1,
          1,
          1,
          1,
          1
         ],
         "title": "Top 15 Pollsters",
         "type": "nominal"
        }
       },
       "mark": "bar",
       "title": "Number of Polls Released"
      },
      "image/png": "[encoded data removed]",
      "text/plain": [
       "<VegaLite 3 object>\n",
       "\n",
       "If you see this message, it means the renderer has not been properly enabled\n",
       "for the frontend that you are using. For more information, see\n",
       "https://altair-viz.github.io/user_guide/troubleshooting.html\n"
      ]
     },
     "execution_count": 19,
     "metadata": {},
     "output_type": "execute_result"
    }
   ],
   "source": [
    "alt.Chart(pollster_poll_counts_df[:15], title='Number of Polls Released').mark_bar().encode(\n",
    "x=alt.X('Total Polls Count'),\n",
    "y=alt.Y('Pollster', title='Top 15 Pollsters', sort=list(pollster_poll_counts_df['Total Polls Count'].values))).properties(background='lightgray')"
   ]
  },
  {
   "cell_type": "markdown",
   "metadata": {},
   "source": [
    "---"
   ]
  },
  {
   "cell_type": "markdown",
   "metadata": {},
   "source": [
    "### (2) Poll Methods"
   ]
  },
  {
   "cell_type": "code",
   "execution_count": 28,
   "metadata": {},
   "outputs": [],
   "source": [
    "# Each pollster is assigned to the poll method they used (no pollsters used multiple methods, thankfully)\n",
    "polls_dict = {\n",
    "    'Landline': ['St. Pete Polls'],\n",
    "    'Cell/Landline': ['ABC News/Washington Post', 'Bendixen & Amandi International','Benenson Strategy Group', 'Bold Blue Campaigns', 'CNN/SSRS', 'David Binder Research',  'Denno Research',\n",
    "                    'Fox News', 'GBAO', 'Goucher College', 'GQR Research', 'IBD/TIPP', 'Marquette Law School', 'Monmouth University', 'Muhlenberg College', 'NBC News/Wall Street Journal', \n",
    "                    'Public Policy Institute of California', 'Quinnipiac University', 'Ragnar Research Partners', 'Remington Research Group', 'Research America Inc.', 'RKM Research and Communications Inc.', \n",
    "                    'Saint Anselm College', 'Selzer & Co.', 'Show Me Victories', 'Siena College', 'SoonerPoll', 'Suffolk University', 'TargetPoint/GQR Research', 'Tel Opinion Research', \n",
    "                    'University of New Hampshire', 'Victory Research', 'Winthrop University'],\n",
    "    'Landline/Online': ['Emerson College', 'Florida Atlantic University', 'Landmark Communications'],\n",
    "    'Landline/Text': ['Chism Strategies'],\n",
    "    'Cell/Land/Text': ['Firehouse Strategies/Øptimus'],\n",
    "    'Cell/Land/Online': ['Gravis Marketing', 'High Point University'],\n",
    "    'Cell/Online': ['Public Policy Polling', 'Texas Lyceum'],\n",
    "    'Online': ['Avalanche Strategy', 'Capitol Weekly', 'Change Research', 'Civiqs', 'Claster Consulting', 'Climate Nexus', 'Crantford Research',  \n",
    "                'D-CYFOR', 'Echelon Insights', 'Harris Poll', 'HarrisX', 'Ipsos', 'McLaughlin & Associates', \n",
    "                'Morning Consult', 'Pew Research Center', 'SurveyMonkey', 'SurveyUSA',  'UC Berkeley', 'University of Texas at Tyler', 'YouGov', 'YouGov Blue/Data for Progress', \n",
    "                'Zogby Analytics'],\n",
    "    'Mail': ['USC Dornsife/LA Times', 'WPA Intelligence', 'Franklin & Marshall College', 'Hampton University', 'Univision/University of Houston/Latino Decisions/North Star Opinion Research', 'We Ask America']\n",
    "    }"
   ]
  },
  {
   "cell_type": "markdown",
   "metadata": {},
   "source": [
    "---"
   ]
  },
  {
   "cell_type": "markdown",
   "metadata": {},
   "source": [
    "#### Confirming that no polls are missing:"
   ]
  },
  {
   "cell_type": "code",
   "execution_count": 29,
   "metadata": {},
   "outputs": [
    {
     "data": {
      "text/plain": [
       "71"
      ]
     },
     "execution_count": 29,
     "metadata": {},
     "output_type": "execute_result"
    }
   ],
   "source": [
    "len(file.Pollster.unique())"
   ]
  },
  {
   "cell_type": "code",
   "execution_count": 30,
   "metadata": {},
   "outputs": [
    {
     "name": "stdout",
     "output_type": "stream",
     "text": [
      "71\n"
     ]
    }
   ],
   "source": [
    "pollsters_list = []\n",
    "for key in polls_dict:\n",
    "    for val in polls_dict[key]:\n",
    "        pollsters_list.append(val)\n",
    "print(len(set(pollsters_list)))"
   ]
  },
  {
   "cell_type": "code",
   "execution_count": 31,
   "metadata": {},
   "outputs": [],
   "source": [
    "for pollster in file.Pollster.unique():\n",
    "    if pollster not in set(pollsters_list):\n",
    "        print(pollster)"
   ]
  },
  {
   "cell_type": "markdown",
   "metadata": {},
   "source": [
    "---"
   ]
  },
  {
   "cell_type": "markdown",
   "metadata": {},
   "source": [
    "#### Linking pollster to poll method"
   ]
  },
  {
   "cell_type": "code",
   "execution_count": 32,
   "metadata": {},
   "outputs": [],
   "source": [
    "pollster_list = []\n",
    "method_list = []\n",
    "\n",
    "for key in polls_dict:\n",
    "    for pollster in polls_dict[key]:\n",
    "        pollster_list.append(pollster)\n",
    "    method_list.extend(np.full(len(polls_dict[key]), key))"
   ]
  },
  {
   "cell_type": "code",
   "execution_count": 33,
   "metadata": {},
   "outputs": [],
   "source": [
    "poll_methods_df = pd.DataFrame({'Pollster':pollster_list, 'Method':method_list})"
   ]
  },
  {
   "cell_type": "code",
   "execution_count": 34,
   "metadata": {},
   "outputs": [
    {
     "data": {
      "text/html": [
       "<div>\n",
       "<style scoped>\n",
       "    .dataframe tbody tr th:only-of-type {\n",
       "        vertical-align: middle;\n",
       "    }\n",
       "\n",
       "    .dataframe tbody tr th {\n",
       "        vertical-align: top;\n",
       "    }\n",
       "\n",
       "    .dataframe thead th {\n",
       "        text-align: right;\n",
       "    }\n",
       "</style>\n",
       "<table border=\"1\" class=\"dataframe\">\n",
       "  <thead>\n",
       "    <tr style=\"text-align: right;\">\n",
       "      <th></th>\n",
       "      <th>Pollster</th>\n",
       "      <th>Method</th>\n",
       "    </tr>\n",
       "  </thead>\n",
       "  <tbody>\n",
       "    <tr>\n",
       "      <td>0</td>\n",
       "      <td>St. Pete Polls</td>\n",
       "      <td>Landline</td>\n",
       "    </tr>\n",
       "    <tr>\n",
       "      <td>1</td>\n",
       "      <td>ABC News/Washington Post</td>\n",
       "      <td>Cell/Landline</td>\n",
       "    </tr>\n",
       "    <tr>\n",
       "      <td>2</td>\n",
       "      <td>Bendixen &amp; Amandi International</td>\n",
       "      <td>Cell/Landline</td>\n",
       "    </tr>\n",
       "    <tr>\n",
       "      <td>3</td>\n",
       "      <td>Benenson Strategy Group</td>\n",
       "      <td>Cell/Landline</td>\n",
       "    </tr>\n",
       "    <tr>\n",
       "      <td>4</td>\n",
       "      <td>Bold Blue Campaigns</td>\n",
       "      <td>Cell/Landline</td>\n",
       "    </tr>\n",
       "  </tbody>\n",
       "</table>\n",
       "</div>"
      ],
      "text/plain": [
       "                          Pollster         Method\n",
       "0                   St. Pete Polls       Landline\n",
       "1         ABC News/Washington Post  Cell/Landline\n",
       "2  Bendixen & Amandi International  Cell/Landline\n",
       "3          Benenson Strategy Group  Cell/Landline\n",
       "4              Bold Blue Campaigns  Cell/Landline"
      ]
     },
     "execution_count": 34,
     "metadata": {},
     "output_type": "execute_result"
    }
   ],
   "source": [
    "poll_methods_df.head()"
   ]
  },
  {
   "cell_type": "markdown",
   "metadata": {},
   "source": [
    "---"
   ]
  },
  {
   "cell_type": "markdown",
   "metadata": {},
   "source": [
    "#### Pollsters w/ Partially Missing Data:"
   ]
  },
  {
   "cell_type": "code",
   "execution_count": 35,
   "metadata": {},
   "outputs": [
    {
     "name": "stdout",
     "output_type": "stream",
     "text": [
      "Suffolk University {0.5, 0.0, 877.0, 178.0, 822.0, 123.0}\n",
      "Tel Opinion Research {0.0, 288.0, 258.0, 0.5, 200.0, 332.0, 400.0, 464.0, 338.0, 336.0, 312.0, 252.0}\n"
     ]
    }
   ],
   "source": [
    "for pollster in file.Pollster.unique():\n",
    "    df = file[file.Pollster == pollster]\n",
    "    row_values = [list(x)[-5:] for x in df.values]  # List of lists containing row values\n",
    "    values = []\n",
    "    for lst in row_values:\n",
    "        values += lst\n",
    "    if .5 in set(values) and len(set(values)) > 2:\n",
    "        print(pollster, set(values))"
   ]
  },
  {
   "cell_type": "markdown",
   "metadata": {},
   "source": [
    "*Need to exclude .5 from the avgs below"
   ]
  },
  {
   "cell_type": "markdown",
   "metadata": {},
   "source": [
    "---"
   ]
  },
  {
   "cell_type": "markdown",
   "metadata": {},
   "source": [
    "#### Avg. % of Data Collected Via a Polling Method (each pollster):"
   ]
  },
  {
   "cell_type": "code",
   "execution_count": 36,
   "metadata": {},
   "outputs": [],
   "source": [
    "# Calculating avg. percentage of poll data collected via each method (for each pollster)\n",
    "cell_vals = []\n",
    "landline_vals = []\n",
    "text_vals = []\n",
    "online_vals = []\n",
    "mail_vals = []\n",
    "\n",
    "dframe = file.copy()\n",
    "partially_missing = ['Suffolk University', 'Tel Opinion Research'] # Polling methods recorded for some polls, but not all- need to exclude from being factored into avgs (below)\n",
    "partials = dframe.Pollster.isin(partially_missing)  \n",
    "unclear = dframe['Cell'] == .5  # Ratio of cell to landline calls is missing\n",
    "partials_removed_df = dframe[~(partials & unclear)]\n",
    "\n",
    "for pollster in poll_methods_df.Pollster.unique():\n",
    "    df = partials_removed_df[partials_removed_df.Pollster == pollster]\n",
    "\n",
    "    cell = df['Cell'].mean()\n",
    "    landline = df['Landline'].mean()\n",
    "    text = df['Text'].mean()\n",
    "    online = df['Online'].mean()\n",
    "    mail = df['Mail'].mean()\n",
    "    \n",
    "    lists = [cell_vals, landline_vals, text_vals, online_vals, mail_vals]\n",
    "    methods = [cell, landline, text, online, mail]\n",
    "    total = sum(methods)\n",
    "    counter = 0    \n",
    "    \n",
    "    for lst in lists:\n",
    "        lst.append(int(round(methods[counter]/total * 100, 0)))\n",
    "        counter += 1"
   ]
  },
  {
   "cell_type": "code",
   "execution_count": 37,
   "metadata": {},
   "outputs": [],
   "source": [
    "poll_methods_df['Cell'] = cell_vals\n",
    "poll_methods_df['Landline'] = landline_vals\n",
    "poll_methods_df['Text'] = text_vals\n",
    "poll_methods_df['Online'] = online_vals\n",
    "poll_methods_df['Mail'] = mail_vals"
   ]
  },
  {
   "cell_type": "code",
   "execution_count": 38,
   "metadata": {},
   "outputs": [],
   "source": [
    "# Including names of pollsters who weren't explicitly listed in FiveThirtyEight's collection but jointly conducted polls w/ the following pollsters\n",
    "poll_methods_df.Pollster = poll_methods_df.Pollster.replace({'Selzer & Co.':'CNN/Des Moines Register (Selzer & Co.)', \n",
    "                                                             'Suffolk University':'Suffolk University/USA Today', \n",
    "                                                             'Ipsos':'Reuters/Ipsos'})"
   ]
  },
  {
   "cell_type": "code",
   "execution_count": 39,
   "metadata": {},
   "outputs": [
    {
     "data": {
      "text/html": [
       "<div>\n",
       "<style scoped>\n",
       "    .dataframe tbody tr th:only-of-type {\n",
       "        vertical-align: middle;\n",
       "    }\n",
       "\n",
       "    .dataframe tbody tr th {\n",
       "        vertical-align: top;\n",
       "    }\n",
       "\n",
       "    .dataframe thead th {\n",
       "        text-align: right;\n",
       "    }\n",
       "</style>\n",
       "<table border=\"1\" class=\"dataframe\">\n",
       "  <thead>\n",
       "    <tr style=\"text-align: right;\">\n",
       "      <th></th>\n",
       "      <th>Pollster</th>\n",
       "      <th>Method</th>\n",
       "      <th>Cell</th>\n",
       "      <th>Landline</th>\n",
       "      <th>Text</th>\n",
       "      <th>Online</th>\n",
       "      <th>Mail</th>\n",
       "    </tr>\n",
       "  </thead>\n",
       "  <tbody>\n",
       "    <tr>\n",
       "      <td>0</td>\n",
       "      <td>ABC News/Washington Post</td>\n",
       "      <td>Cell/Landline</td>\n",
       "      <td>65</td>\n",
       "      <td>35</td>\n",
       "      <td>0</td>\n",
       "      <td>0</td>\n",
       "      <td>0</td>\n",
       "    </tr>\n",
       "    <tr>\n",
       "      <td>1</td>\n",
       "      <td>Avalanche Strategy</td>\n",
       "      <td>Online</td>\n",
       "      <td>0</td>\n",
       "      <td>0</td>\n",
       "      <td>0</td>\n",
       "      <td>100</td>\n",
       "      <td>0</td>\n",
       "    </tr>\n",
       "    <tr>\n",
       "      <td>2</td>\n",
       "      <td>Bendixen &amp; Amandi International</td>\n",
       "      <td>Cell/Landline</td>\n",
       "      <td>50</td>\n",
       "      <td>50</td>\n",
       "      <td>0</td>\n",
       "      <td>0</td>\n",
       "      <td>0</td>\n",
       "    </tr>\n",
       "    <tr>\n",
       "      <td>3</td>\n",
       "      <td>Benenson Strategy Group</td>\n",
       "      <td>Cell/Landline</td>\n",
       "      <td>50</td>\n",
       "      <td>50</td>\n",
       "      <td>0</td>\n",
       "      <td>0</td>\n",
       "      <td>0</td>\n",
       "    </tr>\n",
       "    <tr>\n",
       "      <td>4</td>\n",
       "      <td>Bold Blue Campaigns</td>\n",
       "      <td>Cell/Landline</td>\n",
       "      <td>50</td>\n",
       "      <td>50</td>\n",
       "      <td>0</td>\n",
       "      <td>0</td>\n",
       "      <td>0</td>\n",
       "    </tr>\n",
       "  </tbody>\n",
       "</table>\n",
       "</div>"
      ],
      "text/plain": [
       "                          Pollster         Method  Cell  Landline  Text  \\\n",
       "0         ABC News/Washington Post  Cell/Landline    65        35     0   \n",
       "1               Avalanche Strategy         Online     0         0     0   \n",
       "2  Bendixen & Amandi International  Cell/Landline    50        50     0   \n",
       "3          Benenson Strategy Group  Cell/Landline    50        50     0   \n",
       "4              Bold Blue Campaigns  Cell/Landline    50        50     0   \n",
       "\n",
       "   Online  Mail  \n",
       "0       0     0  \n",
       "1     100     0  \n",
       "2       0     0  \n",
       "3       0     0  \n",
       "4       0     0  "
      ]
     },
     "execution_count": 39,
     "metadata": {},
     "output_type": "execute_result"
    }
   ],
   "source": [
    "poll_methods_df = poll_methods_df.sort_values(['Pollster']).reset_index(drop=True)\n",
    "poll_methods_df.head()"
   ]
  },
  {
   "cell_type": "code",
   "execution_count": 40,
   "metadata": {},
   "outputs": [],
   "source": [
    "# For plotting data in DataWrapper\n",
    "poll_methods_df.to_csv('pollster_methods.csv', index=False)"
   ]
  },
  {
   "cell_type": "markdown",
   "metadata": {},
   "source": [
    "---"
   ]
  },
  {
   "cell_type": "markdown",
   "metadata": {},
   "source": [
    "#### Plotting Data via Altair"
   ]
  },
  {
   "cell_type": "code",
   "execution_count": 41,
   "metadata": {},
   "outputs": [],
   "source": [
    "alt_chart = pd.DataFrame()\n",
    "for col in ['Landline', 'Cell', 'Text', 'Online', 'Mail']:\n",
    "    df = poll_methods_df.copy()\n",
    "    df['Percent'] = poll_methods_df[col]\n",
    "    df['Type'] = np.full(len(df), col)\n",
    "    alt_chart = pd.concat([alt_chart, df])"
   ]
  },
  {
   "cell_type": "code",
   "execution_count": 42,
   "metadata": {},
   "outputs": [
    {
     "data": {
      "text/html": [
       "<div>\n",
       "<style scoped>\n",
       "    .dataframe tbody tr th:only-of-type {\n",
       "        vertical-align: middle;\n",
       "    }\n",
       "\n",
       "    .dataframe tbody tr th {\n",
       "        vertical-align: top;\n",
       "    }\n",
       "\n",
       "    .dataframe thead th {\n",
       "        text-align: right;\n",
       "    }\n",
       "</style>\n",
       "<table border=\"1\" class=\"dataframe\">\n",
       "  <thead>\n",
       "    <tr style=\"text-align: right;\">\n",
       "      <th></th>\n",
       "      <th>Pollster</th>\n",
       "      <th>Method</th>\n",
       "      <th>Cell</th>\n",
       "      <th>Landline</th>\n",
       "      <th>Text</th>\n",
       "      <th>Online</th>\n",
       "      <th>Mail</th>\n",
       "      <th>Percent</th>\n",
       "      <th>Type</th>\n",
       "    </tr>\n",
       "  </thead>\n",
       "  <tbody>\n",
       "    <tr>\n",
       "      <td>0</td>\n",
       "      <td>ABC News/Washington Post</td>\n",
       "      <td>Cell/Landline</td>\n",
       "      <td>65</td>\n",
       "      <td>35</td>\n",
       "      <td>0</td>\n",
       "      <td>0</td>\n",
       "      <td>0</td>\n",
       "      <td>35</td>\n",
       "      <td>Landline</td>\n",
       "    </tr>\n",
       "    <tr>\n",
       "      <td>1</td>\n",
       "      <td>Avalanche Strategy</td>\n",
       "      <td>Online</td>\n",
       "      <td>0</td>\n",
       "      <td>0</td>\n",
       "      <td>0</td>\n",
       "      <td>100</td>\n",
       "      <td>0</td>\n",
       "      <td>0</td>\n",
       "      <td>Landline</td>\n",
       "    </tr>\n",
       "    <tr>\n",
       "      <td>2</td>\n",
       "      <td>Bendixen &amp; Amandi International</td>\n",
       "      <td>Cell/Landline</td>\n",
       "      <td>50</td>\n",
       "      <td>50</td>\n",
       "      <td>0</td>\n",
       "      <td>0</td>\n",
       "      <td>0</td>\n",
       "      <td>50</td>\n",
       "      <td>Landline</td>\n",
       "    </tr>\n",
       "    <tr>\n",
       "      <td>3</td>\n",
       "      <td>Benenson Strategy Group</td>\n",
       "      <td>Cell/Landline</td>\n",
       "      <td>50</td>\n",
       "      <td>50</td>\n",
       "      <td>0</td>\n",
       "      <td>0</td>\n",
       "      <td>0</td>\n",
       "      <td>50</td>\n",
       "      <td>Landline</td>\n",
       "    </tr>\n",
       "    <tr>\n",
       "      <td>4</td>\n",
       "      <td>Bold Blue Campaigns</td>\n",
       "      <td>Cell/Landline</td>\n",
       "      <td>50</td>\n",
       "      <td>50</td>\n",
       "      <td>0</td>\n",
       "      <td>0</td>\n",
       "      <td>0</td>\n",
       "      <td>50</td>\n",
       "      <td>Landline</td>\n",
       "    </tr>\n",
       "  </tbody>\n",
       "</table>\n",
       "</div>"
      ],
      "text/plain": [
       "                          Pollster         Method  Cell  Landline  Text  \\\n",
       "0         ABC News/Washington Post  Cell/Landline    65        35     0   \n",
       "1               Avalanche Strategy         Online     0         0     0   \n",
       "2  Bendixen & Amandi International  Cell/Landline    50        50     0   \n",
       "3          Benenson Strategy Group  Cell/Landline    50        50     0   \n",
       "4              Bold Blue Campaigns  Cell/Landline    50        50     0   \n",
       "\n",
       "   Online  Mail  Percent      Type  \n",
       "0       0     0       35  Landline  \n",
       "1     100     0        0  Landline  \n",
       "2       0     0       50  Landline  \n",
       "3       0     0       50  Landline  \n",
       "4       0     0       50  Landline  "
      ]
     },
     "execution_count": 42,
     "metadata": {},
     "output_type": "execute_result"
    }
   ],
   "source": [
    "alt_chart.head()"
   ]
  },
  {
   "cell_type": "code",
   "execution_count": 43,
   "metadata": {},
   "outputs": [
    {
     "data": {
      "application/vnd.vegalite.v3+json": {
       "$schema": "https://vega.github.io/schema/vega-lite/v3.4.0.json",
       "background": "white",
       "config": {
        "arc": {
         "fill": "#82c6df"
        },
        "area": {
         "fill": "#82c6df"
        },
        "axis": {
         "labelFont": "Benton Gothic, sans",
         "labelFontSize": 11.5,
         "labelFontWeight": "normal",
         "titleFont": "Benton Gothic Bold, sans",
         "titleFontSize": 13,
         "titleFontWeight": "normal"
        },
        "axisX": {
         "labelAngle": 0,
         "labelPadding": 4,
         "tickSize": 3
        },
        "axisY": {
         "labelBaseline": "middle",
         "maxExtent": 45,
         "minExtent": 45,
         "tickSize": 2,
         "titleAlign": "left",
         "titleAngle": 0,
         "titleX": -45,
         "titleY": -11
        },
        "background": "#ffffff",
        "bar": {
         "fill": "#82c6df"
        },
        "legend": {
         "labelFont": "Benton Gothic, sans",
         "labelFontSize": 11.5,
         "symbolType": "square",
         "titleFont": "Benton Gothic Bold, sans",
         "titleFontSize": 13,
         "titleFontWeight": "normal"
        },
        "line": {
         "stroke": "#82c6df",
         "strokeWidth": 3
        },
        "path": {
         "stroke": "#82c6df"
        },
        "point": {
         "stroke": "#82c6df"
        },
        "range": {
         "category": [
          "#3580b1",
          "#ec8431",
          "#ab7fb4",
          "#c89d29",
          "#adc839",
          "#829eb1"
         ],
         "diverging": [
          "#e68a4f",
          "#f4bb6a",
          "#f9e39c",
          "#dadfe2",
          "#a6b7c6",
          "#849eae"
         ],
         "heatmap": [
          "#fbf2c7",
          "#f9e39c",
          "#f8d36e",
          "#f4bb6a",
          "#e68a4f",
          "#d15a40",
          "#ab4232"
         ],
         "ordinal": [
          "#fbf2c7",
          "#f9e39c",
          "#f8d36e",
          "#f4bb6a",
          "#e68a4f",
          "#d15a40",
          "#ab4232"
         ],
         "ramp": [
          "#fbf2c7",
          "#f9e39c",
          "#f8d36e",
          "#f4bb6a",
          "#e68a4f",
          "#d15a40",
          "#ab4232"
         ]
        },
        "rect": {
         "fill": "#82c6df"
        },
        "shape": {
         "stroke": "#82c6df"
        },
        "symbol": {
         "fill": "#82c6df",
         "size": 30
        },
        "title": {
         "anchor": "start",
         "font": "Benton Gothic Bold, sans",
         "fontColor": "#000000",
         "fontSize": 22,
         "fontWeight": "normal"
        },
        "view": {
         "height": 450,
         "width": 800
        }
       },
       "data": {
        "name": "data-70630f41f7b24fe449d3f3b5f87beeb7"
       },
       "datasets": {
        "data-70630f41f7b24fe449d3f3b5f87beeb7": [
         {
          "Cell": 65,
          "Landline": 35,
          "Mail": 0,
          "Method": "Cell/Landline",
          "Online": 0,
          "Percent": 35,
          "Pollster": "ABC News/Washington Post",
          "Text": 0,
          "Type": "Landline"
         },
         {
          "Cell": 0,
          "Landline": 0,
          "Mail": 0,
          "Method": "Online",
          "Online": 100,
          "Percent": 0,
          "Pollster": "Avalanche Strategy",
          "Text": 0,
          "Type": "Landline"
         },
         {
          "Cell": 50,
          "Landline": 50,
          "Mail": 0,
          "Method": "Cell/Landline",
          "Online": 0,
          "Percent": 50,
          "Pollster": "Bendixen & Amandi International",
          "Text": 0,
          "Type": "Landline"
         },
         {
          "Cell": 50,
          "Landline": 50,
          "Mail": 0,
          "Method": "Cell/Landline",
          "Online": 0,
          "Percent": 50,
          "Pollster": "Benenson Strategy Group",
          "Text": 0,
          "Type": "Landline"
         },
         {
          "Cell": 50,
          "Landline": 50,
          "Mail": 0,
          "Method": "Cell/Landline",
          "Online": 0,
          "Percent": 50,
          "Pollster": "Bold Blue Campaigns",
          "Text": 0,
          "Type": "Landline"
         },
         {
          "Cell": 50,
          "Landline": 50,
          "Mail": 0,
          "Method": "Cell/Landline",
          "Online": 0,
          "Percent": 50,
          "Pollster": "CNN/Des Moines Register (Selzer & Co.)",
          "Text": 0,
          "Type": "Landline"
         },
         {
          "Cell": 64,
          "Landline": 36,
          "Mail": 0,
          "Method": "Cell/Landline",
          "Online": 0,
          "Percent": 36,
          "Pollster": "CNN/SSRS",
          "Text": 0,
          "Type": "Landline"
         },
         {
          "Cell": 0,
          "Landline": 0,
          "Mail": 0,
          "Method": "Online",
          "Online": 100,
          "Percent": 0,
          "Pollster": "Capitol Weekly",
          "Text": 0,
          "Type": "Landline"
         },
         {
          "Cell": 0,
          "Landline": 0,
          "Mail": 0,
          "Method": "Online",
          "Online": 100,
          "Percent": 0,
          "Pollster": "Change Research",
          "Text": 0,
          "Type": "Landline"
         },
         {
          "Cell": 0,
          "Landline": 49,
          "Mail": 0,
          "Method": "Landline/Text",
          "Online": 0,
          "Percent": 49,
          "Pollster": "Chism Strategies",
          "Text": 51,
          "Type": "Landline"
         },
         {
          "Cell": 0,
          "Landline": 0,
          "Mail": 0,
          "Method": "Online",
          "Online": 100,
          "Percent": 0,
          "Pollster": "Civiqs",
          "Text": 0,
          "Type": "Landline"
         },
         {
          "Cell": 0,
          "Landline": 0,
          "Mail": 0,
          "Method": "Online",
          "Online": 100,
          "Percent": 0,
          "Pollster": "Claster Consulting",
          "Text": 0,
          "Type": "Landline"
         },
         {
          "Cell": 0,
          "Landline": 0,
          "Mail": 0,
          "Method": "Online",
          "Online": 100,
          "Percent": 0,
          "Pollster": "Climate Nexus",
          "Text": 0,
          "Type": "Landline"
         },
         {
          "Cell": 0,
          "Landline": 0,
          "Mail": 0,
          "Method": "Online",
          "Online": 100,
          "Percent": 0,
          "Pollster": "Crantford Research",
          "Text": 0,
          "Type": "Landline"
         },
         {
          "Cell": 0,
          "Landline": 0,
          "Mail": 0,
          "Method": "Online",
          "Online": 100,
          "Percent": 0,
          "Pollster": "D-CYFOR",
          "Text": 0,
          "Type": "Landline"
         },
         {
          "Cell": 50,
          "Landline": 50,
          "Mail": 0,
          "Method": "Cell/Landline",
          "Online": 0,
          "Percent": 50,
          "Pollster": "David Binder Research",
          "Text": 0,
          "Type": "Landline"
         },
         {
          "Cell": 35,
          "Landline": 65,
          "Mail": 0,
          "Method": "Cell/Landline",
          "Online": 0,
          "Percent": 65,
          "Pollster": "Denno Research",
          "Text": 0,
          "Type": "Landline"
         },
         {
          "Cell": 0,
          "Landline": 0,
          "Mail": 0,
          "Method": "Online",
          "Online": 100,
          "Percent": 0,
          "Pollster": "Echelon Insights",
          "Text": 0,
          "Type": "Landline"
         },
         {
          "Cell": 0,
          "Landline": 66,
          "Mail": 0,
          "Method": "Landline/Online",
          "Online": 34,
          "Percent": 66,
          "Pollster": "Emerson College",
          "Text": 0,
          "Type": "Landline"
         },
         {
          "Cell": 22,
          "Landline": 42,
          "Mail": 0,
          "Method": "Cell/Land/Text",
          "Online": 0,
          "Percent": 42,
          "Pollster": "Firehouse Strategies/Øptimus",
          "Text": 37,
          "Type": "Landline"
         },
         {
          "Cell": 0,
          "Landline": 62,
          "Mail": 0,
          "Method": "Landline/Online",
          "Online": 38,
          "Percent": 62,
          "Pollster": "Florida Atlantic University",
          "Text": 0,
          "Type": "Landline"
         },
         {
          "Cell": 76,
          "Landline": 24,
          "Mail": 0,
          "Method": "Cell/Landline",
          "Online": 0,
          "Percent": 24,
          "Pollster": "Fox News",
          "Text": 0,
          "Type": "Landline"
         },
         {
          "Cell": 0,
          "Landline": 0,
          "Mail": 100,
          "Method": "Mail",
          "Online": 0,
          "Percent": 0,
          "Pollster": "Franklin & Marshall College",
          "Text": 0,
          "Type": "Landline"
         },
         {
          "Cell": 50,
          "Landline": 50,
          "Mail": 0,
          "Method": "Cell/Landline",
          "Online": 0,
          "Percent": 50,
          "Pollster": "GBAO",
          "Text": 0,
          "Type": "Landline"
         },
         {
          "Cell": 50,
          "Landline": 50,
          "Mail": 0,
          "Method": "Cell/Landline",
          "Online": 0,
          "Percent": 50,
          "Pollster": "GQR Research",
          "Text": 0,
          "Type": "Landline"
         },
         {
          "Cell": 81,
          "Landline": 19,
          "Mail": 0,
          "Method": "Cell/Landline",
          "Online": 0,
          "Percent": 19,
          "Pollster": "Goucher College",
          "Text": 0,
          "Type": "Landline"
         },
         {
          "Cell": 33,
          "Landline": 33,
          "Mail": 0,
          "Method": "Cell/Land/Online",
          "Online": 33,
          "Percent": 33,
          "Pollster": "Gravis Marketing",
          "Text": 0,
          "Type": "Landline"
         },
         {
          "Cell": 0,
          "Landline": 0,
          "Mail": 100,
          "Method": "Mail",
          "Online": 0,
          "Percent": 0,
          "Pollster": "Hampton University",
          "Text": 0,
          "Type": "Landline"
         },
         {
          "Cell": 0,
          "Landline": 0,
          "Mail": 0,
          "Method": "Online",
          "Online": 100,
          "Percent": 0,
          "Pollster": "Harris Poll",
          "Text": 0,
          "Type": "Landline"
         },
         {
          "Cell": 0,
          "Landline": 0,
          "Mail": 0,
          "Method": "Online",
          "Online": 100,
          "Percent": 0,
          "Pollster": "HarrisX",
          "Text": 0,
          "Type": "Landline"
         },
         {
          "Cell": 11,
          "Landline": 11,
          "Mail": 0,
          "Method": "Cell/Land/Online",
          "Online": 78,
          "Percent": 11,
          "Pollster": "High Point University",
          "Text": 0,
          "Type": "Landline"
         },
         {
          "Cell": 77,
          "Landline": 23,
          "Mail": 0,
          "Method": "Cell/Landline",
          "Online": 0,
          "Percent": 23,
          "Pollster": "IBD/TIPP",
          "Text": 0,
          "Type": "Landline"
         },
         {
          "Cell": 33,
          "Landline": 33,
          "Mail": 0,
          "Method": "Landline/Online",
          "Online": 33,
          "Percent": 33,
          "Pollster": "Landmark Communications",
          "Text": 0,
          "Type": "Landline"
         },
         {
          "Cell": 62,
          "Landline": 38,
          "Mail": 0,
          "Method": "Cell/Landline",
          "Online": 0,
          "Percent": 38,
          "Pollster": "Marquette Law School",
          "Text": 0,
          "Type": "Landline"
         },
         {
          "Cell": 0,
          "Landline": 0,
          "Mail": 0,
          "Method": "Online",
          "Online": 100,
          "Percent": 0,
          "Pollster": "McLaughlin & Associates",
          "Text": 0,
          "Type": "Landline"
         },
         {
          "Cell": 56,
          "Landline": 44,
          "Mail": 0,
          "Method": "Cell/Landline",
          "Online": 0,
          "Percent": 44,
          "Pollster": "Monmouth University",
          "Text": 0,
          "Type": "Landline"
         },
         {
          "Cell": 0,
          "Landline": 0,
          "Mail": 0,
          "Method": "Online",
          "Online": 100,
          "Percent": 0,
          "Pollster": "Morning Consult",
          "Text": 0,
          "Type": "Landline"
         },
         {
          "Cell": 61,
          "Landline": 39,
          "Mail": 0,
          "Method": "Cell/Landline",
          "Online": 0,
          "Percent": 39,
          "Pollster": "Muhlenberg College",
          "Text": 0,
          "Type": "Landline"
         },
         {
          "Cell": 56,
          "Landline": 44,
          "Mail": 0,
          "Method": "Cell/Landline",
          "Online": 0,
          "Percent": 44,
          "Pollster": "NBC News/Wall Street Journal",
          "Text": 0,
          "Type": "Landline"
         },
         {
          "Cell": 0,
          "Landline": 0,
          "Mail": 0,
          "Method": "Online",
          "Online": 100,
          "Percent": 0,
          "Pollster": "Pew Research Center",
          "Text": 0,
          "Type": "Landline"
         },
         {
          "Cell": 70,
          "Landline": 30,
          "Mail": 0,
          "Method": "Cell/Landline",
          "Online": 0,
          "Percent": 30,
          "Pollster": "Public Policy Institute of California",
          "Text": 0,
          "Type": "Landline"
         },
         {
          "Cell": 50,
          "Landline": 0,
          "Mail": 0,
          "Method": "Cell/Online",
          "Online": 50,
          "Percent": 0,
          "Pollster": "Public Policy Polling",
          "Text": 0,
          "Type": "Landline"
         },
         {
          "Cell": 50,
          "Landline": 50,
          "Mail": 0,
          "Method": "Cell/Landline",
          "Online": 0,
          "Percent": 50,
          "Pollster": "Quinnipiac University",
          "Text": 0,
          "Type": "Landline"
         },
         {
          "Cell": 80,
          "Landline": 20,
          "Mail": 0,
          "Method": "Cell/Landline",
          "Online": 0,
          "Percent": 20,
          "Pollster": "RKM Research and Communications Inc.",
          "Text": 0,
          "Type": "Landline"
         },
         {
          "Cell": 65,
          "Landline": 35,
          "Mail": 0,
          "Method": "Cell/Landline",
          "Online": 0,
          "Percent": 35,
          "Pollster": "Ragnar Research Partners",
          "Text": 0,
          "Type": "Landline"
         },
         {
          "Cell": 20,
          "Landline": 80,
          "Mail": 0,
          "Method": "Cell/Landline",
          "Online": 0,
          "Percent": 80,
          "Pollster": "Remington Research Group",
          "Text": 0,
          "Type": "Landline"
         },
         {
          "Cell": 71,
          "Landline": 29,
          "Mail": 0,
          "Method": "Cell/Landline",
          "Online": 0,
          "Percent": 29,
          "Pollster": "Research America Inc.",
          "Text": 0,
          "Type": "Landline"
         },
         {
          "Cell": 0,
          "Landline": 0,
          "Mail": 0,
          "Method": "Online",
          "Online": 100,
          "Percent": 0,
          "Pollster": "Reuters/Ipsos",
          "Text": 0,
          "Type": "Landline"
         },
         {
          "Cell": 50,
          "Landline": 50,
          "Mail": 0,
          "Method": "Cell/Landline",
          "Online": 0,
          "Percent": 50,
          "Pollster": "Saint Anselm College",
          "Text": 0,
          "Type": "Landline"
         },
         {
          "Cell": 50,
          "Landline": 50,
          "Mail": 0,
          "Method": "Cell/Landline",
          "Online": 0,
          "Percent": 50,
          "Pollster": "Show Me Victories",
          "Text": 0,
          "Type": "Landline"
         },
         {
          "Cell": 50,
          "Landline": 50,
          "Mail": 0,
          "Method": "Cell/Landline",
          "Online": 0,
          "Percent": 50,
          "Pollster": "Siena College",
          "Text": 0,
          "Type": "Landline"
         },
         {
          "Cell": 43,
          "Landline": 57,
          "Mail": 0,
          "Method": "Cell/Landline",
          "Online": 0,
          "Percent": 57,
          "Pollster": "SoonerPoll",
          "Text": 0,
          "Type": "Landline"
         },
         {
          "Cell": 0,
          "Landline": 100,
          "Mail": 0,
          "Method": "Landline",
          "Online": 0,
          "Percent": 100,
          "Pollster": "St. Pete Polls",
          "Text": 0,
          "Type": "Landline"
         },
         {
          "Cell": 85,
          "Landline": 15,
          "Mail": 0,
          "Method": "Cell/Landline",
          "Online": 0,
          "Percent": 15,
          "Pollster": "Suffolk University/USA Today",
          "Text": 0,
          "Type": "Landline"
         },
         {
          "Cell": 0,
          "Landline": 0,
          "Mail": 0,
          "Method": "Online",
          "Online": 100,
          "Percent": 0,
          "Pollster": "SurveyMonkey",
          "Text": 0,
          "Type": "Landline"
         },
         {
          "Cell": 0,
          "Landline": 0,
          "Mail": 0,
          "Method": "Online",
          "Online": 100,
          "Percent": 0,
          "Pollster": "SurveyUSA",
          "Text": 0,
          "Type": "Landline"
         },
         {
          "Cell": 50,
          "Landline": 50,
          "Mail": 0,
          "Method": "Cell/Landline",
          "Online": 0,
          "Percent": 50,
          "Pollster": "TargetPoint/GQR Research",
          "Text": 0,
          "Type": "Landline"
         },
         {
          "Cell": 46,
          "Landline": 54,
          "Mail": 0,
          "Method": "Cell/Landline",
          "Online": 0,
          "Percent": 54,
          "Pollster": "Tel Opinion Research",
          "Text": 0,
          "Type": "Landline"
         },
         {
          "Cell": 75,
          "Landline": 0,
          "Mail": 0,
          "Method": "Cell/Online",
          "Online": 25,
          "Percent": 0,
          "Pollster": "Texas Lyceum",
          "Text": 0,
          "Type": "Landline"
         },
         {
          "Cell": 0,
          "Landline": 0,
          "Mail": 0,
          "Method": "Online",
          "Online": 100,
          "Percent": 0,
          "Pollster": "UC Berkeley",
          "Text": 0,
          "Type": "Landline"
         },
         {
          "Cell": 0,
          "Landline": 0,
          "Mail": 100,
          "Method": "Mail",
          "Online": 0,
          "Percent": 0,
          "Pollster": "USC Dornsife/LA Times",
          "Text": 0,
          "Type": "Landline"
         },
         {
          "Cell": 81,
          "Landline": 19,
          "Mail": 0,
          "Method": "Cell/Landline",
          "Online": 0,
          "Percent": 19,
          "Pollster": "University of New Hampshire",
          "Text": 0,
          "Type": "Landline"
         },
         {
          "Cell": 0,
          "Landline": 0,
          "Mail": 0,
          "Method": "Online",
          "Online": 100,
          "Percent": 0,
          "Pollster": "University of Texas at Tyler",
          "Text": 0,
          "Type": "Landline"
         },
         {
          "Cell": 0,
          "Landline": 0,
          "Mail": 100,
          "Method": "Mail",
          "Online": 0,
          "Percent": 0,
          "Pollster": "Univision/University of Houston/Latino Decisions/North Star Opinion Research",
          "Text": 0,
          "Type": "Landline"
         },
         {
          "Cell": 58,
          "Landline": 42,
          "Mail": 0,
          "Method": "Cell/Landline",
          "Online": 0,
          "Percent": 42,
          "Pollster": "Victory Research",
          "Text": 0,
          "Type": "Landline"
         },
         {
          "Cell": 0,
          "Landline": 0,
          "Mail": 100,
          "Method": "Mail",
          "Online": 0,
          "Percent": 0,
          "Pollster": "WPA Intelligence",
          "Text": 0,
          "Type": "Landline"
         },
         {
          "Cell": 0,
          "Landline": 0,
          "Mail": 0,
          "Method": "Mail",
          "Online": 100,
          "Percent": 0,
          "Pollster": "We Ask America",
          "Text": 0,
          "Type": "Landline"
         },
         {
          "Cell": 73,
          "Landline": 27,
          "Mail": 0,
          "Method": "Cell/Landline",
          "Online": 0,
          "Percent": 27,
          "Pollster": "Winthrop University",
          "Text": 0,
          "Type": "Landline"
         },
         {
          "Cell": 0,
          "Landline": 0,
          "Mail": 0,
          "Method": "Online",
          "Online": 100,
          "Percent": 0,
          "Pollster": "YouGov",
          "Text": 0,
          "Type": "Landline"
         },
         {
          "Cell": 0,
          "Landline": 0,
          "Mail": 0,
          "Method": "Online",
          "Online": 100,
          "Percent": 0,
          "Pollster": "YouGov Blue/Data for Progress",
          "Text": 0,
          "Type": "Landline"
         },
         {
          "Cell": 0,
          "Landline": 0,
          "Mail": 0,
          "Method": "Online",
          "Online": 100,
          "Percent": 0,
          "Pollster": "Zogby Analytics",
          "Text": 0,
          "Type": "Landline"
         },
         {
          "Cell": 65,
          "Landline": 35,
          "Mail": 0,
          "Method": "Cell/Landline",
          "Online": 0,
          "Percent": 65,
          "Pollster": "ABC News/Washington Post",
          "Text": 0,
          "Type": "Cell"
         },
         {
          "Cell": 0,
          "Landline": 0,
          "Mail": 0,
          "Method": "Online",
          "Online": 100,
          "Percent": 0,
          "Pollster": "Avalanche Strategy",
          "Text": 0,
          "Type": "Cell"
         },
         {
          "Cell": 50,
          "Landline": 50,
          "Mail": 0,
          "Method": "Cell/Landline",
          "Online": 0,
          "Percent": 50,
          "Pollster": "Bendixen & Amandi International",
          "Text": 0,
          "Type": "Cell"
         },
         {
          "Cell": 50,
          "Landline": 50,
          "Mail": 0,
          "Method": "Cell/Landline",
          "Online": 0,
          "Percent": 50,
          "Pollster": "Benenson Strategy Group",
          "Text": 0,
          "Type": "Cell"
         },
         {
          "Cell": 50,
          "Landline": 50,
          "Mail": 0,
          "Method": "Cell/Landline",
          "Online": 0,
          "Percent": 50,
          "Pollster": "Bold Blue Campaigns",
          "Text": 0,
          "Type": "Cell"
         },
         {
          "Cell": 50,
          "Landline": 50,
          "Mail": 0,
          "Method": "Cell/Landline",
          "Online": 0,
          "Percent": 50,
          "Pollster": "CNN/Des Moines Register (Selzer & Co.)",
          "Text": 0,
          "Type": "Cell"
         },
         {
          "Cell": 64,
          "Landline": 36,
          "Mail": 0,
          "Method": "Cell/Landline",
          "Online": 0,
          "Percent": 64,
          "Pollster": "CNN/SSRS",
          "Text": 0,
          "Type": "Cell"
         },
         {
          "Cell": 0,
          "Landline": 0,
          "Mail": 0,
          "Method": "Online",
          "Online": 100,
          "Percent": 0,
          "Pollster": "Capitol Weekly",
          "Text": 0,
          "Type": "Cell"
         },
         {
          "Cell": 0,
          "Landline": 0,
          "Mail": 0,
          "Method": "Online",
          "Online": 100,
          "Percent": 0,
          "Pollster": "Change Research",
          "Text": 0,
          "Type": "Cell"
         },
         {
          "Cell": 0,
          "Landline": 49,
          "Mail": 0,
          "Method": "Landline/Text",
          "Online": 0,
          "Percent": 0,
          "Pollster": "Chism Strategies",
          "Text": 51,
          "Type": "Cell"
         },
         {
          "Cell": 0,
          "Landline": 0,
          "Mail": 0,
          "Method": "Online",
          "Online": 100,
          "Percent": 0,
          "Pollster": "Civiqs",
          "Text": 0,
          "Type": "Cell"
         },
         {
          "Cell": 0,
          "Landline": 0,
          "Mail": 0,
          "Method": "Online",
          "Online": 100,
          "Percent": 0,
          "Pollster": "Claster Consulting",
          "Text": 0,
          "Type": "Cell"
         },
         {
          "Cell": 0,
          "Landline": 0,
          "Mail": 0,
          "Method": "Online",
          "Online": 100,
          "Percent": 0,
          "Pollster": "Climate Nexus",
          "Text": 0,
          "Type": "Cell"
         },
         {
          "Cell": 0,
          "Landline": 0,
          "Mail": 0,
          "Method": "Online",
          "Online": 100,
          "Percent": 0,
          "Pollster": "Crantford Research",
          "Text": 0,
          "Type": "Cell"
         },
         {
          "Cell": 0,
          "Landline": 0,
          "Mail": 0,
          "Method": "Online",
          "Online": 100,
          "Percent": 0,
          "Pollster": "D-CYFOR",
          "Text": 0,
          "Type": "Cell"
         },
         {
          "Cell": 50,
          "Landline": 50,
          "Mail": 0,
          "Method": "Cell/Landline",
          "Online": 0,
          "Percent": 50,
          "Pollster": "David Binder Research",
          "Text": 0,
          "Type": "Cell"
         },
         {
          "Cell": 35,
          "Landline": 65,
          "Mail": 0,
          "Method": "Cell/Landline",
          "Online": 0,
          "Percent": 35,
          "Pollster": "Denno Research",
          "Text": 0,
          "Type": "Cell"
         },
         {
          "Cell": 0,
          "Landline": 0,
          "Mail": 0,
          "Method": "Online",
          "Online": 100,
          "Percent": 0,
          "Pollster": "Echelon Insights",
          "Text": 0,
          "Type": "Cell"
         },
         {
          "Cell": 0,
          "Landline": 66,
          "Mail": 0,
          "Method": "Landline/Online",
          "Online": 34,
          "Percent": 0,
          "Pollster": "Emerson College",
          "Text": 0,
          "Type": "Cell"
         },
         {
          "Cell": 22,
          "Landline": 42,
          "Mail": 0,
          "Method": "Cell/Land/Text",
          "Online": 0,
          "Percent": 22,
          "Pollster": "Firehouse Strategies/Øptimus",
          "Text": 37,
          "Type": "Cell"
         },
         {
          "Cell": 0,
          "Landline": 62,
          "Mail": 0,
          "Method": "Landline/Online",
          "Online": 38,
          "Percent": 0,
          "Pollster": "Florida Atlantic University",
          "Text": 0,
          "Type": "Cell"
         },
         {
          "Cell": 76,
          "Landline": 24,
          "Mail": 0,
          "Method": "Cell/Landline",
          "Online": 0,
          "Percent": 76,
          "Pollster": "Fox News",
          "Text": 0,
          "Type": "Cell"
         },
         {
          "Cell": 0,
          "Landline": 0,
          "Mail": 100,
          "Method": "Mail",
          "Online": 0,
          "Percent": 0,
          "Pollster": "Franklin & Marshall College",
          "Text": 0,
          "Type": "Cell"
         },
         {
          "Cell": 50,
          "Landline": 50,
          "Mail": 0,
          "Method": "Cell/Landline",
          "Online": 0,
          "Percent": 50,
          "Pollster": "GBAO",
          "Text": 0,
          "Type": "Cell"
         },
         {
          "Cell": 50,
          "Landline": 50,
          "Mail": 0,
          "Method": "Cell/Landline",
          "Online": 0,
          "Percent": 50,
          "Pollster": "GQR Research",
          "Text": 0,
          "Type": "Cell"
         },
         {
          "Cell": 81,
          "Landline": 19,
          "Mail": 0,
          "Method": "Cell/Landline",
          "Online": 0,
          "Percent": 81,
          "Pollster": "Goucher College",
          "Text": 0,
          "Type": "Cell"
         },
         {
          "Cell": 33,
          "Landline": 33,
          "Mail": 0,
          "Method": "Cell/Land/Online",
          "Online": 33,
          "Percent": 33,
          "Pollster": "Gravis Marketing",
          "Text": 0,
          "Type": "Cell"
         },
         {
          "Cell": 0,
          "Landline": 0,
          "Mail": 100,
          "Method": "Mail",
          "Online": 0,
          "Percent": 0,
          "Pollster": "Hampton University",
          "Text": 0,
          "Type": "Cell"
         },
         {
          "Cell": 0,
          "Landline": 0,
          "Mail": 0,
          "Method": "Online",
          "Online": 100,
          "Percent": 0,
          "Pollster": "Harris Poll",
          "Text": 0,
          "Type": "Cell"
         },
         {
          "Cell": 0,
          "Landline": 0,
          "Mail": 0,
          "Method": "Online",
          "Online": 100,
          "Percent": 0,
          "Pollster": "HarrisX",
          "Text": 0,
          "Type": "Cell"
         },
         {
          "Cell": 11,
          "Landline": 11,
          "Mail": 0,
          "Method": "Cell/Land/Online",
          "Online": 78,
          "Percent": 11,
          "Pollster": "High Point University",
          "Text": 0,
          "Type": "Cell"
         },
         {
          "Cell": 77,
          "Landline": 23,
          "Mail": 0,
          "Method": "Cell/Landline",
          "Online": 0,
          "Percent": 77,
          "Pollster": "IBD/TIPP",
          "Text": 0,
          "Type": "Cell"
         },
         {
          "Cell": 33,
          "Landline": 33,
          "Mail": 0,
          "Method": "Landline/Online",
          "Online": 33,
          "Percent": 33,
          "Pollster": "Landmark Communications",
          "Text": 0,
          "Type": "Cell"
         },
         {
          "Cell": 62,
          "Landline": 38,
          "Mail": 0,
          "Method": "Cell/Landline",
          "Online": 0,
          "Percent": 62,
          "Pollster": "Marquette Law School",
          "Text": 0,
          "Type": "Cell"
         },
         {
          "Cell": 0,
          "Landline": 0,
          "Mail": 0,
          "Method": "Online",
          "Online": 100,
          "Percent": 0,
          "Pollster": "McLaughlin & Associates",
          "Text": 0,
          "Type": "Cell"
         },
         {
          "Cell": 56,
          "Landline": 44,
          "Mail": 0,
          "Method": "Cell/Landline",
          "Online": 0,
          "Percent": 56,
          "Pollster": "Monmouth University",
          "Text": 0,
          "Type": "Cell"
         },
         {
          "Cell": 0,
          "Landline": 0,
          "Mail": 0,
          "Method": "Online",
          "Online": 100,
          "Percent": 0,
          "Pollster": "Morning Consult",
          "Text": 0,
          "Type": "Cell"
         },
         {
          "Cell": 61,
          "Landline": 39,
          "Mail": 0,
          "Method": "Cell/Landline",
          "Online": 0,
          "Percent": 61,
          "Pollster": "Muhlenberg College",
          "Text": 0,
          "Type": "Cell"
         },
         {
          "Cell": 56,
          "Landline": 44,
          "Mail": 0,
          "Method": "Cell/Landline",
          "Online": 0,
          "Percent": 56,
          "Pollster": "NBC News/Wall Street Journal",
          "Text": 0,
          "Type": "Cell"
         },
         {
          "Cell": 0,
          "Landline": 0,
          "Mail": 0,
          "Method": "Online",
          "Online": 100,
          "Percent": 0,
          "Pollster": "Pew Research Center",
          "Text": 0,
          "Type": "Cell"
         },
         {
          "Cell": 70,
          "Landline": 30,
          "Mail": 0,
          "Method": "Cell/Landline",
          "Online": 0,
          "Percent": 70,
          "Pollster": "Public Policy Institute of California",
          "Text": 0,
          "Type": "Cell"
         },
         {
          "Cell": 50,
          "Landline": 0,
          "Mail": 0,
          "Method": "Cell/Online",
          "Online": 50,
          "Percent": 50,
          "Pollster": "Public Policy Polling",
          "Text": 0,
          "Type": "Cell"
         },
         {
          "Cell": 50,
          "Landline": 50,
          "Mail": 0,
          "Method": "Cell/Landline",
          "Online": 0,
          "Percent": 50,
          "Pollster": "Quinnipiac University",
          "Text": 0,
          "Type": "Cell"
         },
         {
          "Cell": 80,
          "Landline": 20,
          "Mail": 0,
          "Method": "Cell/Landline",
          "Online": 0,
          "Percent": 80,
          "Pollster": "RKM Research and Communications Inc.",
          "Text": 0,
          "Type": "Cell"
         },
         {
          "Cell": 65,
          "Landline": 35,
          "Mail": 0,
          "Method": "Cell/Landline",
          "Online": 0,
          "Percent": 65,
          "Pollster": "Ragnar Research Partners",
          "Text": 0,
          "Type": "Cell"
         },
         {
          "Cell": 20,
          "Landline": 80,
          "Mail": 0,
          "Method": "Cell/Landline",
          "Online": 0,
          "Percent": 20,
          "Pollster": "Remington Research Group",
          "Text": 0,
          "Type": "Cell"
         },
         {
          "Cell": 71,
          "Landline": 29,
          "Mail": 0,
          "Method": "Cell/Landline",
          "Online": 0,
          "Percent": 71,
          "Pollster": "Research America Inc.",
          "Text": 0,
          "Type": "Cell"
         },
         {
          "Cell": 0,
          "Landline": 0,
          "Mail": 0,
          "Method": "Online",
          "Online": 100,
          "Percent": 0,
          "Pollster": "Reuters/Ipsos",
          "Text": 0,
          "Type": "Cell"
         },
         {
          "Cell": 50,
          "Landline": 50,
          "Mail": 0,
          "Method": "Cell/Landline",
          "Online": 0,
          "Percent": 50,
          "Pollster": "Saint Anselm College",
          "Text": 0,
          "Type": "Cell"
         },
         {
          "Cell": 50,
          "Landline": 50,
          "Mail": 0,
          "Method": "Cell/Landline",
          "Online": 0,
          "Percent": 50,
          "Pollster": "Show Me Victories",
          "Text": 0,
          "Type": "Cell"
         },
         {
          "Cell": 50,
          "Landline": 50,
          "Mail": 0,
          "Method": "Cell/Landline",
          "Online": 0,
          "Percent": 50,
          "Pollster": "Siena College",
          "Text": 0,
          "Type": "Cell"
         },
         {
          "Cell": 43,
          "Landline": 57,
          "Mail": 0,
          "Method": "Cell/Landline",
          "Online": 0,
          "Percent": 43,
          "Pollster": "SoonerPoll",
          "Text": 0,
          "Type": "Cell"
         },
         {
          "Cell": 0,
          "Landline": 100,
          "Mail": 0,
          "Method": "Landline",
          "Online": 0,
          "Percent": 0,
          "Pollster": "St. Pete Polls",
          "Text": 0,
          "Type": "Cell"
         },
         {
          "Cell": 85,
          "Landline": 15,
          "Mail": 0,
          "Method": "Cell/Landline",
          "Online": 0,
          "Percent": 85,
          "Pollster": "Suffolk University/USA Today",
          "Text": 0,
          "Type": "Cell"
         },
         {
          "Cell": 0,
          "Landline": 0,
          "Mail": 0,
          "Method": "Online",
          "Online": 100,
          "Percent": 0,
          "Pollster": "SurveyMonkey",
          "Text": 0,
          "Type": "Cell"
         },
         {
          "Cell": 0,
          "Landline": 0,
          "Mail": 0,
          "Method": "Online",
          "Online": 100,
          "Percent": 0,
          "Pollster": "SurveyUSA",
          "Text": 0,
          "Type": "Cell"
         },
         {
          "Cell": 50,
          "Landline": 50,
          "Mail": 0,
          "Method": "Cell/Landline",
          "Online": 0,
          "Percent": 50,
          "Pollster": "TargetPoint/GQR Research",
          "Text": 0,
          "Type": "Cell"
         },
         {
          "Cell": 46,
          "Landline": 54,
          "Mail": 0,
          "Method": "Cell/Landline",
          "Online": 0,
          "Percent": 46,
          "Pollster": "Tel Opinion Research",
          "Text": 0,
          "Type": "Cell"
         },
         {
          "Cell": 75,
          "Landline": 0,
          "Mail": 0,
          "Method": "Cell/Online",
          "Online": 25,
          "Percent": 75,
          "Pollster": "Texas Lyceum",
          "Text": 0,
          "Type": "Cell"
         },
         {
          "Cell": 0,
          "Landline": 0,
          "Mail": 0,
          "Method": "Online",
          "Online": 100,
          "Percent": 0,
          "Pollster": "UC Berkeley",
          "Text": 0,
          "Type": "Cell"
         },
         {
          "Cell": 0,
          "Landline": 0,
          "Mail": 100,
          "Method": "Mail",
          "Online": 0,
          "Percent": 0,
          "Pollster": "USC Dornsife/LA Times",
          "Text": 0,
          "Type": "Cell"
         },
         {
          "Cell": 81,
          "Landline": 19,
          "Mail": 0,
          "Method": "Cell/Landline",
          "Online": 0,
          "Percent": 81,
          "Pollster": "University of New Hampshire",
          "Text": 0,
          "Type": "Cell"
         },
         {
          "Cell": 0,
          "Landline": 0,
          "Mail": 0,
          "Method": "Online",
          "Online": 100,
          "Percent": 0,
          "Pollster": "University of Texas at Tyler",
          "Text": 0,
          "Type": "Cell"
         },
         {
          "Cell": 0,
          "Landline": 0,
          "Mail": 100,
          "Method": "Mail",
          "Online": 0,
          "Percent": 0,
          "Pollster": "Univision/University of Houston/Latino Decisions/North Star Opinion Research",
          "Text": 0,
          "Type": "Cell"
         },
         {
          "Cell": 58,
          "Landline": 42,
          "Mail": 0,
          "Method": "Cell/Landline",
          "Online": 0,
          "Percent": 58,
          "Pollster": "Victory Research",
          "Text": 0,
          "Type": "Cell"
         },
         {
          "Cell": 0,
          "Landline": 0,
          "Mail": 100,
          "Method": "Mail",
          "Online": 0,
          "Percent": 0,
          "Pollster": "WPA Intelligence",
          "Text": 0,
          "Type": "Cell"
         },
         {
          "Cell": 0,
          "Landline": 0,
          "Mail": 0,
          "Method": "Mail",
          "Online": 100,
          "Percent": 0,
          "Pollster": "We Ask America",
          "Text": 0,
          "Type": "Cell"
         },
         {
          "Cell": 73,
          "Landline": 27,
          "Mail": 0,
          "Method": "Cell/Landline",
          "Online": 0,
          "Percent": 73,
          "Pollster": "Winthrop University",
          "Text": 0,
          "Type": "Cell"
         },
         {
          "Cell": 0,
          "Landline": 0,
          "Mail": 0,
          "Method": "Online",
          "Online": 100,
          "Percent": 0,
          "Pollster": "YouGov",
          "Text": 0,
          "Type": "Cell"
         },
         {
          "Cell": 0,
          "Landline": 0,
          "Mail": 0,
          "Method": "Online",
          "Online": 100,
          "Percent": 0,
          "Pollster": "YouGov Blue/Data for Progress",
          "Text": 0,
          "Type": "Cell"
         },
         {
          "Cell": 0,
          "Landline": 0,
          "Mail": 0,
          "Method": "Online",
          "Online": 100,
          "Percent": 0,
          "Pollster": "Zogby Analytics",
          "Text": 0,
          "Type": "Cell"
         },
         {
          "Cell": 65,
          "Landline": 35,
          "Mail": 0,
          "Method": "Cell/Landline",
          "Online": 0,
          "Percent": 0,
          "Pollster": "ABC News/Washington Post",
          "Text": 0,
          "Type": "Text"
         },
         {
          "Cell": 0,
          "Landline": 0,
          "Mail": 0,
          "Method": "Online",
          "Online": 100,
          "Percent": 0,
          "Pollster": "Avalanche Strategy",
          "Text": 0,
          "Type": "Text"
         },
         {
          "Cell": 50,
          "Landline": 50,
          "Mail": 0,
          "Method": "Cell/Landline",
          "Online": 0,
          "Percent": 0,
          "Pollster": "Bendixen & Amandi International",
          "Text": 0,
          "Type": "Text"
         },
         {
          "Cell": 50,
          "Landline": 50,
          "Mail": 0,
          "Method": "Cell/Landline",
          "Online": 0,
          "Percent": 0,
          "Pollster": "Benenson Strategy Group",
          "Text": 0,
          "Type": "Text"
         },
         {
          "Cell": 50,
          "Landline": 50,
          "Mail": 0,
          "Method": "Cell/Landline",
          "Online": 0,
          "Percent": 0,
          "Pollster": "Bold Blue Campaigns",
          "Text": 0,
          "Type": "Text"
         },
         {
          "Cell": 50,
          "Landline": 50,
          "Mail": 0,
          "Method": "Cell/Landline",
          "Online": 0,
          "Percent": 0,
          "Pollster": "CNN/Des Moines Register (Selzer & Co.)",
          "Text": 0,
          "Type": "Text"
         },
         {
          "Cell": 64,
          "Landline": 36,
          "Mail": 0,
          "Method": "Cell/Landline",
          "Online": 0,
          "Percent": 0,
          "Pollster": "CNN/SSRS",
          "Text": 0,
          "Type": "Text"
         },
         {
          "Cell": 0,
          "Landline": 0,
          "Mail": 0,
          "Method": "Online",
          "Online": 100,
          "Percent": 0,
          "Pollster": "Capitol Weekly",
          "Text": 0,
          "Type": "Text"
         },
         {
          "Cell": 0,
          "Landline": 0,
          "Mail": 0,
          "Method": "Online",
          "Online": 100,
          "Percent": 0,
          "Pollster": "Change Research",
          "Text": 0,
          "Type": "Text"
         },
         {
          "Cell": 0,
          "Landline": 49,
          "Mail": 0,
          "Method": "Landline/Text",
          "Online": 0,
          "Percent": 51,
          "Pollster": "Chism Strategies",
          "Text": 51,
          "Type": "Text"
         },
         {
          "Cell": 0,
          "Landline": 0,
          "Mail": 0,
          "Method": "Online",
          "Online": 100,
          "Percent": 0,
          "Pollster": "Civiqs",
          "Text": 0,
          "Type": "Text"
         },
         {
          "Cell": 0,
          "Landline": 0,
          "Mail": 0,
          "Method": "Online",
          "Online": 100,
          "Percent": 0,
          "Pollster": "Claster Consulting",
          "Text": 0,
          "Type": "Text"
         },
         {
          "Cell": 0,
          "Landline": 0,
          "Mail": 0,
          "Method": "Online",
          "Online": 100,
          "Percent": 0,
          "Pollster": "Climate Nexus",
          "Text": 0,
          "Type": "Text"
         },
         {
          "Cell": 0,
          "Landline": 0,
          "Mail": 0,
          "Method": "Online",
          "Online": 100,
          "Percent": 0,
          "Pollster": "Crantford Research",
          "Text": 0,
          "Type": "Text"
         },
         {
          "Cell": 0,
          "Landline": 0,
          "Mail": 0,
          "Method": "Online",
          "Online": 100,
          "Percent": 0,
          "Pollster": "D-CYFOR",
          "Text": 0,
          "Type": "Text"
         },
         {
          "Cell": 50,
          "Landline": 50,
          "Mail": 0,
          "Method": "Cell/Landline",
          "Online": 0,
          "Percent": 0,
          "Pollster": "David Binder Research",
          "Text": 0,
          "Type": "Text"
         },
         {
          "Cell": 35,
          "Landline": 65,
          "Mail": 0,
          "Method": "Cell/Landline",
          "Online": 0,
          "Percent": 0,
          "Pollster": "Denno Research",
          "Text": 0,
          "Type": "Text"
         },
         {
          "Cell": 0,
          "Landline": 0,
          "Mail": 0,
          "Method": "Online",
          "Online": 100,
          "Percent": 0,
          "Pollster": "Echelon Insights",
          "Text": 0,
          "Type": "Text"
         },
         {
          "Cell": 0,
          "Landline": 66,
          "Mail": 0,
          "Method": "Landline/Online",
          "Online": 34,
          "Percent": 0,
          "Pollster": "Emerson College",
          "Text": 0,
          "Type": "Text"
         },
         {
          "Cell": 22,
          "Landline": 42,
          "Mail": 0,
          "Method": "Cell/Land/Text",
          "Online": 0,
          "Percent": 37,
          "Pollster": "Firehouse Strategies/Øptimus",
          "Text": 37,
          "Type": "Text"
         },
         {
          "Cell": 0,
          "Landline": 62,
          "Mail": 0,
          "Method": "Landline/Online",
          "Online": 38,
          "Percent": 0,
          "Pollster": "Florida Atlantic University",
          "Text": 0,
          "Type": "Text"
         },
         {
          "Cell": 76,
          "Landline": 24,
          "Mail": 0,
          "Method": "Cell/Landline",
          "Online": 0,
          "Percent": 0,
          "Pollster": "Fox News",
          "Text": 0,
          "Type": "Text"
         },
         {
          "Cell": 0,
          "Landline": 0,
          "Mail": 100,
          "Method": "Mail",
          "Online": 0,
          "Percent": 0,
          "Pollster": "Franklin & Marshall College",
          "Text": 0,
          "Type": "Text"
         },
         {
          "Cell": 50,
          "Landline": 50,
          "Mail": 0,
          "Method": "Cell/Landline",
          "Online": 0,
          "Percent": 0,
          "Pollster": "GBAO",
          "Text": 0,
          "Type": "Text"
         },
         {
          "Cell": 50,
          "Landline": 50,
          "Mail": 0,
          "Method": "Cell/Landline",
          "Online": 0,
          "Percent": 0,
          "Pollster": "GQR Research",
          "Text": 0,
          "Type": "Text"
         },
         {
          "Cell": 81,
          "Landline": 19,
          "Mail": 0,
          "Method": "Cell/Landline",
          "Online": 0,
          "Percent": 0,
          "Pollster": "Goucher College",
          "Text": 0,
          "Type": "Text"
         },
         {
          "Cell": 33,
          "Landline": 33,
          "Mail": 0,
          "Method": "Cell/Land/Online",
          "Online": 33,
          "Percent": 0,
          "Pollster": "Gravis Marketing",
          "Text": 0,
          "Type": "Text"
         },
         {
          "Cell": 0,
          "Landline": 0,
          "Mail": 100,
          "Method": "Mail",
          "Online": 0,
          "Percent": 0,
          "Pollster": "Hampton University",
          "Text": 0,
          "Type": "Text"
         },
         {
          "Cell": 0,
          "Landline": 0,
          "Mail": 0,
          "Method": "Online",
          "Online": 100,
          "Percent": 0,
          "Pollster": "Harris Poll",
          "Text": 0,
          "Type": "Text"
         },
         {
          "Cell": 0,
          "Landline": 0,
          "Mail": 0,
          "Method": "Online",
          "Online": 100,
          "Percent": 0,
          "Pollster": "HarrisX",
          "Text": 0,
          "Type": "Text"
         },
         {
          "Cell": 11,
          "Landline": 11,
          "Mail": 0,
          "Method": "Cell/Land/Online",
          "Online": 78,
          "Percent": 0,
          "Pollster": "High Point University",
          "Text": 0,
          "Type": "Text"
         },
         {
          "Cell": 77,
          "Landline": 23,
          "Mail": 0,
          "Method": "Cell/Landline",
          "Online": 0,
          "Percent": 0,
          "Pollster": "IBD/TIPP",
          "Text": 0,
          "Type": "Text"
         },
         {
          "Cell": 33,
          "Landline": 33,
          "Mail": 0,
          "Method": "Landline/Online",
          "Online": 33,
          "Percent": 0,
          "Pollster": "Landmark Communications",
          "Text": 0,
          "Type": "Text"
         },
         {
          "Cell": 62,
          "Landline": 38,
          "Mail": 0,
          "Method": "Cell/Landline",
          "Online": 0,
          "Percent": 0,
          "Pollster": "Marquette Law School",
          "Text": 0,
          "Type": "Text"
         },
         {
          "Cell": 0,
          "Landline": 0,
          "Mail": 0,
          "Method": "Online",
          "Online": 100,
          "Percent": 0,
          "Pollster": "McLaughlin & Associates",
          "Text": 0,
          "Type": "Text"
         },
         {
          "Cell": 56,
          "Landline": 44,
          "Mail": 0,
          "Method": "Cell/Landline",
          "Online": 0,
          "Percent": 0,
          "Pollster": "Monmouth University",
          "Text": 0,
          "Type": "Text"
         },
         {
          "Cell": 0,
          "Landline": 0,
          "Mail": 0,
          "Method": "Online",
          "Online": 100,
          "Percent": 0,
          "Pollster": "Morning Consult",
          "Text": 0,
          "Type": "Text"
         },
         {
          "Cell": 61,
          "Landline": 39,
          "Mail": 0,
          "Method": "Cell/Landline",
          "Online": 0,
          "Percent": 0,
          "Pollster": "Muhlenberg College",
          "Text": 0,
          "Type": "Text"
         },
         {
          "Cell": 56,
          "Landline": 44,
          "Mail": 0,
          "Method": "Cell/Landline",
          "Online": 0,
          "Percent": 0,
          "Pollster": "NBC News/Wall Street Journal",
          "Text": 0,
          "Type": "Text"
         },
         {
          "Cell": 0,
          "Landline": 0,
          "Mail": 0,
          "Method": "Online",
          "Online": 100,
          "Percent": 0,
          "Pollster": "Pew Research Center",
          "Text": 0,
          "Type": "Text"
         },
         {
          "Cell": 70,
          "Landline": 30,
          "Mail": 0,
          "Method": "Cell/Landline",
          "Online": 0,
          "Percent": 0,
          "Pollster": "Public Policy Institute of California",
          "Text": 0,
          "Type": "Text"
         },
         {
          "Cell": 50,
          "Landline": 0,
          "Mail": 0,
          "Method": "Cell/Online",
          "Online": 50,
          "Percent": 0,
          "Pollster": "Public Policy Polling",
          "Text": 0,
          "Type": "Text"
         },
         {
          "Cell": 50,
          "Landline": 50,
          "Mail": 0,
          "Method": "Cell/Landline",
          "Online": 0,
          "Percent": 0,
          "Pollster": "Quinnipiac University",
          "Text": 0,
          "Type": "Text"
         },
         {
          "Cell": 80,
          "Landline": 20,
          "Mail": 0,
          "Method": "Cell/Landline",
          "Online": 0,
          "Percent": 0,
          "Pollster": "RKM Research and Communications Inc.",
          "Text": 0,
          "Type": "Text"
         },
         {
          "Cell": 65,
          "Landline": 35,
          "Mail": 0,
          "Method": "Cell/Landline",
          "Online": 0,
          "Percent": 0,
          "Pollster": "Ragnar Research Partners",
          "Text": 0,
          "Type": "Text"
         },
         {
          "Cell": 20,
          "Landline": 80,
          "Mail": 0,
          "Method": "Cell/Landline",
          "Online": 0,
          "Percent": 0,
          "Pollster": "Remington Research Group",
          "Text": 0,
          "Type": "Text"
         },
         {
          "Cell": 71,
          "Landline": 29,
          "Mail": 0,
          "Method": "Cell/Landline",
          "Online": 0,
          "Percent": 0,
          "Pollster": "Research America Inc.",
          "Text": 0,
          "Type": "Text"
         },
         {
          "Cell": 0,
          "Landline": 0,
          "Mail": 0,
          "Method": "Online",
          "Online": 100,
          "Percent": 0,
          "Pollster": "Reuters/Ipsos",
          "Text": 0,
          "Type": "Text"
         },
         {
          "Cell": 50,
          "Landline": 50,
          "Mail": 0,
          "Method": "Cell/Landline",
          "Online": 0,
          "Percent": 0,
          "Pollster": "Saint Anselm College",
          "Text": 0,
          "Type": "Text"
         },
         {
          "Cell": 50,
          "Landline": 50,
          "Mail": 0,
          "Method": "Cell/Landline",
          "Online": 0,
          "Percent": 0,
          "Pollster": "Show Me Victories",
          "Text": 0,
          "Type": "Text"
         },
         {
          "Cell": 50,
          "Landline": 50,
          "Mail": 0,
          "Method": "Cell/Landline",
          "Online": 0,
          "Percent": 0,
          "Pollster": "Siena College",
          "Text": 0,
          "Type": "Text"
         },
         {
          "Cell": 43,
          "Landline": 57,
          "Mail": 0,
          "Method": "Cell/Landline",
          "Online": 0,
          "Percent": 0,
          "Pollster": "SoonerPoll",
          "Text": 0,
          "Type": "Text"
         },
         {
          "Cell": 0,
          "Landline": 100,
          "Mail": 0,
          "Method": "Landline",
          "Online": 0,
          "Percent": 0,
          "Pollster": "St. Pete Polls",
          "Text": 0,
          "Type": "Text"
         },
         {
          "Cell": 85,
          "Landline": 15,
          "Mail": 0,
          "Method": "Cell/Landline",
          "Online": 0,
          "Percent": 0,
          "Pollster": "Suffolk University/USA Today",
          "Text": 0,
          "Type": "Text"
         },
         {
          "Cell": 0,
          "Landline": 0,
          "Mail": 0,
          "Method": "Online",
          "Online": 100,
          "Percent": 0,
          "Pollster": "SurveyMonkey",
          "Text": 0,
          "Type": "Text"
         },
         {
          "Cell": 0,
          "Landline": 0,
          "Mail": 0,
          "Method": "Online",
          "Online": 100,
          "Percent": 0,
          "Pollster": "SurveyUSA",
          "Text": 0,
          "Type": "Text"
         },
         {
          "Cell": 50,
          "Landline": 50,
          "Mail": 0,
          "Method": "Cell/Landline",
          "Online": 0,
          "Percent": 0,
          "Pollster": "TargetPoint/GQR Research",
          "Text": 0,
          "Type": "Text"
         },
         {
          "Cell": 46,
          "Landline": 54,
          "Mail": 0,
          "Method": "Cell/Landline",
          "Online": 0,
          "Percent": 0,
          "Pollster": "Tel Opinion Research",
          "Text": 0,
          "Type": "Text"
         },
         {
          "Cell": 75,
          "Landline": 0,
          "Mail": 0,
          "Method": "Cell/Online",
          "Online": 25,
          "Percent": 0,
          "Pollster": "Texas Lyceum",
          "Text": 0,
          "Type": "Text"
         },
         {
          "Cell": 0,
          "Landline": 0,
          "Mail": 0,
          "Method": "Online",
          "Online": 100,
          "Percent": 0,
          "Pollster": "UC Berkeley",
          "Text": 0,
          "Type": "Text"
         },
         {
          "Cell": 0,
          "Landline": 0,
          "Mail": 100,
          "Method": "Mail",
          "Online": 0,
          "Percent": 0,
          "Pollster": "USC Dornsife/LA Times",
          "Text": 0,
          "Type": "Text"
         },
         {
          "Cell": 81,
          "Landline": 19,
          "Mail": 0,
          "Method": "Cell/Landline",
          "Online": 0,
          "Percent": 0,
          "Pollster": "University of New Hampshire",
          "Text": 0,
          "Type": "Text"
         },
         {
          "Cell": 0,
          "Landline": 0,
          "Mail": 0,
          "Method": "Online",
          "Online": 100,
          "Percent": 0,
          "Pollster": "University of Texas at Tyler",
          "Text": 0,
          "Type": "Text"
         },
         {
          "Cell": 0,
          "Landline": 0,
          "Mail": 100,
          "Method": "Mail",
          "Online": 0,
          "Percent": 0,
          "Pollster": "Univision/University of Houston/Latino Decisions/North Star Opinion Research",
          "Text": 0,
          "Type": "Text"
         },
         {
          "Cell": 58,
          "Landline": 42,
          "Mail": 0,
          "Method": "Cell/Landline",
          "Online": 0,
          "Percent": 0,
          "Pollster": "Victory Research",
          "Text": 0,
          "Type": "Text"
         },
         {
          "Cell": 0,
          "Landline": 0,
          "Mail": 100,
          "Method": "Mail",
          "Online": 0,
          "Percent": 0,
          "Pollster": "WPA Intelligence",
          "Text": 0,
          "Type": "Text"
         },
         {
          "Cell": 0,
          "Landline": 0,
          "Mail": 0,
          "Method": "Mail",
          "Online": 100,
          "Percent": 0,
          "Pollster": "We Ask America",
          "Text": 0,
          "Type": "Text"
         },
         {
          "Cell": 73,
          "Landline": 27,
          "Mail": 0,
          "Method": "Cell/Landline",
          "Online": 0,
          "Percent": 0,
          "Pollster": "Winthrop University",
          "Text": 0,
          "Type": "Text"
         },
         {
          "Cell": 0,
          "Landline": 0,
          "Mail": 0,
          "Method": "Online",
          "Online": 100,
          "Percent": 0,
          "Pollster": "YouGov",
          "Text": 0,
          "Type": "Text"
         },
         {
          "Cell": 0,
          "Landline": 0,
          "Mail": 0,
          "Method": "Online",
          "Online": 100,
          "Percent": 0,
          "Pollster": "YouGov Blue/Data for Progress",
          "Text": 0,
          "Type": "Text"
         },
         {
          "Cell": 0,
          "Landline": 0,
          "Mail": 0,
          "Method": "Online",
          "Online": 100,
          "Percent": 0,
          "Pollster": "Zogby Analytics",
          "Text": 0,
          "Type": "Text"
         },
         {
          "Cell": 65,
          "Landline": 35,
          "Mail": 0,
          "Method": "Cell/Landline",
          "Online": 0,
          "Percent": 0,
          "Pollster": "ABC News/Washington Post",
          "Text": 0,
          "Type": "Online"
         },
         {
          "Cell": 0,
          "Landline": 0,
          "Mail": 0,
          "Method": "Online",
          "Online": 100,
          "Percent": 100,
          "Pollster": "Avalanche Strategy",
          "Text": 0,
          "Type": "Online"
         },
         {
          "Cell": 50,
          "Landline": 50,
          "Mail": 0,
          "Method": "Cell/Landline",
          "Online": 0,
          "Percent": 0,
          "Pollster": "Bendixen & Amandi International",
          "Text": 0,
          "Type": "Online"
         },
         {
          "Cell": 50,
          "Landline": 50,
          "Mail": 0,
          "Method": "Cell/Landline",
          "Online": 0,
          "Percent": 0,
          "Pollster": "Benenson Strategy Group",
          "Text": 0,
          "Type": "Online"
         },
         {
          "Cell": 50,
          "Landline": 50,
          "Mail": 0,
          "Method": "Cell/Landline",
          "Online": 0,
          "Percent": 0,
          "Pollster": "Bold Blue Campaigns",
          "Text": 0,
          "Type": "Online"
         },
         {
          "Cell": 50,
          "Landline": 50,
          "Mail": 0,
          "Method": "Cell/Landline",
          "Online": 0,
          "Percent": 0,
          "Pollster": "CNN/Des Moines Register (Selzer & Co.)",
          "Text": 0,
          "Type": "Online"
         },
         {
          "Cell": 64,
          "Landline": 36,
          "Mail": 0,
          "Method": "Cell/Landline",
          "Online": 0,
          "Percent": 0,
          "Pollster": "CNN/SSRS",
          "Text": 0,
          "Type": "Online"
         },
         {
          "Cell": 0,
          "Landline": 0,
          "Mail": 0,
          "Method": "Online",
          "Online": 100,
          "Percent": 100,
          "Pollster": "Capitol Weekly",
          "Text": 0,
          "Type": "Online"
         },
         {
          "Cell": 0,
          "Landline": 0,
          "Mail": 0,
          "Method": "Online",
          "Online": 100,
          "Percent": 100,
          "Pollster": "Change Research",
          "Text": 0,
          "Type": "Online"
         },
         {
          "Cell": 0,
          "Landline": 49,
          "Mail": 0,
          "Method": "Landline/Text",
          "Online": 0,
          "Percent": 0,
          "Pollster": "Chism Strategies",
          "Text": 51,
          "Type": "Online"
         },
         {
          "Cell": 0,
          "Landline": 0,
          "Mail": 0,
          "Method": "Online",
          "Online": 100,
          "Percent": 100,
          "Pollster": "Civiqs",
          "Text": 0,
          "Type": "Online"
         },
         {
          "Cell": 0,
          "Landline": 0,
          "Mail": 0,
          "Method": "Online",
          "Online": 100,
          "Percent": 100,
          "Pollster": "Claster Consulting",
          "Text": 0,
          "Type": "Online"
         },
         {
          "Cell": 0,
          "Landline": 0,
          "Mail": 0,
          "Method": "Online",
          "Online": 100,
          "Percent": 100,
          "Pollster": "Climate Nexus",
          "Text": 0,
          "Type": "Online"
         },
         {
          "Cell": 0,
          "Landline": 0,
          "Mail": 0,
          "Method": "Online",
          "Online": 100,
          "Percent": 100,
          "Pollster": "Crantford Research",
          "Text": 0,
          "Type": "Online"
         },
         {
          "Cell": 0,
          "Landline": 0,
          "Mail": 0,
          "Method": "Online",
          "Online": 100,
          "Percent": 100,
          "Pollster": "D-CYFOR",
          "Text": 0,
          "Type": "Online"
         },
         {
          "Cell": 50,
          "Landline": 50,
          "Mail": 0,
          "Method": "Cell/Landline",
          "Online": 0,
          "Percent": 0,
          "Pollster": "David Binder Research",
          "Text": 0,
          "Type": "Online"
         },
         {
          "Cell": 35,
          "Landline": 65,
          "Mail": 0,
          "Method": "Cell/Landline",
          "Online": 0,
          "Percent": 0,
          "Pollster": "Denno Research",
          "Text": 0,
          "Type": "Online"
         },
         {
          "Cell": 0,
          "Landline": 0,
          "Mail": 0,
          "Method": "Online",
          "Online": 100,
          "Percent": 100,
          "Pollster": "Echelon Insights",
          "Text": 0,
          "Type": "Online"
         },
         {
          "Cell": 0,
          "Landline": 66,
          "Mail": 0,
          "Method": "Landline/Online",
          "Online": 34,
          "Percent": 34,
          "Pollster": "Emerson College",
          "Text": 0,
          "Type": "Online"
         },
         {
          "Cell": 22,
          "Landline": 42,
          "Mail": 0,
          "Method": "Cell/Land/Text",
          "Online": 0,
          "Percent": 0,
          "Pollster": "Firehouse Strategies/Øptimus",
          "Text": 37,
          "Type": "Online"
         },
         {
          "Cell": 0,
          "Landline": 62,
          "Mail": 0,
          "Method": "Landline/Online",
          "Online": 38,
          "Percent": 38,
          "Pollster": "Florida Atlantic University",
          "Text": 0,
          "Type": "Online"
         },
         {
          "Cell": 76,
          "Landline": 24,
          "Mail": 0,
          "Method": "Cell/Landline",
          "Online": 0,
          "Percent": 0,
          "Pollster": "Fox News",
          "Text": 0,
          "Type": "Online"
         },
         {
          "Cell": 0,
          "Landline": 0,
          "Mail": 100,
          "Method": "Mail",
          "Online": 0,
          "Percent": 0,
          "Pollster": "Franklin & Marshall College",
          "Text": 0,
          "Type": "Online"
         },
         {
          "Cell": 50,
          "Landline": 50,
          "Mail": 0,
          "Method": "Cell/Landline",
          "Online": 0,
          "Percent": 0,
          "Pollster": "GBAO",
          "Text": 0,
          "Type": "Online"
         },
         {
          "Cell": 50,
          "Landline": 50,
          "Mail": 0,
          "Method": "Cell/Landline",
          "Online": 0,
          "Percent": 0,
          "Pollster": "GQR Research",
          "Text": 0,
          "Type": "Online"
         },
         {
          "Cell": 81,
          "Landline": 19,
          "Mail": 0,
          "Method": "Cell/Landline",
          "Online": 0,
          "Percent": 0,
          "Pollster": "Goucher College",
          "Text": 0,
          "Type": "Online"
         },
         {
          "Cell": 33,
          "Landline": 33,
          "Mail": 0,
          "Method": "Cell/Land/Online",
          "Online": 33,
          "Percent": 33,
          "Pollster": "Gravis Marketing",
          "Text": 0,
          "Type": "Online"
         },
         {
          "Cell": 0,
          "Landline": 0,
          "Mail": 100,
          "Method": "Mail",
          "Online": 0,
          "Percent": 0,
          "Pollster": "Hampton University",
          "Text": 0,
          "Type": "Online"
         },
         {
          "Cell": 0,
          "Landline": 0,
          "Mail": 0,
          "Method": "Online",
          "Online": 100,
          "Percent": 100,
          "Pollster": "Harris Poll",
          "Text": 0,
          "Type": "Online"
         },
         {
          "Cell": 0,
          "Landline": 0,
          "Mail": 0,
          "Method": "Online",
          "Online": 100,
          "Percent": 100,
          "Pollster": "HarrisX",
          "Text": 0,
          "Type": "Online"
         },
         {
          "Cell": 11,
          "Landline": 11,
          "Mail": 0,
          "Method": "Cell/Land/Online",
          "Online": 78,
          "Percent": 78,
          "Pollster": "High Point University",
          "Text": 0,
          "Type": "Online"
         },
         {
          "Cell": 77,
          "Landline": 23,
          "Mail": 0,
          "Method": "Cell/Landline",
          "Online": 0,
          "Percent": 0,
          "Pollster": "IBD/TIPP",
          "Text": 0,
          "Type": "Online"
         },
         {
          "Cell": 33,
          "Landline": 33,
          "Mail": 0,
          "Method": "Landline/Online",
          "Online": 33,
          "Percent": 33,
          "Pollster": "Landmark Communications",
          "Text": 0,
          "Type": "Online"
         },
         {
          "Cell": 62,
          "Landline": 38,
          "Mail": 0,
          "Method": "Cell/Landline",
          "Online": 0,
          "Percent": 0,
          "Pollster": "Marquette Law School",
          "Text": 0,
          "Type": "Online"
         },
         {
          "Cell": 0,
          "Landline": 0,
          "Mail": 0,
          "Method": "Online",
          "Online": 100,
          "Percent": 100,
          "Pollster": "McLaughlin & Associates",
          "Text": 0,
          "Type": "Online"
         },
         {
          "Cell": 56,
          "Landline": 44,
          "Mail": 0,
          "Method": "Cell/Landline",
          "Online": 0,
          "Percent": 0,
          "Pollster": "Monmouth University",
          "Text": 0,
          "Type": "Online"
         },
         {
          "Cell": 0,
          "Landline": 0,
          "Mail": 0,
          "Method": "Online",
          "Online": 100,
          "Percent": 100,
          "Pollster": "Morning Consult",
          "Text": 0,
          "Type": "Online"
         },
         {
          "Cell": 61,
          "Landline": 39,
          "Mail": 0,
          "Method": "Cell/Landline",
          "Online": 0,
          "Percent": 0,
          "Pollster": "Muhlenberg College",
          "Text": 0,
          "Type": "Online"
         },
         {
          "Cell": 56,
          "Landline": 44,
          "Mail": 0,
          "Method": "Cell/Landline",
          "Online": 0,
          "Percent": 0,
          "Pollster": "NBC News/Wall Street Journal",
          "Text": 0,
          "Type": "Online"
         },
         {
          "Cell": 0,
          "Landline": 0,
          "Mail": 0,
          "Method": "Online",
          "Online": 100,
          "Percent": 100,
          "Pollster": "Pew Research Center",
          "Text": 0,
          "Type": "Online"
         },
         {
          "Cell": 70,
          "Landline": 30,
          "Mail": 0,
          "Method": "Cell/Landline",
          "Online": 0,
          "Percent": 0,
          "Pollster": "Public Policy Institute of California",
          "Text": 0,
          "Type": "Online"
         },
         {
          "Cell": 50,
          "Landline": 0,
          "Mail": 0,
          "Method": "Cell/Online",
          "Online": 50,
          "Percent": 50,
          "Pollster": "Public Policy Polling",
          "Text": 0,
          "Type": "Online"
         },
         {
          "Cell": 50,
          "Landline": 50,
          "Mail": 0,
          "Method": "Cell/Landline",
          "Online": 0,
          "Percent": 0,
          "Pollster": "Quinnipiac University",
          "Text": 0,
          "Type": "Online"
         },
         {
          "Cell": 80,
          "Landline": 20,
          "Mail": 0,
          "Method": "Cell/Landline",
          "Online": 0,
          "Percent": 0,
          "Pollster": "RKM Research and Communications Inc.",
          "Text": 0,
          "Type": "Online"
         },
         {
          "Cell": 65,
          "Landline": 35,
          "Mail": 0,
          "Method": "Cell/Landline",
          "Online": 0,
          "Percent": 0,
          "Pollster": "Ragnar Research Partners",
          "Text": 0,
          "Type": "Online"
         },
         {
          "Cell": 20,
          "Landline": 80,
          "Mail": 0,
          "Method": "Cell/Landline",
          "Online": 0,
          "Percent": 0,
          "Pollster": "Remington Research Group",
          "Text": 0,
          "Type": "Online"
         },
         {
          "Cell": 71,
          "Landline": 29,
          "Mail": 0,
          "Method": "Cell/Landline",
          "Online": 0,
          "Percent": 0,
          "Pollster": "Research America Inc.",
          "Text": 0,
          "Type": "Online"
         },
         {
          "Cell": 0,
          "Landline": 0,
          "Mail": 0,
          "Method": "Online",
          "Online": 100,
          "Percent": 100,
          "Pollster": "Reuters/Ipsos",
          "Text": 0,
          "Type": "Online"
         },
         {
          "Cell": 50,
          "Landline": 50,
          "Mail": 0,
          "Method": "Cell/Landline",
          "Online": 0,
          "Percent": 0,
          "Pollster": "Saint Anselm College",
          "Text": 0,
          "Type": "Online"
         },
         {
          "Cell": 50,
          "Landline": 50,
          "Mail": 0,
          "Method": "Cell/Landline",
          "Online": 0,
          "Percent": 0,
          "Pollster": "Show Me Victories",
          "Text": 0,
          "Type": "Online"
         },
         {
          "Cell": 50,
          "Landline": 50,
          "Mail": 0,
          "Method": "Cell/Landline",
          "Online": 0,
          "Percent": 0,
          "Pollster": "Siena College",
          "Text": 0,
          "Type": "Online"
         },
         {
          "Cell": 43,
          "Landline": 57,
          "Mail": 0,
          "Method": "Cell/Landline",
          "Online": 0,
          "Percent": 0,
          "Pollster": "SoonerPoll",
          "Text": 0,
          "Type": "Online"
         },
         {
          "Cell": 0,
          "Landline": 100,
          "Mail": 0,
          "Method": "Landline",
          "Online": 0,
          "Percent": 0,
          "Pollster": "St. Pete Polls",
          "Text": 0,
          "Type": "Online"
         },
         {
          "Cell": 85,
          "Landline": 15,
          "Mail": 0,
          "Method": "Cell/Landline",
          "Online": 0,
          "Percent": 0,
          "Pollster": "Suffolk University/USA Today",
          "Text": 0,
          "Type": "Online"
         },
         {
          "Cell": 0,
          "Landline": 0,
          "Mail": 0,
          "Method": "Online",
          "Online": 100,
          "Percent": 100,
          "Pollster": "SurveyMonkey",
          "Text": 0,
          "Type": "Online"
         },
         {
          "Cell": 0,
          "Landline": 0,
          "Mail": 0,
          "Method": "Online",
          "Online": 100,
          "Percent": 100,
          "Pollster": "SurveyUSA",
          "Text": 0,
          "Type": "Online"
         },
         {
          "Cell": 50,
          "Landline": 50,
          "Mail": 0,
          "Method": "Cell/Landline",
          "Online": 0,
          "Percent": 0,
          "Pollster": "TargetPoint/GQR Research",
          "Text": 0,
          "Type": "Online"
         },
         {
          "Cell": 46,
          "Landline": 54,
          "Mail": 0,
          "Method": "Cell/Landline",
          "Online": 0,
          "Percent": 0,
          "Pollster": "Tel Opinion Research",
          "Text": 0,
          "Type": "Online"
         },
         {
          "Cell": 75,
          "Landline": 0,
          "Mail": 0,
          "Method": "Cell/Online",
          "Online": 25,
          "Percent": 25,
          "Pollster": "Texas Lyceum",
          "Text": 0,
          "Type": "Online"
         },
         {
          "Cell": 0,
          "Landline": 0,
          "Mail": 0,
          "Method": "Online",
          "Online": 100,
          "Percent": 100,
          "Pollster": "UC Berkeley",
          "Text": 0,
          "Type": "Online"
         },
         {
          "Cell": 0,
          "Landline": 0,
          "Mail": 100,
          "Method": "Mail",
          "Online": 0,
          "Percent": 0,
          "Pollster": "USC Dornsife/LA Times",
          "Text": 0,
          "Type": "Online"
         },
         {
          "Cell": 81,
          "Landline": 19,
          "Mail": 0,
          "Method": "Cell/Landline",
          "Online": 0,
          "Percent": 0,
          "Pollster": "University of New Hampshire",
          "Text": 0,
          "Type": "Online"
         },
         {
          "Cell": 0,
          "Landline": 0,
          "Mail": 0,
          "Method": "Online",
          "Online": 100,
          "Percent": 100,
          "Pollster": "University of Texas at Tyler",
          "Text": 0,
          "Type": "Online"
         },
         {
          "Cell": 0,
          "Landline": 0,
          "Mail": 100,
          "Method": "Mail",
          "Online": 0,
          "Percent": 0,
          "Pollster": "Univision/University of Houston/Latino Decisions/North Star Opinion Research",
          "Text": 0,
          "Type": "Online"
         },
         {
          "Cell": 58,
          "Landline": 42,
          "Mail": 0,
          "Method": "Cell/Landline",
          "Online": 0,
          "Percent": 0,
          "Pollster": "Victory Research",
          "Text": 0,
          "Type": "Online"
         },
         {
          "Cell": 0,
          "Landline": 0,
          "Mail": 100,
          "Method": "Mail",
          "Online": 0,
          "Percent": 0,
          "Pollster": "WPA Intelligence",
          "Text": 0,
          "Type": "Online"
         },
         {
          "Cell": 0,
          "Landline": 0,
          "Mail": 0,
          "Method": "Mail",
          "Online": 100,
          "Percent": 100,
          "Pollster": "We Ask America",
          "Text": 0,
          "Type": "Online"
         },
         {
          "Cell": 73,
          "Landline": 27,
          "Mail": 0,
          "Method": "Cell/Landline",
          "Online": 0,
          "Percent": 0,
          "Pollster": "Winthrop University",
          "Text": 0,
          "Type": "Online"
         },
         {
          "Cell": 0,
          "Landline": 0,
          "Mail": 0,
          "Method": "Online",
          "Online": 100,
          "Percent": 100,
          "Pollster": "YouGov",
          "Text": 0,
          "Type": "Online"
         },
         {
          "Cell": 0,
          "Landline": 0,
          "Mail": 0,
          "Method": "Online",
          "Online": 100,
          "Percent": 100,
          "Pollster": "YouGov Blue/Data for Progress",
          "Text": 0,
          "Type": "Online"
         },
         {
          "Cell": 0,
          "Landline": 0,
          "Mail": 0,
          "Method": "Online",
          "Online": 100,
          "Percent": 100,
          "Pollster": "Zogby Analytics",
          "Text": 0,
          "Type": "Online"
         },
         {
          "Cell": 65,
          "Landline": 35,
          "Mail": 0,
          "Method": "Cell/Landline",
          "Online": 0,
          "Percent": 0,
          "Pollster": "ABC News/Washington Post",
          "Text": 0,
          "Type": "Mail"
         },
         {
          "Cell": 0,
          "Landline": 0,
          "Mail": 0,
          "Method": "Online",
          "Online": 100,
          "Percent": 0,
          "Pollster": "Avalanche Strategy",
          "Text": 0,
          "Type": "Mail"
         },
         {
          "Cell": 50,
          "Landline": 50,
          "Mail": 0,
          "Method": "Cell/Landline",
          "Online": 0,
          "Percent": 0,
          "Pollster": "Bendixen & Amandi International",
          "Text": 0,
          "Type": "Mail"
         },
         {
          "Cell": 50,
          "Landline": 50,
          "Mail": 0,
          "Method": "Cell/Landline",
          "Online": 0,
          "Percent": 0,
          "Pollster": "Benenson Strategy Group",
          "Text": 0,
          "Type": "Mail"
         },
         {
          "Cell": 50,
          "Landline": 50,
          "Mail": 0,
          "Method": "Cell/Landline",
          "Online": 0,
          "Percent": 0,
          "Pollster": "Bold Blue Campaigns",
          "Text": 0,
          "Type": "Mail"
         },
         {
          "Cell": 50,
          "Landline": 50,
          "Mail": 0,
          "Method": "Cell/Landline",
          "Online": 0,
          "Percent": 0,
          "Pollster": "CNN/Des Moines Register (Selzer & Co.)",
          "Text": 0,
          "Type": "Mail"
         },
         {
          "Cell": 64,
          "Landline": 36,
          "Mail": 0,
          "Method": "Cell/Landline",
          "Online": 0,
          "Percent": 0,
          "Pollster": "CNN/SSRS",
          "Text": 0,
          "Type": "Mail"
         },
         {
          "Cell": 0,
          "Landline": 0,
          "Mail": 0,
          "Method": "Online",
          "Online": 100,
          "Percent": 0,
          "Pollster": "Capitol Weekly",
          "Text": 0,
          "Type": "Mail"
         },
         {
          "Cell": 0,
          "Landline": 0,
          "Mail": 0,
          "Method": "Online",
          "Online": 100,
          "Percent": 0,
          "Pollster": "Change Research",
          "Text": 0,
          "Type": "Mail"
         },
         {
          "Cell": 0,
          "Landline": 49,
          "Mail": 0,
          "Method": "Landline/Text",
          "Online": 0,
          "Percent": 0,
          "Pollster": "Chism Strategies",
          "Text": 51,
          "Type": "Mail"
         },
         {
          "Cell": 0,
          "Landline": 0,
          "Mail": 0,
          "Method": "Online",
          "Online": 100,
          "Percent": 0,
          "Pollster": "Civiqs",
          "Text": 0,
          "Type": "Mail"
         },
         {
          "Cell": 0,
          "Landline": 0,
          "Mail": 0,
          "Method": "Online",
          "Online": 100,
          "Percent": 0,
          "Pollster": "Claster Consulting",
          "Text": 0,
          "Type": "Mail"
         },
         {
          "Cell": 0,
          "Landline": 0,
          "Mail": 0,
          "Method": "Online",
          "Online": 100,
          "Percent": 0,
          "Pollster": "Climate Nexus",
          "Text": 0,
          "Type": "Mail"
         },
         {
          "Cell": 0,
          "Landline": 0,
          "Mail": 0,
          "Method": "Online",
          "Online": 100,
          "Percent": 0,
          "Pollster": "Crantford Research",
          "Text": 0,
          "Type": "Mail"
         },
         {
          "Cell": 0,
          "Landline": 0,
          "Mail": 0,
          "Method": "Online",
          "Online": 100,
          "Percent": 0,
          "Pollster": "D-CYFOR",
          "Text": 0,
          "Type": "Mail"
         },
         {
          "Cell": 50,
          "Landline": 50,
          "Mail": 0,
          "Method": "Cell/Landline",
          "Online": 0,
          "Percent": 0,
          "Pollster": "David Binder Research",
          "Text": 0,
          "Type": "Mail"
         },
         {
          "Cell": 35,
          "Landline": 65,
          "Mail": 0,
          "Method": "Cell/Landline",
          "Online": 0,
          "Percent": 0,
          "Pollster": "Denno Research",
          "Text": 0,
          "Type": "Mail"
         },
         {
          "Cell": 0,
          "Landline": 0,
          "Mail": 0,
          "Method": "Online",
          "Online": 100,
          "Percent": 0,
          "Pollster": "Echelon Insights",
          "Text": 0,
          "Type": "Mail"
         },
         {
          "Cell": 0,
          "Landline": 66,
          "Mail": 0,
          "Method": "Landline/Online",
          "Online": 34,
          "Percent": 0,
          "Pollster": "Emerson College",
          "Text": 0,
          "Type": "Mail"
         },
         {
          "Cell": 22,
          "Landline": 42,
          "Mail": 0,
          "Method": "Cell/Land/Text",
          "Online": 0,
          "Percent": 0,
          "Pollster": "Firehouse Strategies/Øptimus",
          "Text": 37,
          "Type": "Mail"
         },
         {
          "Cell": 0,
          "Landline": 62,
          "Mail": 0,
          "Method": "Landline/Online",
          "Online": 38,
          "Percent": 0,
          "Pollster": "Florida Atlantic University",
          "Text": 0,
          "Type": "Mail"
         },
         {
          "Cell": 76,
          "Landline": 24,
          "Mail": 0,
          "Method": "Cell/Landline",
          "Online": 0,
          "Percent": 0,
          "Pollster": "Fox News",
          "Text": 0,
          "Type": "Mail"
         },
         {
          "Cell": 0,
          "Landline": 0,
          "Mail": 100,
          "Method": "Mail",
          "Online": 0,
          "Percent": 100,
          "Pollster": "Franklin & Marshall College",
          "Text": 0,
          "Type": "Mail"
         },
         {
          "Cell": 50,
          "Landline": 50,
          "Mail": 0,
          "Method": "Cell/Landline",
          "Online": 0,
          "Percent": 0,
          "Pollster": "GBAO",
          "Text": 0,
          "Type": "Mail"
         },
         {
          "Cell": 50,
          "Landline": 50,
          "Mail": 0,
          "Method": "Cell/Landline",
          "Online": 0,
          "Percent": 0,
          "Pollster": "GQR Research",
          "Text": 0,
          "Type": "Mail"
         },
         {
          "Cell": 81,
          "Landline": 19,
          "Mail": 0,
          "Method": "Cell/Landline",
          "Online": 0,
          "Percent": 0,
          "Pollster": "Goucher College",
          "Text": 0,
          "Type": "Mail"
         },
         {
          "Cell": 33,
          "Landline": 33,
          "Mail": 0,
          "Method": "Cell/Land/Online",
          "Online": 33,
          "Percent": 0,
          "Pollster": "Gravis Marketing",
          "Text": 0,
          "Type": "Mail"
         },
         {
          "Cell": 0,
          "Landline": 0,
          "Mail": 100,
          "Method": "Mail",
          "Online": 0,
          "Percent": 100,
          "Pollster": "Hampton University",
          "Text": 0,
          "Type": "Mail"
         },
         {
          "Cell": 0,
          "Landline": 0,
          "Mail": 0,
          "Method": "Online",
          "Online": 100,
          "Percent": 0,
          "Pollster": "Harris Poll",
          "Text": 0,
          "Type": "Mail"
         },
         {
          "Cell": 0,
          "Landline": 0,
          "Mail": 0,
          "Method": "Online",
          "Online": 100,
          "Percent": 0,
          "Pollster": "HarrisX",
          "Text": 0,
          "Type": "Mail"
         },
         {
          "Cell": 11,
          "Landline": 11,
          "Mail": 0,
          "Method": "Cell/Land/Online",
          "Online": 78,
          "Percent": 0,
          "Pollster": "High Point University",
          "Text": 0,
          "Type": "Mail"
         },
         {
          "Cell": 77,
          "Landline": 23,
          "Mail": 0,
          "Method": "Cell/Landline",
          "Online": 0,
          "Percent": 0,
          "Pollster": "IBD/TIPP",
          "Text": 0,
          "Type": "Mail"
         },
         {
          "Cell": 33,
          "Landline": 33,
          "Mail": 0,
          "Method": "Landline/Online",
          "Online": 33,
          "Percent": 0,
          "Pollster": "Landmark Communications",
          "Text": 0,
          "Type": "Mail"
         },
         {
          "Cell": 62,
          "Landline": 38,
          "Mail": 0,
          "Method": "Cell/Landline",
          "Online": 0,
          "Percent": 0,
          "Pollster": "Marquette Law School",
          "Text": 0,
          "Type": "Mail"
         },
         {
          "Cell": 0,
          "Landline": 0,
          "Mail": 0,
          "Method": "Online",
          "Online": 100,
          "Percent": 0,
          "Pollster": "McLaughlin & Associates",
          "Text": 0,
          "Type": "Mail"
         },
         {
          "Cell": 56,
          "Landline": 44,
          "Mail": 0,
          "Method": "Cell/Landline",
          "Online": 0,
          "Percent": 0,
          "Pollster": "Monmouth University",
          "Text": 0,
          "Type": "Mail"
         },
         {
          "Cell": 0,
          "Landline": 0,
          "Mail": 0,
          "Method": "Online",
          "Online": 100,
          "Percent": 0,
          "Pollster": "Morning Consult",
          "Text": 0,
          "Type": "Mail"
         },
         {
          "Cell": 61,
          "Landline": 39,
          "Mail": 0,
          "Method": "Cell/Landline",
          "Online": 0,
          "Percent": 0,
          "Pollster": "Muhlenberg College",
          "Text": 0,
          "Type": "Mail"
         },
         {
          "Cell": 56,
          "Landline": 44,
          "Mail": 0,
          "Method": "Cell/Landline",
          "Online": 0,
          "Percent": 0,
          "Pollster": "NBC News/Wall Street Journal",
          "Text": 0,
          "Type": "Mail"
         },
         {
          "Cell": 0,
          "Landline": 0,
          "Mail": 0,
          "Method": "Online",
          "Online": 100,
          "Percent": 0,
          "Pollster": "Pew Research Center",
          "Text": 0,
          "Type": "Mail"
         },
         {
          "Cell": 70,
          "Landline": 30,
          "Mail": 0,
          "Method": "Cell/Landline",
          "Online": 0,
          "Percent": 0,
          "Pollster": "Public Policy Institute of California",
          "Text": 0,
          "Type": "Mail"
         },
         {
          "Cell": 50,
          "Landline": 0,
          "Mail": 0,
          "Method": "Cell/Online",
          "Online": 50,
          "Percent": 0,
          "Pollster": "Public Policy Polling",
          "Text": 0,
          "Type": "Mail"
         },
         {
          "Cell": 50,
          "Landline": 50,
          "Mail": 0,
          "Method": "Cell/Landline",
          "Online": 0,
          "Percent": 0,
          "Pollster": "Quinnipiac University",
          "Text": 0,
          "Type": "Mail"
         },
         {
          "Cell": 80,
          "Landline": 20,
          "Mail": 0,
          "Method": "Cell/Landline",
          "Online": 0,
          "Percent": 0,
          "Pollster": "RKM Research and Communications Inc.",
          "Text": 0,
          "Type": "Mail"
         },
         {
          "Cell": 65,
          "Landline": 35,
          "Mail": 0,
          "Method": "Cell/Landline",
          "Online": 0,
          "Percent": 0,
          "Pollster": "Ragnar Research Partners",
          "Text": 0,
          "Type": "Mail"
         },
         {
          "Cell": 20,
          "Landline": 80,
          "Mail": 0,
          "Method": "Cell/Landline",
          "Online": 0,
          "Percent": 0,
          "Pollster": "Remington Research Group",
          "Text": 0,
          "Type": "Mail"
         },
         {
          "Cell": 71,
          "Landline": 29,
          "Mail": 0,
          "Method": "Cell/Landline",
          "Online": 0,
          "Percent": 0,
          "Pollster": "Research America Inc.",
          "Text": 0,
          "Type": "Mail"
         },
         {
          "Cell": 0,
          "Landline": 0,
          "Mail": 0,
          "Method": "Online",
          "Online": 100,
          "Percent": 0,
          "Pollster": "Reuters/Ipsos",
          "Text": 0,
          "Type": "Mail"
         },
         {
          "Cell": 50,
          "Landline": 50,
          "Mail": 0,
          "Method": "Cell/Landline",
          "Online": 0,
          "Percent": 0,
          "Pollster": "Saint Anselm College",
          "Text": 0,
          "Type": "Mail"
         },
         {
          "Cell": 50,
          "Landline": 50,
          "Mail": 0,
          "Method": "Cell/Landline",
          "Online": 0,
          "Percent": 0,
          "Pollster": "Show Me Victories",
          "Text": 0,
          "Type": "Mail"
         },
         {
          "Cell": 50,
          "Landline": 50,
          "Mail": 0,
          "Method": "Cell/Landline",
          "Online": 0,
          "Percent": 0,
          "Pollster": "Siena College",
          "Text": 0,
          "Type": "Mail"
         },
         {
          "Cell": 43,
          "Landline": 57,
          "Mail": 0,
          "Method": "Cell/Landline",
          "Online": 0,
          "Percent": 0,
          "Pollster": "SoonerPoll",
          "Text": 0,
          "Type": "Mail"
         },
         {
          "Cell": 0,
          "Landline": 100,
          "Mail": 0,
          "Method": "Landline",
          "Online": 0,
          "Percent": 0,
          "Pollster": "St. Pete Polls",
          "Text": 0,
          "Type": "Mail"
         },
         {
          "Cell": 85,
          "Landline": 15,
          "Mail": 0,
          "Method": "Cell/Landline",
          "Online": 0,
          "Percent": 0,
          "Pollster": "Suffolk University/USA Today",
          "Text": 0,
          "Type": "Mail"
         },
         {
          "Cell": 0,
          "Landline": 0,
          "Mail": 0,
          "Method": "Online",
          "Online": 100,
          "Percent": 0,
          "Pollster": "SurveyMonkey",
          "Text": 0,
          "Type": "Mail"
         },
         {
          "Cell": 0,
          "Landline": 0,
          "Mail": 0,
          "Method": "Online",
          "Online": 100,
          "Percent": 0,
          "Pollster": "SurveyUSA",
          "Text": 0,
          "Type": "Mail"
         },
         {
          "Cell": 50,
          "Landline": 50,
          "Mail": 0,
          "Method": "Cell/Landline",
          "Online": 0,
          "Percent": 0,
          "Pollster": "TargetPoint/GQR Research",
          "Text": 0,
          "Type": "Mail"
         },
         {
          "Cell": 46,
          "Landline": 54,
          "Mail": 0,
          "Method": "Cell/Landline",
          "Online": 0,
          "Percent": 0,
          "Pollster": "Tel Opinion Research",
          "Text": 0,
          "Type": "Mail"
         },
         {
          "Cell": 75,
          "Landline": 0,
          "Mail": 0,
          "Method": "Cell/Online",
          "Online": 25,
          "Percent": 0,
          "Pollster": "Texas Lyceum",
          "Text": 0,
          "Type": "Mail"
         },
         {
          "Cell": 0,
          "Landline": 0,
          "Mail": 0,
          "Method": "Online",
          "Online": 100,
          "Percent": 0,
          "Pollster": "UC Berkeley",
          "Text": 0,
          "Type": "Mail"
         },
         {
          "Cell": 0,
          "Landline": 0,
          "Mail": 100,
          "Method": "Mail",
          "Online": 0,
          "Percent": 100,
          "Pollster": "USC Dornsife/LA Times",
          "Text": 0,
          "Type": "Mail"
         },
         {
          "Cell": 81,
          "Landline": 19,
          "Mail": 0,
          "Method": "Cell/Landline",
          "Online": 0,
          "Percent": 0,
          "Pollster": "University of New Hampshire",
          "Text": 0,
          "Type": "Mail"
         },
         {
          "Cell": 0,
          "Landline": 0,
          "Mail": 0,
          "Method": "Online",
          "Online": 100,
          "Percent": 0,
          "Pollster": "University of Texas at Tyler",
          "Text": 0,
          "Type": "Mail"
         },
         {
          "Cell": 0,
          "Landline": 0,
          "Mail": 100,
          "Method": "Mail",
          "Online": 0,
          "Percent": 100,
          "Pollster": "Univision/University of Houston/Latino Decisions/North Star Opinion Research",
          "Text": 0,
          "Type": "Mail"
         },
         {
          "Cell": 58,
          "Landline": 42,
          "Mail": 0,
          "Method": "Cell/Landline",
          "Online": 0,
          "Percent": 0,
          "Pollster": "Victory Research",
          "Text": 0,
          "Type": "Mail"
         },
         {
          "Cell": 0,
          "Landline": 0,
          "Mail": 100,
          "Method": "Mail",
          "Online": 0,
          "Percent": 100,
          "Pollster": "WPA Intelligence",
          "Text": 0,
          "Type": "Mail"
         },
         {
          "Cell": 0,
          "Landline": 0,
          "Mail": 0,
          "Method": "Mail",
          "Online": 100,
          "Percent": 0,
          "Pollster": "We Ask America",
          "Text": 0,
          "Type": "Mail"
         },
         {
          "Cell": 73,
          "Landline": 27,
          "Mail": 0,
          "Method": "Cell/Landline",
          "Online": 0,
          "Percent": 0,
          "Pollster": "Winthrop University",
          "Text": 0,
          "Type": "Mail"
         },
         {
          "Cell": 0,
          "Landline": 0,
          "Mail": 0,
          "Method": "Online",
          "Online": 100,
          "Percent": 0,
          "Pollster": "YouGov",
          "Text": 0,
          "Type": "Mail"
         },
         {
          "Cell": 0,
          "Landline": 0,
          "Mail": 0,
          "Method": "Online",
          "Online": 100,
          "Percent": 0,
          "Pollster": "YouGov Blue/Data for Progress",
          "Text": 0,
          "Type": "Mail"
         },
         {
          "Cell": 0,
          "Landline": 0,
          "Mail": 0,
          "Method": "Online",
          "Online": 100,
          "Percent": 0,
          "Pollster": "Zogby Analytics",
          "Text": 0,
          "Type": "Mail"
         }
        ]
       },
       "encoding": {
        "color": {
         "field": "Type",
         "scale": {
          "scheme": "tableau20"
         },
         "title": "Poll Method",
         "type": "nominal"
        },
        "tooltip": [
         {
          "field": "Pollster",
          "type": "nominal"
         },
         {
          "field": "Cell",
          "type": "quantitative"
         },
         {
          "field": "Landline",
          "type": "quantitative"
         },
         {
          "field": "Text",
          "type": "quantitative"
         },
         {
          "field": "Online",
          "type": "quantitative"
         },
         {
          "field": "Mail",
          "type": "quantitative"
         }
        ],
        "x": {
         "aggregate": "sum",
         "field": "Percent",
         "title": "Percentage of Data Collected via Different Poll Methods",
         "type": "quantitative"
        },
        "y": {
         "axis": null,
         "field": "Pollster",
         "type": "nominal"
        }
       },
       "height": 400,
       "mark": "bar",
       "title": "Pollster Data Collection Breakdown"
      },
      "image/png": "[encoded data removed]",
      "text/plain": [
       "<VegaLite 3 object>\n",
       "\n",
       "If you see this message, it means the renderer has not been properly enabled\n",
       "for the frontend that you are using. For more information, see\n",
       "https://altair-viz.github.io/user_guide/troubleshooting.html\n"
      ]
     },
     "execution_count": 43,
     "metadata": {},
     "output_type": "execute_result"
    }
   ],
   "source": [
    "# Y-axis containing pollster names were removed to focus attention on the relative frequency of each method (indicated by bar color)\n",
    "poll_methods = alt.Chart(alt_chart, title='Pollster Data Collection Breakdown').mark_bar().encode(\n",
    "x=alt.X('sum(Percent)', title='Percentage of Data Collected via Different Poll Methods'),\n",
    "y=alt.Y('Pollster', axis=None),\n",
    "color=alt.Color('Type', title='Poll Method', scale=alt.Scale(scheme='tableau20')),\n",
    "tooltip=['Pollster', 'Cell', 'Landline', 'Text', 'Online', 'Mail']).properties(background='white', height=400)\n",
    "poll_methods"
   ]
  },
  {
   "cell_type": "markdown",
   "metadata": {},
   "source": [
    "*Bars totalling more/less than 100% will be normalized in DataWrapper"
   ]
  },
  {
   "cell_type": "markdown",
   "metadata": {},
   "source": [
    "---"
   ]
  },
  {
   "cell_type": "markdown",
   "metadata": {},
   "source": [
    "## Polling Method Counts"
   ]
  },
  {
   "cell_type": "code",
   "execution_count": 44,
   "metadata": {},
   "outputs": [],
   "source": [
    "poll_types = []\n",
    "poll_counts = []\n",
    "for key in polls_dict:\n",
    "    poll_types.append(key)\n",
    "    poll_counts.append(len(polls_dict[key]))"
   ]
  },
  {
   "cell_type": "code",
   "execution_count": 45,
   "metadata": {},
   "outputs": [],
   "source": [
    "polls_df = pd.DataFrame({'Poll Type':poll_types, 'Poll Count':poll_counts}).sort_values('Poll Count', ascending=False)"
   ]
  },
  {
   "cell_type": "code",
   "execution_count": 46,
   "metadata": {},
   "outputs": [],
   "source": [
    "polls_df['Poll Type'] = polls_df['Poll Type'].apply(lambda x:x.replace('/', ' & '))"
   ]
  },
  {
   "cell_type": "code",
   "execution_count": 47,
   "metadata": {},
   "outputs": [
    {
     "data": {
      "text/html": [
       "<div>\n",
       "<style scoped>\n",
       "    .dataframe tbody tr th:only-of-type {\n",
       "        vertical-align: middle;\n",
       "    }\n",
       "\n",
       "    .dataframe tbody tr th {\n",
       "        vertical-align: top;\n",
       "    }\n",
       "\n",
       "    .dataframe thead th {\n",
       "        text-align: right;\n",
       "    }\n",
       "</style>\n",
       "<table border=\"1\" class=\"dataframe\">\n",
       "  <thead>\n",
       "    <tr style=\"text-align: right;\">\n",
       "      <th></th>\n",
       "      <th>Poll Type</th>\n",
       "      <th>Poll Count</th>\n",
       "    </tr>\n",
       "  </thead>\n",
       "  <tbody>\n",
       "    <tr>\n",
       "      <td>1</td>\n",
       "      <td>Cell &amp; Landline</td>\n",
       "      <td>33</td>\n",
       "    </tr>\n",
       "    <tr>\n",
       "      <td>7</td>\n",
       "      <td>Online</td>\n",
       "      <td>22</td>\n",
       "    </tr>\n",
       "    <tr>\n",
       "      <td>8</td>\n",
       "      <td>Mail</td>\n",
       "      <td>6</td>\n",
       "    </tr>\n",
       "    <tr>\n",
       "      <td>2</td>\n",
       "      <td>Landline &amp; Online</td>\n",
       "      <td>3</td>\n",
       "    </tr>\n",
       "    <tr>\n",
       "      <td>5</td>\n",
       "      <td>Cell &amp; Land &amp; Online</td>\n",
       "      <td>2</td>\n",
       "    </tr>\n",
       "    <tr>\n",
       "      <td>6</td>\n",
       "      <td>Cell &amp; Online</td>\n",
       "      <td>2</td>\n",
       "    </tr>\n",
       "    <tr>\n",
       "      <td>0</td>\n",
       "      <td>Landline</td>\n",
       "      <td>1</td>\n",
       "    </tr>\n",
       "    <tr>\n",
       "      <td>3</td>\n",
       "      <td>Landline &amp; Text</td>\n",
       "      <td>1</td>\n",
       "    </tr>\n",
       "    <tr>\n",
       "      <td>4</td>\n",
       "      <td>Cell &amp; Land &amp; Text</td>\n",
       "      <td>1</td>\n",
       "    </tr>\n",
       "  </tbody>\n",
       "</table>\n",
       "</div>"
      ],
      "text/plain": [
       "              Poll Type  Poll Count\n",
       "1       Cell & Landline          33\n",
       "7                Online          22\n",
       "8                  Mail           6\n",
       "2     Landline & Online           3\n",
       "5  Cell & Land & Online           2\n",
       "6         Cell & Online           2\n",
       "0              Landline           1\n",
       "3       Landline & Text           1\n",
       "4    Cell & Land & Text           1"
      ]
     },
     "execution_count": 47,
     "metadata": {},
     "output_type": "execute_result"
    }
   ],
   "source": [
    "polls_df"
   ]
  },
  {
   "cell_type": "code",
   "execution_count": 48,
   "metadata": {},
   "outputs": [],
   "source": [
    "types = list(polls_df['Poll Type'].values)"
   ]
  },
  {
   "cell_type": "code",
   "execution_count": 49,
   "metadata": {},
   "outputs": [
    {
     "data": {
      "application/vnd.vegalite.v3+json": {
       "$schema": "https://vega.github.io/schema/vega-lite/v3.4.0.json",
       "background": "white",
       "config": {
        "arc": {
         "fill": "#82c6df"
        },
        "area": {
         "fill": "#82c6df"
        },
        "axis": {
         "labelFont": "Benton Gothic, sans",
         "labelFontSize": 11.5,
         "labelFontWeight": "normal",
         "titleFont": "Benton Gothic Bold, sans",
         "titleFontSize": 13,
         "titleFontWeight": "normal"
        },
        "axisX": {
         "labelAngle": 0,
         "labelPadding": 4,
         "tickSize": 3
        },
        "axisY": {
         "labelBaseline": "middle",
         "maxExtent": 45,
         "minExtent": 45,
         "tickSize": 2,
         "titleAlign": "left",
         "titleAngle": 0,
         "titleX": -45,
         "titleY": -11
        },
        "background": "#ffffff",
        "bar": {
         "fill": "#82c6df"
        },
        "legend": {
         "labelFont": "Benton Gothic, sans",
         "labelFontSize": 11.5,
         "symbolType": "square",
         "titleFont": "Benton Gothic Bold, sans",
         "titleFontSize": 13,
         "titleFontWeight": "normal"
        },
        "line": {
         "stroke": "#82c6df",
         "strokeWidth": 3
        },
        "path": {
         "stroke": "#82c6df"
        },
        "point": {
         "stroke": "#82c6df"
        },
        "range": {
         "category": [
          "#3580b1",
          "#ec8431",
          "#ab7fb4",
          "#c89d29",
          "#adc839",
          "#829eb1"
         ],
         "diverging": [
          "#e68a4f",
          "#f4bb6a",
          "#f9e39c",
          "#dadfe2",
          "#a6b7c6",
          "#849eae"
         ],
         "heatmap": [
          "#fbf2c7",
          "#f9e39c",
          "#f8d36e",
          "#f4bb6a",
          "#e68a4f",
          "#d15a40",
          "#ab4232"
         ],
         "ordinal": [
          "#fbf2c7",
          "#f9e39c",
          "#f8d36e",
          "#f4bb6a",
          "#e68a4f",
          "#d15a40",
          "#ab4232"
         ],
         "ramp": [
          "#fbf2c7",
          "#f9e39c",
          "#f8d36e",
          "#f4bb6a",
          "#e68a4f",
          "#d15a40",
          "#ab4232"
         ]
        },
        "rect": {
         "fill": "#82c6df"
        },
        "shape": {
         "stroke": "#82c6df"
        },
        "symbol": {
         "fill": "#82c6df",
         "size": 30
        },
        "title": {
         "anchor": "start",
         "font": "Benton Gothic Bold, sans",
         "fontColor": "#000000",
         "fontSize": 22,
         "fontWeight": "normal"
        },
        "view": {
         "height": 450,
         "width": 800
        }
       },
       "data": {
        "name": "data-0825ede25802420cbc709a1a763287d1"
       },
       "datasets": {
        "data-0825ede25802420cbc709a1a763287d1": [
         {
          "Poll Count": 33,
          "Poll Type": "Cell & Landline"
         },
         {
          "Poll Count": 22,
          "Poll Type": "Online"
         },
         {
          "Poll Count": 6,
          "Poll Type": "Mail"
         },
         {
          "Poll Count": 3,
          "Poll Type": "Landline & Online"
         },
         {
          "Poll Count": 2,
          "Poll Type": "Cell & Land & Online"
         },
         {
          "Poll Count": 2,
          "Poll Type": "Cell & Online"
         },
         {
          "Poll Count": 1,
          "Poll Type": "Landline"
         },
         {
          "Poll Count": 1,
          "Poll Type": "Landline & Text"
         },
         {
          "Poll Count": 1,
          "Poll Type": "Cell & Land & Text"
         }
        ]
       },
       "encoding": {
        "x": {
         "field": "Poll Count",
         "title": "# of Pollsters",
         "type": "quantitative"
        },
        "y": {
         "field": "Poll Type",
         "sort": [
          "Cell & Landline",
          "Online",
          "Mail",
          "Landline & Online",
          "Cell & Land & Online",
          "Cell & Online",
          "Landline",
          "Landline & Text",
          "Cell & Land & Text"
         ],
         "type": "nominal"
        }
       },
       "mark": "bar",
       "title": "Pollster Method Counts"
      },
      "image/png": "[encoded data removed]",
      "text/plain": [
       "<VegaLite 3 object>\n",
       "\n",
       "If you see this message, it means the renderer has not been properly enabled\n",
       "for the frontend that you are using. For more information, see\n",
       "https://altair-viz.github.io/user_guide/troubleshooting.html\n"
      ]
     },
     "execution_count": 49,
     "metadata": {},
     "output_type": "execute_result"
    }
   ],
   "source": [
    "alt.Chart(polls_df, title='Pollster Method Counts').mark_bar().encode(\n",
    "    y=alt.Y('Poll Type', sort=types),\n",
    "    x=alt.X('Poll Count', title='# of Pollsters')).properties(background='white')"
   ]
  },
  {
   "cell_type": "markdown",
   "metadata": {},
   "source": [
    "---"
   ]
  },
  {
   "cell_type": "markdown",
   "metadata": {},
   "source": [
    "### Findings:\n",
    "- Online is the most utilized method for national polls\n",
    "- Cell/Landline is the most utilized method for state polls"
   ]
  },
  {
   "cell_type": "markdown",
   "metadata": {},
   "source": [
    "---"
   ]
  }
 ],
 "metadata": {
  "kernelspec": {
   "display_name": "Python 3",
   "language": "python",
   "name": "python3"
  },
  "language_info": {
   "codemirror_mode": {
    "name": "ipython",
    "version": 3
   },
   "file_extension": ".py",
   "mimetype": "text/x-python",
   "name": "python",
   "nbconvert_exporter": "python",
   "pygments_lexer": "ipython3",
   "version": "3.6.7"
  }
 },
 "nbformat": 4,
 "nbformat_minor": 4
}
